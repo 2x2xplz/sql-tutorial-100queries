{
 "cells": [
  {
   "cell_type": "markdown",
   "id": "2caca289-3ed0-4625-95d6-adf87b7a9d52",
   "metadata": {},
   "source": [
    "# SQL Tutorial 3: Joins"
   ]
  },
  {
   "cell_type": "markdown",
   "id": "da65aea9-7a6a-4b69-8250-24cef4cbe175",
   "metadata": {},
   "source": [
    "-   Let's use a database of experimental plate assays"
   ]
  },
  {
   "cell_type": "code",
   "execution_count": 1,
   "id": "099011ba-971f-4319-b3d8-9764d13c49d7",
   "metadata": {
    "execution": {
     "iopub.execute_input": "2024-01-19T20:59:59.733412Z",
     "iopub.status.busy": "2024-01-19T20:59:59.732790Z",
     "iopub.status.idle": "2024-01-19T21:00:00.548462Z",
     "shell.execute_reply": "2024-01-19T21:00:00.546896Z"
    }
   },
   "outputs": [
    {
     "data": {
      "text/html": [
       "<span style=\"None\">Connecting to &#x27;sqlite:///data/assays.db&#x27;</span>"
      ],
      "text/plain": [
       "Connecting to 'sqlite:///data/assays.db'"
      ]
     },
     "metadata": {},
     "output_type": "display_data"
    }
   ],
   "source": [
    "%load_ext sql\n",
    "%config SqlMagic.autolimit = 0\n",
    "%config SqlMagic.displaylimit = 0\n",
    "%sql sqlite:///data/assays.db"
   ]
  },
  {
   "cell_type": "markdown",
   "id": "80cedc34-4c48-4310-ad15-2df171e69494",
   "metadata": {},
   "source": [
    "-   Has six tables, but we'll start with these two\n",
    "    -   `cid`: column ID (SQL lets use use numeric column IDs in some places, but please don't)\n",
    "    -   `name`: column name\n",
    "    -   `type`: data type (examples below are `INTEGER` and `TEXT`)\n",
    "    -   `notnull`: are `null` values forbidden?\n",
    "    -   `dflt_value`: default value for this column (we'll worry about this later)\n",
    "    -   `pk`: is this the primary key for the table? (a major topic of this lesson)\n",
    "\n",
    "**department**\n",
    "\n",
    "| cid |   name   | type | notnull | dflt_value | pk |\n",
    "|-----|----------|------|---------|------------|----|\n",
    "| 0   | ident    | TEXT | 1       |            | 0  |\n",
    "| 1   | name     | TEXT | 1       |            | 0  |\n",
    "| 2   | building | TEXT | 1       |            | 0  |\n",
    "\n",
    "**staff**\n",
    "\n",
    "| cid |   name   |  type   | notnull | dflt_value | pk |\n",
    "|-----|----------|---------|---------|------------|----|\n",
    "| 0   | ident    | INTEGER | 0       |            | 1  |\n",
    "| 1   | personal | TEXT    | 1       |            | 0  |\n",
    "| 2   | family   | TEXT    | 1       |            | 0  |\n",
    "| 3   | dept     | TEXT    | 0       |            | 0  |"
   ]
  },
  {
   "cell_type": "markdown",
   "id": "f991ffb3-505f-477d-bec5-3e5399b478fa",
   "metadata": {},
   "source": [
    "-   What do these tables contain?"
   ]
  },
  {
   "cell_type": "code",
   "execution_count": 2,
   "id": "8d49d5c8-46d5-4bbf-895d-4823bfc6e8f2",
   "metadata": {
    "execution": {
     "iopub.execute_input": "2024-01-19T21:00:00.554153Z",
     "iopub.status.busy": "2024-01-19T21:00:00.553653Z",
     "iopub.status.idle": "2024-01-19T21:00:00.682477Z",
     "shell.execute_reply": "2024-01-19T21:00:00.681690Z"
    }
   },
   "outputs": [
    {
     "data": {
      "text/html": [
       "<span style=\"None\">Running query in &#x27;sqlite:///data/assays.db&#x27;</span>"
      ],
      "text/plain": [
       "Running query in 'sqlite:///data/assays.db'"
      ]
     },
     "metadata": {},
     "output_type": "display_data"
    },
    {
     "data": {
      "text/html": [
       "<table>\n",
       "    <thead>\n",
       "        <tr>\n",
       "            <th>ident</th>\n",
       "            <th>name</th>\n",
       "            <th>building</th>\n",
       "        </tr>\n",
       "    </thead>\n",
       "    <tbody>\n",
       "        <tr>\n",
       "            <td>gen</td>\n",
       "            <td>Genetics</td>\n",
       "            <td>Chesson</td>\n",
       "        </tr>\n",
       "        <tr>\n",
       "            <td>hist</td>\n",
       "            <td>Histology</td>\n",
       "            <td>Fashet Extension</td>\n",
       "        </tr>\n",
       "        <tr>\n",
       "            <td>mb</td>\n",
       "            <td>Molecular Biology</td>\n",
       "            <td>Chesson</td>\n",
       "        </tr>\n",
       "    </tbody>\n",
       "</table>"
      ],
      "text/plain": [
       "+-------+-------------------+------------------+\n",
       "| ident |        name       |     building     |\n",
       "+-------+-------------------+------------------+\n",
       "|  gen  |      Genetics     |     Chesson      |\n",
       "|  hist |     Histology     | Fashet Extension |\n",
       "|   mb  | Molecular Biology |     Chesson      |\n",
       "+-------+-------------------+------------------+"
      ]
     },
     "execution_count": 2,
     "metadata": {},
     "output_type": "execute_result"
    }
   ],
   "source": [
    "%%sql\n",
    "select * from department;"
   ]
  },
  {
   "cell_type": "code",
   "execution_count": 3,
   "id": "1e6d22a8-58ce-4370-a7ab-70847ba634ee",
   "metadata": {
    "execution": {
     "iopub.execute_input": "2024-01-19T21:00:00.686028Z",
     "iopub.status.busy": "2024-01-19T21:00:00.685748Z",
     "iopub.status.idle": "2024-01-19T21:00:00.823554Z",
     "shell.execute_reply": "2024-01-19T21:00:00.822592Z"
    }
   },
   "outputs": [
    {
     "data": {
      "text/html": [
       "<span style=\"None\">Running query in &#x27;sqlite:///data/assays.db&#x27;</span>"
      ],
      "text/plain": [
       "Running query in 'sqlite:///data/assays.db'"
      ]
     },
     "metadata": {},
     "output_type": "display_data"
    },
    {
     "data": {
      "text/html": [
       "<table>\n",
       "    <thead>\n",
       "        <tr>\n",
       "            <th>ident</th>\n",
       "            <th>personal</th>\n",
       "            <th>family</th>\n",
       "            <th>dept</th>\n",
       "        </tr>\n",
       "    </thead>\n",
       "    <tbody>\n",
       "        <tr>\n",
       "            <td>1</td>\n",
       "            <td>Miraan</td>\n",
       "            <td>Sagar</td>\n",
       "            <td>None</td>\n",
       "        </tr>\n",
       "        <tr>\n",
       "            <td>2</td>\n",
       "            <td>Rohan</td>\n",
       "            <td>Chokshi</td>\n",
       "            <td>mb</td>\n",
       "        </tr>\n",
       "        <tr>\n",
       "            <td>3</td>\n",
       "            <td>Riya</td>\n",
       "            <td>Bahri</td>\n",
       "            <td>hist</td>\n",
       "        </tr>\n",
       "        <tr>\n",
       "            <td>4</td>\n",
       "            <td>Badal</td>\n",
       "            <td>Sura</td>\n",
       "            <td>gen</td>\n",
       "        </tr>\n",
       "        <tr>\n",
       "            <td>5</td>\n",
       "            <td>Rohan</td>\n",
       "            <td>Dara</td>\n",
       "            <td>mb</td>\n",
       "        </tr>\n",
       "        <tr>\n",
       "            <td>6</td>\n",
       "            <td>Sara</td>\n",
       "            <td>Venkatesh</td>\n",
       "            <td>mb</td>\n",
       "        </tr>\n",
       "        <tr>\n",
       "            <td>7</td>\n",
       "            <td>Ela</td>\n",
       "            <td>Mangal</td>\n",
       "            <td>mb</td>\n",
       "        </tr>\n",
       "        <tr>\n",
       "            <td>8</td>\n",
       "            <td>Zeeshan</td>\n",
       "            <td>Varghese</td>\n",
       "            <td>mb</td>\n",
       "        </tr>\n",
       "        <tr>\n",
       "            <td>9</td>\n",
       "            <td>Fateh</td>\n",
       "            <td>Khatri</td>\n",
       "            <td>None</td>\n",
       "        </tr>\n",
       "        <tr>\n",
       "            <td>10</td>\n",
       "            <td>Dhruv</td>\n",
       "            <td>Bhardwaj</td>\n",
       "            <td>None</td>\n",
       "        </tr>\n",
       "    </tbody>\n",
       "</table>"
      ],
      "text/plain": [
       "+-------+----------+-----------+------+\n",
       "| ident | personal |   family  | dept |\n",
       "+-------+----------+-----------+------+\n",
       "|   1   |  Miraan  |   Sagar   | None |\n",
       "|   2   |  Rohan   |  Chokshi  |  mb  |\n",
       "|   3   |   Riya   |   Bahri   | hist |\n",
       "|   4   |  Badal   |    Sura   | gen  |\n",
       "|   5   |  Rohan   |    Dara   |  mb  |\n",
       "|   6   |   Sara   | Venkatesh |  mb  |\n",
       "|   7   |   Ela    |   Mangal  |  mb  |\n",
       "|   8   | Zeeshan  |  Varghese |  mb  |\n",
       "|   9   |  Fateh   |   Khatri  | None |\n",
       "|   10  |  Dhruv   |  Bhardwaj | None |\n",
       "+-------+----------+-----------+------+"
      ]
     },
     "execution_count": 3,
     "metadata": {},
     "output_type": "execute_result"
    }
   ],
   "source": [
    "%%sql\n",
    "select * from staff;"
   ]
  },
  {
   "cell_type": "markdown",
   "id": "19ab37b9-cca9-42bb-bf2a-edb70920b834",
   "metadata": {},
   "source": [
    "-   What building does each person work in?"
   ]
  },
  {
   "cell_type": "code",
   "execution_count": 4,
   "id": "cf04b2c8-6f97-47ae-bc45-6e833174ceb8",
   "metadata": {
    "execution": {
     "iopub.execute_input": "2024-01-19T21:00:00.828646Z",
     "iopub.status.busy": "2024-01-19T21:00:00.828228Z",
     "iopub.status.idle": "2024-01-19T21:00:00.968495Z",
     "shell.execute_reply": "2024-01-19T21:00:00.967008Z"
    }
   },
   "outputs": [
    {
     "data": {
      "text/html": [
       "<span style=\"None\">Running query in &#x27;sqlite:///data/assays.db&#x27;</span>"
      ],
      "text/plain": [
       "Running query in 'sqlite:///data/assays.db'"
      ]
     },
     "metadata": {},
     "output_type": "display_data"
    },
    {
     "data": {
      "text/html": [
       "<table>\n",
       "    <thead>\n",
       "        <tr>\n",
       "            <th>personal</th>\n",
       "            <th>family</th>\n",
       "            <th>name</th>\n",
       "        </tr>\n",
       "    </thead>\n",
       "    <tbody>\n",
       "        <tr>\n",
       "            <td>Rohan</td>\n",
       "            <td>Chokshi</td>\n",
       "            <td>Molecular Biology</td>\n",
       "        </tr>\n",
       "        <tr>\n",
       "            <td>Riya</td>\n",
       "            <td>Bahri</td>\n",
       "            <td>Histology</td>\n",
       "        </tr>\n",
       "        <tr>\n",
       "            <td>Badal</td>\n",
       "            <td>Sura</td>\n",
       "            <td>Genetics</td>\n",
       "        </tr>\n",
       "        <tr>\n",
       "            <td>Rohan</td>\n",
       "            <td>Dara</td>\n",
       "            <td>Molecular Biology</td>\n",
       "        </tr>\n",
       "        <tr>\n",
       "            <td>Sara</td>\n",
       "            <td>Venkatesh</td>\n",
       "            <td>Molecular Biology</td>\n",
       "        </tr>\n",
       "        <tr>\n",
       "            <td>Ela</td>\n",
       "            <td>Mangal</td>\n",
       "            <td>Molecular Biology</td>\n",
       "        </tr>\n",
       "        <tr>\n",
       "            <td>Zeeshan</td>\n",
       "            <td>Varghese</td>\n",
       "            <td>Molecular Biology</td>\n",
       "        </tr>\n",
       "    </tbody>\n",
       "</table>"
      ],
      "text/plain": [
       "+----------+-----------+-------------------+\n",
       "| personal |   family  |        name       |\n",
       "+----------+-----------+-------------------+\n",
       "|  Rohan   |  Chokshi  | Molecular Biology |\n",
       "|   Riya   |   Bahri   |     Histology     |\n",
       "|  Badal   |    Sura   |      Genetics     |\n",
       "|  Rohan   |    Dara   | Molecular Biology |\n",
       "|   Sara   | Venkatesh | Molecular Biology |\n",
       "|   Ela    |   Mangal  | Molecular Biology |\n",
       "| Zeeshan  |  Varghese | Molecular Biology |\n",
       "+----------+-----------+-------------------+"
      ]
     },
     "execution_count": 4,
     "metadata": {},
     "output_type": "execute_result"
    }
   ],
   "source": [
    "%%sql\n",
    "select\n",
    "    staff.personal,\n",
    "    staff.family,\n",
    "    department.name\n",
    "from staff inner join department\n",
    "on staff.dept = department.ident;"
   ]
  },
  {
   "cell_type": "markdown",
   "id": "521856ca-96da-476f-84ab-3fd72d7ad7a9",
   "metadata": {},
   "source": [
    "-   A *join* combines all rows from one table with all rows from another\n",
    "    -   *inner join* only keeps the rows where the `on` condition is satisfied\n",
    "-   Use `table.column` syntax to avoid ambiguity\n",
    "    -   Both `staff` and `department` have an `ident` column\n",
    "-   Staff with no department are not included in the results because `null` doesn't match a department ID\n",
    "-   Use a *left outer join* to keep all rows from the left table even if there aren't matches\n",
    "    -   Fill missing values with `null`"
   ]
  },
  {
   "cell_type": "code",
   "execution_count": 5,
   "id": "f0557d2b-777d-4f3e-a9d6-34d018551896",
   "metadata": {
    "execution": {
     "iopub.execute_input": "2024-01-19T21:00:00.974420Z",
     "iopub.status.busy": "2024-01-19T21:00:00.973901Z",
     "iopub.status.idle": "2024-01-19T21:00:01.143977Z",
     "shell.execute_reply": "2024-01-19T21:00:01.142750Z"
    }
   },
   "outputs": [
    {
     "data": {
      "text/html": [
       "<span style=\"None\">Running query in &#x27;sqlite:///data/assays.db&#x27;</span>"
      ],
      "text/plain": [
       "Running query in 'sqlite:///data/assays.db'"
      ]
     },
     "metadata": {},
     "output_type": "display_data"
    },
    {
     "data": {
      "text/html": [
       "<table>\n",
       "    <thead>\n",
       "        <tr>\n",
       "            <th>personal</th>\n",
       "            <th>family</th>\n",
       "            <th>name</th>\n",
       "        </tr>\n",
       "    </thead>\n",
       "    <tbody>\n",
       "        <tr>\n",
       "            <td>Miraan</td>\n",
       "            <td>Sagar</td>\n",
       "            <td>None</td>\n",
       "        </tr>\n",
       "        <tr>\n",
       "            <td>Rohan</td>\n",
       "            <td>Chokshi</td>\n",
       "            <td>Molecular Biology</td>\n",
       "        </tr>\n",
       "        <tr>\n",
       "            <td>Riya</td>\n",
       "            <td>Bahri</td>\n",
       "            <td>Histology</td>\n",
       "        </tr>\n",
       "        <tr>\n",
       "            <td>Badal</td>\n",
       "            <td>Sura</td>\n",
       "            <td>Genetics</td>\n",
       "        </tr>\n",
       "        <tr>\n",
       "            <td>Rohan</td>\n",
       "            <td>Dara</td>\n",
       "            <td>Molecular Biology</td>\n",
       "        </tr>\n",
       "        <tr>\n",
       "            <td>Sara</td>\n",
       "            <td>Venkatesh</td>\n",
       "            <td>Molecular Biology</td>\n",
       "        </tr>\n",
       "        <tr>\n",
       "            <td>Ela</td>\n",
       "            <td>Mangal</td>\n",
       "            <td>Molecular Biology</td>\n",
       "        </tr>\n",
       "        <tr>\n",
       "            <td>Zeeshan</td>\n",
       "            <td>Varghese</td>\n",
       "            <td>Molecular Biology</td>\n",
       "        </tr>\n",
       "        <tr>\n",
       "            <td>Fateh</td>\n",
       "            <td>Khatri</td>\n",
       "            <td>None</td>\n",
       "        </tr>\n",
       "        <tr>\n",
       "            <td>Dhruv</td>\n",
       "            <td>Bhardwaj</td>\n",
       "            <td>None</td>\n",
       "        </tr>\n",
       "    </tbody>\n",
       "</table>"
      ],
      "text/plain": [
       "+----------+-----------+-------------------+\n",
       "| personal |   family  |        name       |\n",
       "+----------+-----------+-------------------+\n",
       "|  Miraan  |   Sagar   |        None       |\n",
       "|  Rohan   |  Chokshi  | Molecular Biology |\n",
       "|   Riya   |   Bahri   |     Histology     |\n",
       "|  Badal   |    Sura   |      Genetics     |\n",
       "|  Rohan   |    Dara   | Molecular Biology |\n",
       "|   Sara   | Venkatesh | Molecular Biology |\n",
       "|   Ela    |   Mangal  | Molecular Biology |\n",
       "| Zeeshan  |  Varghese | Molecular Biology |\n",
       "|  Fateh   |   Khatri  |        None       |\n",
       "|  Dhruv   |  Bhardwaj |        None       |\n",
       "+----------+-----------+-------------------+"
      ]
     },
     "execution_count": 5,
     "metadata": {},
     "output_type": "execute_result"
    }
   ],
   "source": [
    "%%sql\n",
    "select\n",
    "    staff.personal,\n",
    "    staff.family,\n",
    "    department.name\n",
    "from staff left outer join department\n",
    "on staff.dept = department.ident;"
   ]
  },
  {
   "cell_type": "markdown",
   "id": "51ca67ac-d1da-4ac9-801b-5120dd8e31d5",
   "metadata": {},
   "source": [
    ">   A *right outer join* keeps all rows from the right table, even if there aren't matches.\n",
    ">   SQLite doesn't bother to implement it, since you can achieve the same effect by swapping table order.\n",
    ">   It *does* implement *full outer join*, which keeps unmatched rows from both sides (again, filling with nulls as needed)."
   ]
  },
  {
   "cell_type": "markdown",
   "id": "0fd64f51-a236-4415-8cc9-5ebd7bab1f0d",
   "metadata": {},
   "source": [
    "-   Let's look at two more tables: `experiment` records the experiments that have been done, and `performed` records who has done which\n",
    "\n",
    "**experiment**\n",
    "\n",
    "| cid |  name   |  type   | notnull | dflt_value | pk |\n",
    "|-----|---------|---------|---------|------------|----|\n",
    "| 0   | ident   | INTEGER | 0       |            | 1  |\n",
    "| 1   | kind    | TEXT    | 1       |            | 0  |\n",
    "| 2   | started | TEXT    | 1       |            | 0  |\n",
    "| 3   | ended   | TEXT    | 0       |            | 0  |\n",
    "\n",
    "**performed**\n",
    "\n",
    "| cid |    name    |  type   | notnull | dflt_value | pk |\n",
    "|-----|------------|---------|---------|------------|----|\n",
    "| 0   | staff      | INTEGER | 1       |            | 0  |\n",
    "| 1   | experiment | INTEGER | 1       |            | 0  |"
   ]
  },
  {
   "cell_type": "markdown",
   "id": "043c2dad-f542-4021-bb72-8b9a53b00616",
   "metadata": {},
   "source": [
    "-   `performed` is sometimes called a *join table* because it's only purpose is to connect two other tables.\n",
    "-   Why is it needed?\n",
    "-   The relationship between `department` and `staff` is *one-to-many*\n",
    "    -   Represent this by storing a *foreign key* in `staff` that refers to a *primary key* in `department`\n",
    "-   The relationship between `staff` and `experiment` is *many-to-many*\n",
    "    -   One person might do many experiments\n",
    "    -   Each experiment might be done by many people\n",
    "    -   So store each (person, experiment) pair in `performed`\n",
    "-   There are a lot of experiments, so let's be selective"
   ]
  },
  {
   "cell_type": "code",
   "execution_count": 6,
   "id": "2eb9688b-0c9a-448b-99d3-b553ef6dfb22",
   "metadata": {
    "execution": {
     "iopub.execute_input": "2024-01-19T21:00:01.149789Z",
     "iopub.status.busy": "2024-01-19T21:00:01.149400Z",
     "iopub.status.idle": "2024-01-19T21:00:01.270448Z",
     "shell.execute_reply": "2024-01-19T21:00:01.269453Z"
    }
   },
   "outputs": [
    {
     "data": {
      "text/html": [
       "<span style=\"None\">Running query in &#x27;sqlite:///data/assays.db&#x27;</span>"
      ],
      "text/plain": [
       "Running query in 'sqlite:///data/assays.db'"
      ]
     },
     "metadata": {},
     "output_type": "display_data"
    },
    {
     "data": {
      "text/html": [
       "<table>\n",
       "    <thead>\n",
       "        <tr>\n",
       "            <th>ident</th>\n",
       "            <th>personal</th>\n",
       "            <th>family</th>\n",
       "            <th>dept</th>\n",
       "            <th>staff</th>\n",
       "            <th>experiment</th>\n",
       "            <th>ident_1</th>\n",
       "            <th>kind</th>\n",
       "            <th>started</th>\n",
       "            <th>ended</th>\n",
       "        </tr>\n",
       "    </thead>\n",
       "    <tbody>\n",
       "        <tr>\n",
       "            <td>1</td>\n",
       "            <td>Miraan</td>\n",
       "            <td>Sagar</td>\n",
       "            <td>None</td>\n",
       "            <td>1</td>\n",
       "            <td>3</td>\n",
       "            <td>3</td>\n",
       "            <td>trial</td>\n",
       "            <td>2023-10-10</td>\n",
       "            <td>2023-10-11</td>\n",
       "        </tr>\n",
       "        <tr>\n",
       "            <td>1</td>\n",
       "            <td>Miraan</td>\n",
       "            <td>Sagar</td>\n",
       "            <td>None</td>\n",
       "            <td>1</td>\n",
       "            <td>19</td>\n",
       "            <td>19</td>\n",
       "            <td>trial</td>\n",
       "            <td>2023-12-16</td>\n",
       "            <td>2023-12-17</td>\n",
       "        </tr>\n",
       "        <tr>\n",
       "            <td>2</td>\n",
       "            <td>Rohan</td>\n",
       "            <td>Chokshi</td>\n",
       "            <td>mb</td>\n",
       "            <td>2</td>\n",
       "            <td>28</td>\n",
       "            <td>28</td>\n",
       "            <td>trial</td>\n",
       "            <td>2023-05-14</td>\n",
       "            <td>2023-05-15</td>\n",
       "        </tr>\n",
       "        <tr>\n",
       "            <td>1</td>\n",
       "            <td>Miraan</td>\n",
       "            <td>Sagar</td>\n",
       "            <td>None</td>\n",
       "            <td>1</td>\n",
       "            <td>28</td>\n",
       "            <td>28</td>\n",
       "            <td>trial</td>\n",
       "            <td>2023-05-14</td>\n",
       "            <td>2023-05-15</td>\n",
       "        </tr>\n",
       "        <tr>\n",
       "            <td>1</td>\n",
       "            <td>Miraan</td>\n",
       "            <td>Sagar</td>\n",
       "            <td>None</td>\n",
       "            <td>1</td>\n",
       "            <td>29</td>\n",
       "            <td>29</td>\n",
       "            <td>calibration</td>\n",
       "            <td>2023-10-11</td>\n",
       "            <td>2023-10-11</td>\n",
       "        </tr>\n",
       "        <tr>\n",
       "            <td>2</td>\n",
       "            <td>Rohan</td>\n",
       "            <td>Chokshi</td>\n",
       "            <td>mb</td>\n",
       "            <td>2</td>\n",
       "            <td>32</td>\n",
       "            <td>32</td>\n",
       "            <td>trial</td>\n",
       "            <td>2023-06-28</td>\n",
       "            <td>2023-06-29</td>\n",
       "        </tr>\n",
       "        <tr>\n",
       "            <td>1</td>\n",
       "            <td>Miraan</td>\n",
       "            <td>Sagar</td>\n",
       "            <td>None</td>\n",
       "            <td>1</td>\n",
       "            <td>37</td>\n",
       "            <td>37</td>\n",
       "            <td>trial</td>\n",
       "            <td>2023-12-02</td>\n",
       "            <td>2023-12-04</td>\n",
       "        </tr>\n",
       "        <tr>\n",
       "            <td>1</td>\n",
       "            <td>Miraan</td>\n",
       "            <td>Sagar</td>\n",
       "            <td>None</td>\n",
       "            <td>1</td>\n",
       "            <td>39</td>\n",
       "            <td>39</td>\n",
       "            <td>calibration</td>\n",
       "            <td>2024-01-21</td>\n",
       "            <td>2024-01-21</td>\n",
       "        </tr>\n",
       "        <tr>\n",
       "            <td>1</td>\n",
       "            <td>Miraan</td>\n",
       "            <td>Sagar</td>\n",
       "            <td>None</td>\n",
       "            <td>1</td>\n",
       "            <td>42</td>\n",
       "            <td>42</td>\n",
       "            <td>trial</td>\n",
       "            <td>2023-06-04</td>\n",
       "            <td>2023-06-06</td>\n",
       "        </tr>\n",
       "        <tr>\n",
       "            <td>1</td>\n",
       "            <td>Miraan</td>\n",
       "            <td>Sagar</td>\n",
       "            <td>None</td>\n",
       "            <td>1</td>\n",
       "            <td>46</td>\n",
       "            <td>46</td>\n",
       "            <td>trial</td>\n",
       "            <td>2023-06-17</td>\n",
       "            <td>2023-06-19</td>\n",
       "        </tr>\n",
       "        <tr>\n",
       "            <td>2</td>\n",
       "            <td>Rohan</td>\n",
       "            <td>Chokshi</td>\n",
       "            <td>mb</td>\n",
       "            <td>2</td>\n",
       "            <td>50</td>\n",
       "            <td>50</td>\n",
       "            <td>trial</td>\n",
       "            <td>2023-10-09</td>\n",
       "            <td>2023-10-10</td>\n",
       "        </tr>\n",
       "    </tbody>\n",
       "</table>"
      ],
      "text/plain": [
       "+-------+----------+---------+------+-------+------------+---------+-------------+------------+------------+\n",
       "| ident | personal |  family | dept | staff | experiment | ident_1 |     kind    |  started   |   ended    |\n",
       "+-------+----------+---------+------+-------+------------+---------+-------------+------------+------------+\n",
       "|   1   |  Miraan  |  Sagar  | None |   1   |     3      |    3    |    trial    | 2023-10-10 | 2023-10-11 |\n",
       "|   1   |  Miraan  |  Sagar  | None |   1   |     19     |    19   |    trial    | 2023-12-16 | 2023-12-17 |\n",
       "|   2   |  Rohan   | Chokshi |  mb  |   2   |     28     |    28   |    trial    | 2023-05-14 | 2023-05-15 |\n",
       "|   1   |  Miraan  |  Sagar  | None |   1   |     28     |    28   |    trial    | 2023-05-14 | 2023-05-15 |\n",
       "|   1   |  Miraan  |  Sagar  | None |   1   |     29     |    29   | calibration | 2023-10-11 | 2023-10-11 |\n",
       "|   2   |  Rohan   | Chokshi |  mb  |   2   |     32     |    32   |    trial    | 2023-06-28 | 2023-06-29 |\n",
       "|   1   |  Miraan  |  Sagar  | None |   1   |     37     |    37   |    trial    | 2023-12-02 | 2023-12-04 |\n",
       "|   1   |  Miraan  |  Sagar  | None |   1   |     39     |    39   | calibration | 2024-01-21 | 2024-01-21 |\n",
       "|   1   |  Miraan  |  Sagar  | None |   1   |     42     |    42   |    trial    | 2023-06-04 | 2023-06-06 |\n",
       "|   1   |  Miraan  |  Sagar  | None |   1   |     46     |    46   |    trial    | 2023-06-17 | 2023-06-19 |\n",
       "|   2   |  Rohan   | Chokshi |  mb  |   2   |     50     |    50   |    trial    | 2023-10-09 | 2023-10-10 |\n",
       "+-------+----------+---------+------+-------+------------+---------+-------------+------------+------------+"
      ]
     },
     "execution_count": 6,
     "metadata": {},
     "output_type": "execute_result"
    }
   ],
   "source": [
    "%%sql\n",
    "select *\n",
    "from staff inner join performed inner join experiment\n",
    "on staff.ident = performed.staff and performed.experiment = experiment.ident\n",
    "where staff.ident in (1, 2);"
   ]
  },
  {
   "cell_type": "markdown",
   "id": "d546fffc-1648-4d09-a752-54d599d66831",
   "metadata": {},
   "source": [
    "-   First step: database combines `staff` with `performed` by matching primary key in the former to foreign key in the latter\n",
    "    -   We'll only show the first few rows of the result"
   ]
  },
  {
   "cell_type": "code",
   "execution_count": 7,
   "id": "c1c483dc-010c-408d-b3af-c7a76652af67",
   "metadata": {
    "execution": {
     "iopub.execute_input": "2024-01-19T21:00:01.275447Z",
     "iopub.status.busy": "2024-01-19T21:00:01.275051Z",
     "iopub.status.idle": "2024-01-19T21:00:01.390400Z",
     "shell.execute_reply": "2024-01-19T21:00:01.389433Z"
    }
   },
   "outputs": [
    {
     "data": {
      "text/html": [
       "<span style=\"None\">Running query in &#x27;sqlite:///data/assays.db&#x27;</span>"
      ],
      "text/plain": [
       "Running query in 'sqlite:///data/assays.db'"
      ]
     },
     "metadata": {},
     "output_type": "display_data"
    },
    {
     "data": {
      "text/html": [
       "<table>\n",
       "    <thead>\n",
       "        <tr>\n",
       "            <th>ident</th>\n",
       "            <th>personal</th>\n",
       "            <th>family</th>\n",
       "            <th>dept</th>\n",
       "            <th>staff</th>\n",
       "            <th>experiment</th>\n",
       "        </tr>\n",
       "    </thead>\n",
       "    <tbody>\n",
       "        <tr>\n",
       "            <td>5</td>\n",
       "            <td>Rohan</td>\n",
       "            <td>Dara</td>\n",
       "            <td>mb</td>\n",
       "            <td>5</td>\n",
       "            <td>1</td>\n",
       "        </tr>\n",
       "        <tr>\n",
       "            <td>5</td>\n",
       "            <td>Rohan</td>\n",
       "            <td>Dara</td>\n",
       "            <td>mb</td>\n",
       "            <td>5</td>\n",
       "            <td>2</td>\n",
       "        </tr>\n",
       "        <tr>\n",
       "            <td>7</td>\n",
       "            <td>Ela</td>\n",
       "            <td>Mangal</td>\n",
       "            <td>mb</td>\n",
       "            <td>7</td>\n",
       "            <td>2</td>\n",
       "        </tr>\n",
       "        <tr>\n",
       "            <td>1</td>\n",
       "            <td>Miraan</td>\n",
       "            <td>Sagar</td>\n",
       "            <td>None</td>\n",
       "            <td>1</td>\n",
       "            <td>3</td>\n",
       "        </tr>\n",
       "        <tr>\n",
       "            <td>8</td>\n",
       "            <td>Zeeshan</td>\n",
       "            <td>Varghese</td>\n",
       "            <td>mb</td>\n",
       "            <td>8</td>\n",
       "            <td>4</td>\n",
       "        </tr>\n",
       "    </tbody>\n",
       "</table>"
      ],
      "text/plain": [
       "+-------+----------+----------+------+-------+------------+\n",
       "| ident | personal |  family  | dept | staff | experiment |\n",
       "+-------+----------+----------+------+-------+------------+\n",
       "|   5   |  Rohan   |   Dara   |  mb  |   5   |     1      |\n",
       "|   5   |  Rohan   |   Dara   |  mb  |   5   |     2      |\n",
       "|   7   |   Ela    |  Mangal  |  mb  |   7   |     2      |\n",
       "|   1   |  Miraan  |  Sagar   | None |   1   |     3      |\n",
       "|   8   | Zeeshan  | Varghese |  mb  |   8   |     4      |\n",
       "+-------+----------+----------+------+-------+------------+"
      ]
     },
     "execution_count": 7,
     "metadata": {},
     "output_type": "execute_result"
    }
   ],
   "source": [
    "%%sql\n",
    "select *\n",
    "from staff inner join performed\n",
    "on staff.ident = performed.staff\n",
    "limit 5;"
   ]
  },
  {
   "cell_type": "markdown",
   "id": "1ff658df-e1e3-4b85-9b45-028591a6498c",
   "metadata": {},
   "source": [
    "-   Second step: database combines this temporary table with `experiment` by matching keys\n",
    "    -   Again, only show a few rows"
   ]
  },
  {
   "cell_type": "code",
   "execution_count": 8,
   "id": "4b0b72bc-a7fc-49f0-8c4c-ae0db5d7d45e",
   "metadata": {
    "execution": {
     "iopub.execute_input": "2024-01-19T21:00:01.395878Z",
     "iopub.status.busy": "2024-01-19T21:00:01.395485Z",
     "iopub.status.idle": "2024-01-19T21:00:01.516843Z",
     "shell.execute_reply": "2024-01-19T21:00:01.515797Z"
    }
   },
   "outputs": [
    {
     "data": {
      "text/html": [
       "<span style=\"None\">Running query in &#x27;sqlite:///data/assays.db&#x27;</span>"
      ],
      "text/plain": [
       "Running query in 'sqlite:///data/assays.db'"
      ]
     },
     "metadata": {},
     "output_type": "display_data"
    },
    {
     "data": {
      "text/html": [
       "<table>\n",
       "    <thead>\n",
       "        <tr>\n",
       "            <th>ident</th>\n",
       "            <th>personal</th>\n",
       "            <th>family</th>\n",
       "            <th>dept</th>\n",
       "            <th>staff</th>\n",
       "            <th>experiment</th>\n",
       "            <th>ident_1</th>\n",
       "            <th>kind</th>\n",
       "            <th>started</th>\n",
       "            <th>ended</th>\n",
       "        </tr>\n",
       "    </thead>\n",
       "    <tbody>\n",
       "        <tr>\n",
       "            <td>5</td>\n",
       "            <td>Rohan</td>\n",
       "            <td>Dara</td>\n",
       "            <td>mb</td>\n",
       "            <td>5</td>\n",
       "            <td>1</td>\n",
       "            <td>1</td>\n",
       "            <td>trial</td>\n",
       "            <td>2024-01-02</td>\n",
       "            <td>2024-01-03</td>\n",
       "        </tr>\n",
       "        <tr>\n",
       "            <td>5</td>\n",
       "            <td>Rohan</td>\n",
       "            <td>Dara</td>\n",
       "            <td>mb</td>\n",
       "            <td>5</td>\n",
       "            <td>2</td>\n",
       "            <td>2</td>\n",
       "            <td>trial</td>\n",
       "            <td>2023-03-12</td>\n",
       "            <td>2023-03-13</td>\n",
       "        </tr>\n",
       "        <tr>\n",
       "            <td>7</td>\n",
       "            <td>Ela</td>\n",
       "            <td>Mangal</td>\n",
       "            <td>mb</td>\n",
       "            <td>7</td>\n",
       "            <td>2</td>\n",
       "            <td>2</td>\n",
       "            <td>trial</td>\n",
       "            <td>2023-03-12</td>\n",
       "            <td>2023-03-13</td>\n",
       "        </tr>\n",
       "        <tr>\n",
       "            <td>1</td>\n",
       "            <td>Miraan</td>\n",
       "            <td>Sagar</td>\n",
       "            <td>None</td>\n",
       "            <td>1</td>\n",
       "            <td>3</td>\n",
       "            <td>3</td>\n",
       "            <td>trial</td>\n",
       "            <td>2023-10-10</td>\n",
       "            <td>2023-10-11</td>\n",
       "        </tr>\n",
       "        <tr>\n",
       "            <td>8</td>\n",
       "            <td>Zeeshan</td>\n",
       "            <td>Varghese</td>\n",
       "            <td>mb</td>\n",
       "            <td>8</td>\n",
       "            <td>4</td>\n",
       "            <td>4</td>\n",
       "            <td>calibration</td>\n",
       "            <td>2024-01-19</td>\n",
       "            <td>2024-01-19</td>\n",
       "        </tr>\n",
       "    </tbody>\n",
       "</table>"
      ],
      "text/plain": [
       "+-------+----------+----------+------+-------+------------+---------+-------------+------------+------------+\n",
       "| ident | personal |  family  | dept | staff | experiment | ident_1 |     kind    |  started   |   ended    |\n",
       "+-------+----------+----------+------+-------+------------+---------+-------------+------------+------------+\n",
       "|   5   |  Rohan   |   Dara   |  mb  |   5   |     1      |    1    |    trial    | 2024-01-02 | 2024-01-03 |\n",
       "|   5   |  Rohan   |   Dara   |  mb  |   5   |     2      |    2    |    trial    | 2023-03-12 | 2023-03-13 |\n",
       "|   7   |   Ela    |  Mangal  |  mb  |   7   |     2      |    2    |    trial    | 2023-03-12 | 2023-03-13 |\n",
       "|   1   |  Miraan  |  Sagar   | None |   1   |     3      |    3    |    trial    | 2023-10-10 | 2023-10-11 |\n",
       "|   8   | Zeeshan  | Varghese |  mb  |   8   |     4      |    4    | calibration | 2024-01-19 | 2024-01-19 |\n",
       "+-------+----------+----------+------+-------+------------+---------+-------------+------------+------------+"
      ]
     },
     "execution_count": 8,
     "metadata": {},
     "output_type": "execute_result"
    }
   ],
   "source": [
    "%%sql\n",
    "select *\n",
    "from staff inner join performed inner join experiment\n",
    "on staff.ident = performed.staff and performed.experiment = experiment.ident\n",
    "limit 5;"
   ]
  },
  {
   "cell_type": "markdown",
   "id": "30654858-d31e-4ddc-8e61-3f8868c270eb",
   "metadata": {},
   "source": [
    "-   Third step: database filters the result using `in` and a list of specific staff IDs\n",
    "    -   `staff.ident in (1, 2)` is the same as `(staff.ident = 1) or (staff.ident = 2)`\n",
    "    -   Again, only show a few rows (we saw the full output earlier)"
   ]
  },
  {
   "cell_type": "code",
   "execution_count": 9,
   "id": "665ff621-d063-46f6-a375-bd200295621c",
   "metadata": {
    "execution": {
     "iopub.execute_input": "2024-01-19T21:00:01.522224Z",
     "iopub.status.busy": "2024-01-19T21:00:01.521867Z",
     "iopub.status.idle": "2024-01-19T21:00:01.636311Z",
     "shell.execute_reply": "2024-01-19T21:00:01.635570Z"
    }
   },
   "outputs": [
    {
     "data": {
      "text/html": [
       "<span style=\"None\">Running query in &#x27;sqlite:///data/assays.db&#x27;</span>"
      ],
      "text/plain": [
       "Running query in 'sqlite:///data/assays.db'"
      ]
     },
     "metadata": {},
     "output_type": "display_data"
    },
    {
     "data": {
      "text/html": [
       "<table>\n",
       "    <thead>\n",
       "        <tr>\n",
       "            <th>ident</th>\n",
       "            <th>personal</th>\n",
       "            <th>family</th>\n",
       "            <th>dept</th>\n",
       "            <th>staff</th>\n",
       "            <th>experiment</th>\n",
       "            <th>ident_1</th>\n",
       "            <th>kind</th>\n",
       "            <th>started</th>\n",
       "            <th>ended</th>\n",
       "        </tr>\n",
       "    </thead>\n",
       "    <tbody>\n",
       "        <tr>\n",
       "            <td>1</td>\n",
       "            <td>Miraan</td>\n",
       "            <td>Sagar</td>\n",
       "            <td>None</td>\n",
       "            <td>1</td>\n",
       "            <td>3</td>\n",
       "            <td>3</td>\n",
       "            <td>trial</td>\n",
       "            <td>2023-10-10</td>\n",
       "            <td>2023-10-11</td>\n",
       "        </tr>\n",
       "        <tr>\n",
       "            <td>1</td>\n",
       "            <td>Miraan</td>\n",
       "            <td>Sagar</td>\n",
       "            <td>None</td>\n",
       "            <td>1</td>\n",
       "            <td>19</td>\n",
       "            <td>19</td>\n",
       "            <td>trial</td>\n",
       "            <td>2023-12-16</td>\n",
       "            <td>2023-12-17</td>\n",
       "        </tr>\n",
       "        <tr>\n",
       "            <td>2</td>\n",
       "            <td>Rohan</td>\n",
       "            <td>Chokshi</td>\n",
       "            <td>mb</td>\n",
       "            <td>2</td>\n",
       "            <td>28</td>\n",
       "            <td>28</td>\n",
       "            <td>trial</td>\n",
       "            <td>2023-05-14</td>\n",
       "            <td>2023-05-15</td>\n",
       "        </tr>\n",
       "        <tr>\n",
       "            <td>1</td>\n",
       "            <td>Miraan</td>\n",
       "            <td>Sagar</td>\n",
       "            <td>None</td>\n",
       "            <td>1</td>\n",
       "            <td>28</td>\n",
       "            <td>28</td>\n",
       "            <td>trial</td>\n",
       "            <td>2023-05-14</td>\n",
       "            <td>2023-05-15</td>\n",
       "        </tr>\n",
       "        <tr>\n",
       "            <td>1</td>\n",
       "            <td>Miraan</td>\n",
       "            <td>Sagar</td>\n",
       "            <td>None</td>\n",
       "            <td>1</td>\n",
       "            <td>29</td>\n",
       "            <td>29</td>\n",
       "            <td>calibration</td>\n",
       "            <td>2023-10-11</td>\n",
       "            <td>2023-10-11</td>\n",
       "        </tr>\n",
       "    </tbody>\n",
       "</table>"
      ],
      "text/plain": [
       "+-------+----------+---------+------+-------+------------+---------+-------------+------------+------------+\n",
       "| ident | personal |  family | dept | staff | experiment | ident_1 |     kind    |  started   |   ended    |\n",
       "+-------+----------+---------+------+-------+------------+---------+-------------+------------+------------+\n",
       "|   1   |  Miraan  |  Sagar  | None |   1   |     3      |    3    |    trial    | 2023-10-10 | 2023-10-11 |\n",
       "|   1   |  Miraan  |  Sagar  | None |   1   |     19     |    19   |    trial    | 2023-12-16 | 2023-12-17 |\n",
       "|   2   |  Rohan   | Chokshi |  mb  |   2   |     28     |    28   |    trial    | 2023-05-14 | 2023-05-15 |\n",
       "|   1   |  Miraan  |  Sagar  | None |   1   |     28     |    28   |    trial    | 2023-05-14 | 2023-05-15 |\n",
       "|   1   |  Miraan  |  Sagar  | None |   1   |     29     |    29   | calibration | 2023-10-11 | 2023-10-11 |\n",
       "+-------+----------+---------+------+-------+------------+---------+-------------+------------+------------+"
      ]
     },
     "execution_count": 9,
     "metadata": {},
     "output_type": "execute_result"
    }
   ],
   "source": [
    "%%sql\n",
    "select *\n",
    "from staff inner join performed inner join experiment\n",
    "on staff.ident = performed.staff and performed.experiment = experiment.ident\n",
    "where staff.ident in (1, 2)\n",
    "limit 5;"
   ]
  },
  {
   "cell_type": "markdown",
   "id": "421b4dfc-03c8-4671-b027-e92096f465ca",
   "metadata": {},
   "source": [
    "-   Notice that the `ident` column from `experiment` has been named `ident_1` in the output\n",
    "-   Better practice to slim down the columns (e.g., remove the columns from the join table) and rename any duplicates\n",
    "-   Just for fun, we will add `offset 5` to look at rows *after* row 5 and order by start date\n",
    "    -   Note: sort *then* slice"
   ]
  },
  {
   "cell_type": "code",
   "execution_count": 10,
   "id": "ac30ffd2-1273-4d76-be5a-90b9c02a0240",
   "metadata": {
    "execution": {
     "iopub.execute_input": "2024-01-19T21:00:01.640592Z",
     "iopub.status.busy": "2024-01-19T21:00:01.640307Z",
     "iopub.status.idle": "2024-01-19T21:00:01.803383Z",
     "shell.execute_reply": "2024-01-19T21:00:01.801457Z"
    }
   },
   "outputs": [
    {
     "data": {
      "text/html": [
       "<span style=\"None\">Running query in &#x27;sqlite:///data/assays.db&#x27;</span>"
      ],
      "text/plain": [
       "Running query in 'sqlite:///data/assays.db'"
      ]
     },
     "metadata": {},
     "output_type": "display_data"
    },
    {
     "data": {
      "text/html": [
       "<table>\n",
       "    <thead>\n",
       "        <tr>\n",
       "            <th>personal</th>\n",
       "            <th>family</th>\n",
       "            <th>experiment_id</th>\n",
       "            <th>kind</th>\n",
       "            <th>started</th>\n",
       "            <th>ended</th>\n",
       "        </tr>\n",
       "    </thead>\n",
       "    <tbody>\n",
       "        <tr>\n",
       "            <td>Rohan</td>\n",
       "            <td>Chokshi</td>\n",
       "            <td>50</td>\n",
       "            <td>trial</td>\n",
       "            <td>2023-10-09</td>\n",
       "            <td>2023-10-10</td>\n",
       "        </tr>\n",
       "        <tr>\n",
       "            <td>Miraan</td>\n",
       "            <td>Sagar</td>\n",
       "            <td>3</td>\n",
       "            <td>trial</td>\n",
       "            <td>2023-10-10</td>\n",
       "            <td>2023-10-11</td>\n",
       "        </tr>\n",
       "        <tr>\n",
       "            <td>Miraan</td>\n",
       "            <td>Sagar</td>\n",
       "            <td>29</td>\n",
       "            <td>calibration</td>\n",
       "            <td>2023-10-11</td>\n",
       "            <td>2023-10-11</td>\n",
       "        </tr>\n",
       "        <tr>\n",
       "            <td>Miraan</td>\n",
       "            <td>Sagar</td>\n",
       "            <td>37</td>\n",
       "            <td>trial</td>\n",
       "            <td>2023-12-02</td>\n",
       "            <td>2023-12-04</td>\n",
       "        </tr>\n",
       "        <tr>\n",
       "            <td>Miraan</td>\n",
       "            <td>Sagar</td>\n",
       "            <td>19</td>\n",
       "            <td>trial</td>\n",
       "            <td>2023-12-16</td>\n",
       "            <td>2023-12-17</td>\n",
       "        </tr>\n",
       "    </tbody>\n",
       "</table>"
      ],
      "text/plain": [
       "+----------+---------+---------------+-------------+------------+------------+\n",
       "| personal |  family | experiment_id |     kind    |  started   |   ended    |\n",
       "+----------+---------+---------------+-------------+------------+------------+\n",
       "|  Rohan   | Chokshi |       50      |    trial    | 2023-10-09 | 2023-10-10 |\n",
       "|  Miraan  |  Sagar  |       3       |    trial    | 2023-10-10 | 2023-10-11 |\n",
       "|  Miraan  |  Sagar  |       29      | calibration | 2023-10-11 | 2023-10-11 |\n",
       "|  Miraan  |  Sagar  |       37      |    trial    | 2023-12-02 | 2023-12-04 |\n",
       "|  Miraan  |  Sagar  |       19      |    trial    | 2023-12-16 | 2023-12-17 |\n",
       "+----------+---------+---------------+-------------+------------+------------+"
      ]
     },
     "execution_count": 10,
     "metadata": {},
     "output_type": "execute_result"
    }
   ],
   "source": [
    "%%sql\n",
    "select\n",
    "    staff.personal,\n",
    "    staff.family,\n",
    "    experiment.ident as experiment_id,\n",
    "    experiment.kind,\n",
    "    experiment.started,\n",
    "    experiment.ended\n",
    "from staff inner join performed inner join experiment\n",
    "on staff.ident = performed.staff and performed.experiment = experiment.ident\n",
    "where staff.ident in (1, 2)\n",
    "order by experiment.started asc\n",
    "limit 5 offset 5;"
   ]
  },
  {
   "cell_type": "markdown",
   "id": "fcc0dfd4-2729-47a4-bcc4-9e402ebd1794",
   "metadata": {},
   "source": [
    "-   How many experiments of each kind has each person been involved in?"
   ]
  },
  {
   "cell_type": "code",
   "execution_count": 11,
   "id": "b66fed56-6f64-401f-9917-3b80ecd248c2",
   "metadata": {
    "execution": {
     "iopub.execute_input": "2024-01-19T21:00:01.809205Z",
     "iopub.status.busy": "2024-01-19T21:00:01.808702Z",
     "iopub.status.idle": "2024-01-19T21:00:01.926169Z",
     "shell.execute_reply": "2024-01-19T21:00:01.925049Z"
    }
   },
   "outputs": [
    {
     "data": {
      "text/html": [
       "<span style=\"None\">Running query in &#x27;sqlite:///data/assays.db&#x27;</span>"
      ],
      "text/plain": [
       "Running query in 'sqlite:///data/assays.db'"
      ]
     },
     "metadata": {},
     "output_type": "display_data"
    },
    {
     "data": {
      "text/html": [
       "<table>\n",
       "    <thead>\n",
       "        <tr>\n",
       "            <th>personal</th>\n",
       "            <th>family</th>\n",
       "            <th>kind</th>\n",
       "            <th>num_experiment_kind</th>\n",
       "        </tr>\n",
       "    </thead>\n",
       "    <tbody>\n",
       "        <tr>\n",
       "            <td>Riya</td>\n",
       "            <td>Bahri</td>\n",
       "            <td>calibration</td>\n",
       "            <td>4</td>\n",
       "        </tr>\n",
       "        <tr>\n",
       "            <td>Riya</td>\n",
       "            <td>Bahri</td>\n",
       "            <td>trial</td>\n",
       "            <td>4</td>\n",
       "        </tr>\n",
       "        <tr>\n",
       "            <td>Dhruv</td>\n",
       "            <td>Bhardwaj</td>\n",
       "            <td>calibration</td>\n",
       "            <td>3</td>\n",
       "        </tr>\n",
       "        <tr>\n",
       "            <td>Dhruv</td>\n",
       "            <td>Bhardwaj</td>\n",
       "            <td>trial</td>\n",
       "            <td>2</td>\n",
       "        </tr>\n",
       "        <tr>\n",
       "            <td>Rohan</td>\n",
       "            <td>Chokshi</td>\n",
       "            <td>trial</td>\n",
       "            <td>3</td>\n",
       "        </tr>\n",
       "        <tr>\n",
       "            <td>Rohan</td>\n",
       "            <td>Dara</td>\n",
       "            <td>calibration</td>\n",
       "            <td>1</td>\n",
       "        </tr>\n",
       "        <tr>\n",
       "            <td>Rohan</td>\n",
       "            <td>Dara</td>\n",
       "            <td>trial</td>\n",
       "            <td>2</td>\n",
       "        </tr>\n",
       "        <tr>\n",
       "            <td>Fateh</td>\n",
       "            <td>Khatri</td>\n",
       "            <td>calibration</td>\n",
       "            <td>3</td>\n",
       "        </tr>\n",
       "        <tr>\n",
       "            <td>Fateh</td>\n",
       "            <td>Khatri</td>\n",
       "            <td>trial</td>\n",
       "            <td>5</td>\n",
       "        </tr>\n",
       "        <tr>\n",
       "            <td>Ela</td>\n",
       "            <td>Mangal</td>\n",
       "            <td>calibration</td>\n",
       "            <td>3</td>\n",
       "        </tr>\n",
       "        <tr>\n",
       "            <td>Ela</td>\n",
       "            <td>Mangal</td>\n",
       "            <td>trial</td>\n",
       "            <td>7</td>\n",
       "        </tr>\n",
       "        <tr>\n",
       "            <td>Miraan</td>\n",
       "            <td>Sagar</td>\n",
       "            <td>calibration</td>\n",
       "            <td>2</td>\n",
       "        </tr>\n",
       "        <tr>\n",
       "            <td>Miraan</td>\n",
       "            <td>Sagar</td>\n",
       "            <td>trial</td>\n",
       "            <td>6</td>\n",
       "        </tr>\n",
       "        <tr>\n",
       "            <td>Badal</td>\n",
       "            <td>Sura</td>\n",
       "            <td>calibration</td>\n",
       "            <td>2</td>\n",
       "        </tr>\n",
       "        <tr>\n",
       "            <td>Badal</td>\n",
       "            <td>Sura</td>\n",
       "            <td>trial</td>\n",
       "            <td>5</td>\n",
       "        </tr>\n",
       "        <tr>\n",
       "            <td>Zeeshan</td>\n",
       "            <td>Varghese</td>\n",
       "            <td>calibration</td>\n",
       "            <td>1</td>\n",
       "        </tr>\n",
       "        <tr>\n",
       "            <td>Zeeshan</td>\n",
       "            <td>Varghese</td>\n",
       "            <td>trial</td>\n",
       "            <td>5</td>\n",
       "        </tr>\n",
       "        <tr>\n",
       "            <td>Sara</td>\n",
       "            <td>Venkatesh</td>\n",
       "            <td>calibration</td>\n",
       "            <td>3</td>\n",
       "        </tr>\n",
       "        <tr>\n",
       "            <td>Sara</td>\n",
       "            <td>Venkatesh</td>\n",
       "            <td>trial</td>\n",
       "            <td>5</td>\n",
       "        </tr>\n",
       "    </tbody>\n",
       "</table>"
      ],
      "text/plain": [
       "+----------+-----------+-------------+---------------------+\n",
       "| personal |   family  |     kind    | num_experiment_kind |\n",
       "+----------+-----------+-------------+---------------------+\n",
       "|   Riya   |   Bahri   | calibration |          4          |\n",
       "|   Riya   |   Bahri   |    trial    |          4          |\n",
       "|  Dhruv   |  Bhardwaj | calibration |          3          |\n",
       "|  Dhruv   |  Bhardwaj |    trial    |          2          |\n",
       "|  Rohan   |  Chokshi  |    trial    |          3          |\n",
       "|  Rohan   |    Dara   | calibration |          1          |\n",
       "|  Rohan   |    Dara   |    trial    |          2          |\n",
       "|  Fateh   |   Khatri  | calibration |          3          |\n",
       "|  Fateh   |   Khatri  |    trial    |          5          |\n",
       "|   Ela    |   Mangal  | calibration |          3          |\n",
       "|   Ela    |   Mangal  |    trial    |          7          |\n",
       "|  Miraan  |   Sagar   | calibration |          2          |\n",
       "|  Miraan  |   Sagar   |    trial    |          6          |\n",
       "|  Badal   |    Sura   | calibration |          2          |\n",
       "|  Badal   |    Sura   |    trial    |          5          |\n",
       "| Zeeshan  |  Varghese | calibration |          1          |\n",
       "| Zeeshan  |  Varghese |    trial    |          5          |\n",
       "|   Sara   | Venkatesh | calibration |          3          |\n",
       "|   Sara   | Venkatesh |    trial    |          5          |\n",
       "+----------+-----------+-------------+---------------------+"
      ]
     },
     "execution_count": 11,
     "metadata": {},
     "output_type": "execute_result"
    }
   ],
   "source": [
    "%%sql\n",
    "select\n",
    "    staff.personal,\n",
    "    staff.family,\n",
    "    experiment.kind,\n",
    "    count(*) as num_experiment_kind\n",
    "from staff inner join performed inner join experiment\n",
    "on staff.ident = performed.staff and performed.experiment = experiment.ident\n",
    "group by staff.ident, experiment.kind\n",
    "order by staff.family, staff.personal, experiment.kind;"
   ]
  },
  {
   "cell_type": "markdown",
   "id": "b4163f92-626f-4bbf-8930-7297d9df3fbe",
   "metadata": {},
   "source": [
    "-   How many *kinds* of experiments was each person involved in?"
   ]
  },
  {
   "cell_type": "code",
   "execution_count": 12,
   "id": "355fe63d-ffc6-4652-8737-d33a483d3b9b",
   "metadata": {
    "execution": {
     "iopub.execute_input": "2024-01-19T21:00:01.931135Z",
     "iopub.status.busy": "2024-01-19T21:00:01.930768Z",
     "iopub.status.idle": "2024-01-19T21:00:02.127675Z",
     "shell.execute_reply": "2024-01-19T21:00:02.126820Z"
    }
   },
   "outputs": [
    {
     "data": {
      "text/html": [
       "<span style=\"None\">Running query in &#x27;sqlite:///data/assays.db&#x27;</span>"
      ],
      "text/plain": [
       "Running query in 'sqlite:///data/assays.db'"
      ]
     },
     "metadata": {},
     "output_type": "display_data"
    },
    {
     "data": {
      "text/html": [
       "<table>\n",
       "    <thead>\n",
       "        <tr>\n",
       "            <th>personal</th>\n",
       "            <th>family</th>\n",
       "            <th>num_kind</th>\n",
       "        </tr>\n",
       "    </thead>\n",
       "    <tbody>\n",
       "        <tr>\n",
       "            <td>Rohan</td>\n",
       "            <td>Chokshi</td>\n",
       "            <td>1</td>\n",
       "        </tr>\n",
       "        <tr>\n",
       "            <td>Riya</td>\n",
       "            <td>Bahri</td>\n",
       "            <td>2</td>\n",
       "        </tr>\n",
       "        <tr>\n",
       "            <td>Dhruv</td>\n",
       "            <td>Bhardwaj</td>\n",
       "            <td>2</td>\n",
       "        </tr>\n",
       "        <tr>\n",
       "            <td>Rohan</td>\n",
       "            <td>Dara</td>\n",
       "            <td>2</td>\n",
       "        </tr>\n",
       "        <tr>\n",
       "            <td>Fateh</td>\n",
       "            <td>Khatri</td>\n",
       "            <td>2</td>\n",
       "        </tr>\n",
       "        <tr>\n",
       "            <td>Ela</td>\n",
       "            <td>Mangal</td>\n",
       "            <td>2</td>\n",
       "        </tr>\n",
       "        <tr>\n",
       "            <td>Miraan</td>\n",
       "            <td>Sagar</td>\n",
       "            <td>2</td>\n",
       "        </tr>\n",
       "        <tr>\n",
       "            <td>Badal</td>\n",
       "            <td>Sura</td>\n",
       "            <td>2</td>\n",
       "        </tr>\n",
       "        <tr>\n",
       "            <td>Zeeshan</td>\n",
       "            <td>Varghese</td>\n",
       "            <td>2</td>\n",
       "        </tr>\n",
       "        <tr>\n",
       "            <td>Sara</td>\n",
       "            <td>Venkatesh</td>\n",
       "            <td>2</td>\n",
       "        </tr>\n",
       "    </tbody>\n",
       "</table>"
      ],
      "text/plain": [
       "+----------+-----------+----------+\n",
       "| personal |   family  | num_kind |\n",
       "+----------+-----------+----------+\n",
       "|  Rohan   |  Chokshi  |    1     |\n",
       "|   Riya   |   Bahri   |    2     |\n",
       "|  Dhruv   |  Bhardwaj |    2     |\n",
       "|  Rohan   |    Dara   |    2     |\n",
       "|  Fateh   |   Khatri  |    2     |\n",
       "|   Ela    |   Mangal  |    2     |\n",
       "|  Miraan  |   Sagar   |    2     |\n",
       "|  Badal   |    Sura   |    2     |\n",
       "| Zeeshan  |  Varghese |    2     |\n",
       "|   Sara   | Venkatesh |    2     |\n",
       "+----------+-----------+----------+"
      ]
     },
     "execution_count": 12,
     "metadata": {},
     "output_type": "execute_result"
    }
   ],
   "source": [
    "%%sql\n",
    "select\n",
    "    staff.personal,\n",
    "    staff.family,\n",
    "    count (distinct experiment.kind) as num_kind\n",
    "from staff inner join performed inner join experiment\n",
    "on staff.ident = performed.staff and performed.experiment = experiment.ident\n",
    "group by staff.ident\n",
    "order by num_kind, staff.family, staff.personal;"
   ]
  }
 ],
 "metadata": {
  "kernelspec": {
   "display_name": "Python 3 (ipykernel)",
   "language": "python",
   "name": "python3"
  },
  "language_info": {
   "codemirror_mode": {
    "name": "ipython",
    "version": 3
   },
   "file_extension": ".py",
   "mimetype": "text/x-python",
   "name": "python",
   "nbconvert_exporter": "python",
   "pygments_lexer": "ipython3",
   "version": "3.12.1"
  }
 },
 "nbformat": 4,
 "nbformat_minor": 5
}
