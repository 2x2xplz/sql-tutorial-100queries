{
 "cells": [
  {
   "cell_type": "markdown",
   "id": "2caca289-3ed0-4625-95d6-adf87b7a9d52",
   "metadata": {},
   "source": [
    "# SQL Tutorial 2: Joins"
   ]
  },
  {
   "cell_type": "markdown",
   "id": "da65aea9-7a6a-4b69-8250-24cef4cbe175",
   "metadata": {},
   "source": [
    "-   Let's use a database of experimental plate assays"
   ]
  },
  {
   "cell_type": "code",
   "execution_count": 1,
   "id": "099011ba-971f-4319-b3d8-9764d13c49d7",
   "metadata": {},
   "outputs": [
    {
     "data": {
      "text/html": [
       "<span style=\"None\">Connecting to &#x27;sqlite:///data/assays.db&#x27;</span>"
      ],
      "text/plain": [
       "Connecting to 'sqlite:///data/assays.db'"
      ]
     },
     "metadata": {},
     "output_type": "display_data"
    }
   ],
   "source": [
    "%load_ext sql\n",
    "%config SqlMagic.autolimit = 0\n",
    "%config SqlMagic.displaylimit = 0\n",
    "%sql sqlite:///data/assays.db"
   ]
  },
  {
   "cell_type": "markdown",
   "id": "80cedc34-4c48-4310-ad15-2df171e69494",
   "metadata": {},
   "source": [
    "-   Has six tables, but we'll start with these two\n",
    "    -   `cid`: column ID (SQL lets use use numeric column IDs in some places, but please don't)\n",
    "    -   `name`: column name\n",
    "    -   `type`: data type (examples below are `INTEGER` and `TEXT`)\n",
    "    -   `notnull`: are `null` values forbidden?\n",
    "    -   `dflt_value`: default value for this column (we'll worry about this later)\n",
    "    -   `pk`: is this the primary key for the table? (a major topic of this lesson)\n",
    "\n",
    "**department**\n",
    "\n",
    "| cid |   name   | type | notnull | dflt_value | pk |\n",
    "|-----|----------|------|---------|------------|----|\n",
    "| 0   | ident    | TEXT | 1       |            | 0  |\n",
    "| 1   | name     | TEXT | 1       |            | 0  |\n",
    "| 2   | building | TEXT | 1       |            | 0  |\n",
    "\n",
    "**staff**\n",
    "\n",
    "| cid |   name   |  type   | notnull | dflt_value | pk |\n",
    "|-----|----------|---------|---------|------------|----|\n",
    "| 0   | ident    | INTEGER | 0       |            | 1  |\n",
    "| 1   | personal | TEXT    | 1       |            | 0  |\n",
    "| 2   | family   | TEXT    | 1       |            | 0  |\n",
    "| 3   | dept     | TEXT    | 0       |            | 0  |"
   ]
  },
  {
   "cell_type": "markdown",
   "id": "f991ffb3-505f-477d-bec5-3e5399b478fa",
   "metadata": {},
   "source": [
    "-   What do these tables contain?"
   ]
  },
  {
   "cell_type": "code",
   "execution_count": 2,
   "id": "8d49d5c8-46d5-4bbf-895d-4823bfc6e8f2",
   "metadata": {},
   "outputs": [
    {
     "data": {
      "text/html": [
       "<span style=\"None\">Running query in &#x27;sqlite:///data/assays.db&#x27;</span>"
      ],
      "text/plain": [
       "Running query in 'sqlite:///data/assays.db'"
      ]
     },
     "metadata": {},
     "output_type": "display_data"
    },
    {
     "data": {
      "text/html": [
       "<table>\n",
       "    <thead>\n",
       "        <tr>\n",
       "            <th>ident</th>\n",
       "            <th>name</th>\n",
       "            <th>building</th>\n",
       "        </tr>\n",
       "    </thead>\n",
       "    <tbody>\n",
       "        <tr>\n",
       "            <td>gen</td>\n",
       "            <td>Genetics</td>\n",
       "            <td>Chesson</td>\n",
       "        </tr>\n",
       "        <tr>\n",
       "            <td>hist</td>\n",
       "            <td>Histology</td>\n",
       "            <td>Fashet Extension</td>\n",
       "        </tr>\n",
       "        <tr>\n",
       "            <td>mb</td>\n",
       "            <td>Molecular Biology</td>\n",
       "            <td>Chesson</td>\n",
       "        </tr>\n",
       "    </tbody>\n",
       "</table>"
      ],
      "text/plain": [
       "+-------+-------------------+------------------+\n",
       "| ident |        name       |     building     |\n",
       "+-------+-------------------+------------------+\n",
       "|  gen  |      Genetics     |     Chesson      |\n",
       "|  hist |     Histology     | Fashet Extension |\n",
       "|   mb  | Molecular Biology |     Chesson      |\n",
       "+-------+-------------------+------------------+"
      ]
     },
     "execution_count": 2,
     "metadata": {},
     "output_type": "execute_result"
    }
   ],
   "source": [
    "%%sql\n",
    "select * from department;"
   ]
  },
  {
   "cell_type": "code",
   "execution_count": 3,
   "id": "1e6d22a8-58ce-4370-a7ab-70847ba634ee",
   "metadata": {},
   "outputs": [
    {
     "data": {
      "text/html": [
       "<span style=\"None\">Running query in &#x27;sqlite:///data/assays.db&#x27;</span>"
      ],
      "text/plain": [
       "Running query in 'sqlite:///data/assays.db'"
      ]
     },
     "metadata": {},
     "output_type": "display_data"
    },
    {
     "data": {
      "text/html": [
       "<table>\n",
       "    <thead>\n",
       "        <tr>\n",
       "            <th>ident</th>\n",
       "            <th>personal</th>\n",
       "            <th>family</th>\n",
       "            <th>dept</th>\n",
       "        </tr>\n",
       "    </thead>\n",
       "    <tbody>\n",
       "        <tr>\n",
       "            <td>1</td>\n",
       "            <td>Jayesh</td>\n",
       "            <td>Ramanathan</td>\n",
       "            <td>None</td>\n",
       "        </tr>\n",
       "        <tr>\n",
       "            <td>2</td>\n",
       "            <td>Suhana</td>\n",
       "            <td>Chatterjee</td>\n",
       "            <td>mb</td>\n",
       "        </tr>\n",
       "        <tr>\n",
       "            <td>3</td>\n",
       "            <td>Ryan</td>\n",
       "            <td>Jain</td>\n",
       "            <td>hist</td>\n",
       "        </tr>\n",
       "        <tr>\n",
       "            <td>4</td>\n",
       "            <td>Riaan</td>\n",
       "            <td>Chana</td>\n",
       "            <td>gen</td>\n",
       "        </tr>\n",
       "        <tr>\n",
       "            <td>5</td>\n",
       "            <td>Jivika</td>\n",
       "            <td>Shroff</td>\n",
       "            <td>mb</td>\n",
       "        </tr>\n",
       "        <tr>\n",
       "            <td>6</td>\n",
       "            <td>Madhup</td>\n",
       "            <td>Barman</td>\n",
       "            <td>mb</td>\n",
       "        </tr>\n",
       "        <tr>\n",
       "            <td>7</td>\n",
       "            <td>Yashvi</td>\n",
       "            <td>Chacko</td>\n",
       "            <td>mb</td>\n",
       "        </tr>\n",
       "        <tr>\n",
       "            <td>8</td>\n",
       "            <td>Saira</td>\n",
       "            <td>Sastry</td>\n",
       "            <td>mb</td>\n",
       "        </tr>\n",
       "        <tr>\n",
       "            <td>9</td>\n",
       "            <td>Badal</td>\n",
       "            <td>Dyal</td>\n",
       "            <td>None</td>\n",
       "        </tr>\n",
       "        <tr>\n",
       "            <td>10</td>\n",
       "            <td>Ela</td>\n",
       "            <td>Jani</td>\n",
       "            <td>None</td>\n",
       "        </tr>\n",
       "    </tbody>\n",
       "</table>"
      ],
      "text/plain": [
       "+-------+----------+------------+------+\n",
       "| ident | personal |   family   | dept |\n",
       "+-------+----------+------------+------+\n",
       "|   1   |  Jayesh  | Ramanathan | None |\n",
       "|   2   |  Suhana  | Chatterjee |  mb  |\n",
       "|   3   |   Ryan   |    Jain    | hist |\n",
       "|   4   |  Riaan   |   Chana    | gen  |\n",
       "|   5   |  Jivika  |   Shroff   |  mb  |\n",
       "|   6   |  Madhup  |   Barman   |  mb  |\n",
       "|   7   |  Yashvi  |   Chacko   |  mb  |\n",
       "|   8   |  Saira   |   Sastry   |  mb  |\n",
       "|   9   |  Badal   |    Dyal    | None |\n",
       "|   10  |   Ela    |    Jani    | None |\n",
       "+-------+----------+------------+------+"
      ]
     },
     "execution_count": 3,
     "metadata": {},
     "output_type": "execute_result"
    }
   ],
   "source": [
    "%%sql\n",
    "select * from staff;"
   ]
  },
  {
   "cell_type": "markdown",
   "id": "19ab37b9-cca9-42bb-bf2a-edb70920b834",
   "metadata": {},
   "source": [
    "-   What building does each person work in?"
   ]
  },
  {
   "cell_type": "code",
   "execution_count": 4,
   "id": "cf04b2c8-6f97-47ae-bc45-6e833174ceb8",
   "metadata": {},
   "outputs": [
    {
     "data": {
      "text/html": [
       "<span style=\"None\">Running query in &#x27;sqlite:///data/assays.db&#x27;</span>"
      ],
      "text/plain": [
       "Running query in 'sqlite:///data/assays.db'"
      ]
     },
     "metadata": {},
     "output_type": "display_data"
    },
    {
     "data": {
      "text/html": [
       "<table>\n",
       "    <thead>\n",
       "        <tr>\n",
       "            <th>personal</th>\n",
       "            <th>family</th>\n",
       "            <th>name</th>\n",
       "        </tr>\n",
       "    </thead>\n",
       "    <tbody>\n",
       "        <tr>\n",
       "            <td>Suhana</td>\n",
       "            <td>Chatterjee</td>\n",
       "            <td>Molecular Biology</td>\n",
       "        </tr>\n",
       "        <tr>\n",
       "            <td>Ryan</td>\n",
       "            <td>Jain</td>\n",
       "            <td>Histology</td>\n",
       "        </tr>\n",
       "        <tr>\n",
       "            <td>Riaan</td>\n",
       "            <td>Chana</td>\n",
       "            <td>Genetics</td>\n",
       "        </tr>\n",
       "        <tr>\n",
       "            <td>Jivika</td>\n",
       "            <td>Shroff</td>\n",
       "            <td>Molecular Biology</td>\n",
       "        </tr>\n",
       "        <tr>\n",
       "            <td>Madhup</td>\n",
       "            <td>Barman</td>\n",
       "            <td>Molecular Biology</td>\n",
       "        </tr>\n",
       "        <tr>\n",
       "            <td>Yashvi</td>\n",
       "            <td>Chacko</td>\n",
       "            <td>Molecular Biology</td>\n",
       "        </tr>\n",
       "        <tr>\n",
       "            <td>Saira</td>\n",
       "            <td>Sastry</td>\n",
       "            <td>Molecular Biology</td>\n",
       "        </tr>\n",
       "    </tbody>\n",
       "</table>"
      ],
      "text/plain": [
       "+----------+------------+-------------------+\n",
       "| personal |   family   |        name       |\n",
       "+----------+------------+-------------------+\n",
       "|  Suhana  | Chatterjee | Molecular Biology |\n",
       "|   Ryan   |    Jain    |     Histology     |\n",
       "|  Riaan   |   Chana    |      Genetics     |\n",
       "|  Jivika  |   Shroff   | Molecular Biology |\n",
       "|  Madhup  |   Barman   | Molecular Biology |\n",
       "|  Yashvi  |   Chacko   | Molecular Biology |\n",
       "|  Saira   |   Sastry   | Molecular Biology |\n",
       "+----------+------------+-------------------+"
      ]
     },
     "execution_count": 4,
     "metadata": {},
     "output_type": "execute_result"
    }
   ],
   "source": [
    "%%sql\n",
    "select\n",
    "    staff.personal,\n",
    "    staff.family,\n",
    "    department.name\n",
    "from staff inner join department\n",
    "on staff.dept = department.ident;"
   ]
  },
  {
   "cell_type": "markdown",
   "id": "521856ca-96da-476f-84ab-3fd72d7ad7a9",
   "metadata": {},
   "source": [
    "-   A *join* combines all rows from one table with all rows from another\n",
    "    -   *inner join* only keeps the rows where the `on` condition is satisfied\n",
    "-   Use `table.column` syntax to avoid ambiguity\n",
    "    -   Both `staff` and `department` have an `ident` column\n",
    "-   Staff with no department are not included in the results because `null` doesn't match a department ID\n",
    "-   Use a *left outer join* to keep all rows from the left table even if there aren't matches\n",
    "    -   Fill missing values with `null`"
   ]
  },
  {
   "cell_type": "code",
   "execution_count": 5,
   "id": "f0557d2b-777d-4f3e-a9d6-34d018551896",
   "metadata": {},
   "outputs": [
    {
     "data": {
      "text/html": [
       "<span style=\"None\">Running query in &#x27;sqlite:///data/assays.db&#x27;</span>"
      ],
      "text/plain": [
       "Running query in 'sqlite:///data/assays.db'"
      ]
     },
     "metadata": {},
     "output_type": "display_data"
    },
    {
     "data": {
      "text/html": [
       "<table>\n",
       "    <thead>\n",
       "        <tr>\n",
       "            <th>personal</th>\n",
       "            <th>family</th>\n",
       "            <th>name</th>\n",
       "        </tr>\n",
       "    </thead>\n",
       "    <tbody>\n",
       "        <tr>\n",
       "            <td>Jayesh</td>\n",
       "            <td>Ramanathan</td>\n",
       "            <td>None</td>\n",
       "        </tr>\n",
       "        <tr>\n",
       "            <td>Suhana</td>\n",
       "            <td>Chatterjee</td>\n",
       "            <td>Molecular Biology</td>\n",
       "        </tr>\n",
       "        <tr>\n",
       "            <td>Ryan</td>\n",
       "            <td>Jain</td>\n",
       "            <td>Histology</td>\n",
       "        </tr>\n",
       "        <tr>\n",
       "            <td>Riaan</td>\n",
       "            <td>Chana</td>\n",
       "            <td>Genetics</td>\n",
       "        </tr>\n",
       "        <tr>\n",
       "            <td>Jivika</td>\n",
       "            <td>Shroff</td>\n",
       "            <td>Molecular Biology</td>\n",
       "        </tr>\n",
       "        <tr>\n",
       "            <td>Madhup</td>\n",
       "            <td>Barman</td>\n",
       "            <td>Molecular Biology</td>\n",
       "        </tr>\n",
       "        <tr>\n",
       "            <td>Yashvi</td>\n",
       "            <td>Chacko</td>\n",
       "            <td>Molecular Biology</td>\n",
       "        </tr>\n",
       "        <tr>\n",
       "            <td>Saira</td>\n",
       "            <td>Sastry</td>\n",
       "            <td>Molecular Biology</td>\n",
       "        </tr>\n",
       "        <tr>\n",
       "            <td>Badal</td>\n",
       "            <td>Dyal</td>\n",
       "            <td>None</td>\n",
       "        </tr>\n",
       "        <tr>\n",
       "            <td>Ela</td>\n",
       "            <td>Jani</td>\n",
       "            <td>None</td>\n",
       "        </tr>\n",
       "    </tbody>\n",
       "</table>"
      ],
      "text/plain": [
       "+----------+------------+-------------------+\n",
       "| personal |   family   |        name       |\n",
       "+----------+------------+-------------------+\n",
       "|  Jayesh  | Ramanathan |        None       |\n",
       "|  Suhana  | Chatterjee | Molecular Biology |\n",
       "|   Ryan   |    Jain    |     Histology     |\n",
       "|  Riaan   |   Chana    |      Genetics     |\n",
       "|  Jivika  |   Shroff   | Molecular Biology |\n",
       "|  Madhup  |   Barman   | Molecular Biology |\n",
       "|  Yashvi  |   Chacko   | Molecular Biology |\n",
       "|  Saira   |   Sastry   | Molecular Biology |\n",
       "|  Badal   |    Dyal    |        None       |\n",
       "|   Ela    |    Jani    |        None       |\n",
       "+----------+------------+-------------------+"
      ]
     },
     "execution_count": 5,
     "metadata": {},
     "output_type": "execute_result"
    }
   ],
   "source": [
    "%%sql\n",
    "select\n",
    "    staff.personal,\n",
    "    staff.family,\n",
    "    department.name\n",
    "from staff left outer join department\n",
    "on staff.dept = department.ident;"
   ]
  },
  {
   "cell_type": "markdown",
   "id": "51ca67ac-d1da-4ac9-801b-5120dd8e31d5",
   "metadata": {},
   "source": [
    ">   A *right outer join* keeps all rows from the right table, even if there aren't matches.\n",
    ">   SQLite doesn't bother to implement it, since you can achieve the same effect by swapping table order.\n",
    ">   It *does* implement *full outer join*, which keeps unmatched rows from both sides (again, filling with nulls as needed)."
   ]
  },
  {
   "cell_type": "markdown",
   "id": "0fd64f51-a236-4415-8cc9-5ebd7bab1f0d",
   "metadata": {},
   "source": [
    "-   Let's look at two more tables: `experiment` records the experiments that have been done, and `performed` records who has done which\n",
    "\n",
    "**experiment**\n",
    "\n",
    "| cid |  name   |  type   | notnull | dflt_value | pk |\n",
    "|-----|---------|---------|---------|------------|----|\n",
    "| 0   | ident   | INTEGER | 0       |            | 1  |\n",
    "| 1   | kind    | TEXT    | 1       |            | 0  |\n",
    "| 2   | started | TEXT    | 1       |            | 0  |\n",
    "| 3   | ended   | TEXT    | 0       |            | 0  |\n",
    "\n",
    "**performed**\n",
    "\n",
    "| cid |    name    |  type   | notnull | dflt_value | pk |\n",
    "|-----|------------|---------|---------|------------|----|\n",
    "| 0   | staff      | INTEGER | 1       |            | 0  |\n",
    "| 1   | experiment | INTEGER | 1       |            | 0  |"
   ]
  },
  {
   "cell_type": "markdown",
   "id": "043c2dad-f542-4021-bb72-8b9a53b00616",
   "metadata": {},
   "source": [
    "-   `performed` is sometimes called a *join table* because it's only purpose is to connect two other tables.\n",
    "-   Why is it needed?\n",
    "-   The relationship between `department` and `staff` is *one-to-many*\n",
    "    -   Represent this by storing a *foreign key* in `staff` that refers to a *primary key* in `department`\n",
    "-   The relationship between `staff` and `experiment` is *many-to-many*\n",
    "    -   One person might do many experiments\n",
    "    -   Each experiment might be done by many people\n",
    "    -   So store each (person, experiment) pair in `performed`\n",
    "-   There are a lot of experiments, so let's be selective"
   ]
  },
  {
   "cell_type": "code",
   "execution_count": 6,
   "id": "2eb9688b-0c9a-448b-99d3-b553ef6dfb22",
   "metadata": {},
   "outputs": [
    {
     "data": {
      "text/html": [
       "<span style=\"None\">Running query in &#x27;sqlite:///data/assays.db&#x27;</span>"
      ],
      "text/plain": [
       "Running query in 'sqlite:///data/assays.db'"
      ]
     },
     "metadata": {},
     "output_type": "display_data"
    },
    {
     "data": {
      "text/html": [
       "<table>\n",
       "    <thead>\n",
       "        <tr>\n",
       "            <th>ident</th>\n",
       "            <th>personal</th>\n",
       "            <th>family</th>\n",
       "            <th>dept</th>\n",
       "            <th>staff</th>\n",
       "            <th>experiment</th>\n",
       "            <th>ident_1</th>\n",
       "            <th>kind</th>\n",
       "            <th>started</th>\n",
       "            <th>ended</th>\n",
       "        </tr>\n",
       "    </thead>\n",
       "    <tbody>\n",
       "        <tr>\n",
       "            <td>1</td>\n",
       "            <td>Jayesh</td>\n",
       "            <td>Ramanathan</td>\n",
       "            <td>None</td>\n",
       "            <td>1</td>\n",
       "            <td>4</td>\n",
       "            <td>4</td>\n",
       "            <td>trial</td>\n",
       "            <td>2023-11-03</td>\n",
       "            <td>2023-11-04</td>\n",
       "        </tr>\n",
       "        <tr>\n",
       "            <td>1</td>\n",
       "            <td>Jayesh</td>\n",
       "            <td>Ramanathan</td>\n",
       "            <td>None</td>\n",
       "            <td>1</td>\n",
       "            <td>6</td>\n",
       "            <td>6</td>\n",
       "            <td>trial</td>\n",
       "            <td>2023-11-07</td>\n",
       "            <td>2023-11-08</td>\n",
       "        </tr>\n",
       "        <tr>\n",
       "            <td>1</td>\n",
       "            <td>Jayesh</td>\n",
       "            <td>Ramanathan</td>\n",
       "            <td>None</td>\n",
       "            <td>1</td>\n",
       "            <td>10</td>\n",
       "            <td>10</td>\n",
       "            <td>calibration</td>\n",
       "            <td>2023-11-01</td>\n",
       "            <td>2023-11-01</td>\n",
       "        </tr>\n",
       "        <tr>\n",
       "            <td>1</td>\n",
       "            <td>Jayesh</td>\n",
       "            <td>Ramanathan</td>\n",
       "            <td>None</td>\n",
       "            <td>1</td>\n",
       "            <td>11</td>\n",
       "            <td>11</td>\n",
       "            <td>calibration</td>\n",
       "            <td>2023-11-09</td>\n",
       "            <td>2023-11-09</td>\n",
       "        </tr>\n",
       "        <tr>\n",
       "            <td>1</td>\n",
       "            <td>Jayesh</td>\n",
       "            <td>Ramanathan</td>\n",
       "            <td>None</td>\n",
       "            <td>1</td>\n",
       "            <td>12</td>\n",
       "            <td>12</td>\n",
       "            <td>trial</td>\n",
       "            <td>2023-11-04</td>\n",
       "            <td>2023-11-06</td>\n",
       "        </tr>\n",
       "        <tr>\n",
       "            <td>1</td>\n",
       "            <td>Jayesh</td>\n",
       "            <td>Ramanathan</td>\n",
       "            <td>None</td>\n",
       "            <td>1</td>\n",
       "            <td>17</td>\n",
       "            <td>17</td>\n",
       "            <td>calibration</td>\n",
       "            <td>2023-11-05</td>\n",
       "            <td>2023-11-05</td>\n",
       "        </tr>\n",
       "        <tr>\n",
       "            <td>1</td>\n",
       "            <td>Jayesh</td>\n",
       "            <td>Ramanathan</td>\n",
       "            <td>None</td>\n",
       "            <td>1</td>\n",
       "            <td>27</td>\n",
       "            <td>27</td>\n",
       "            <td>trial</td>\n",
       "            <td>2023-11-09</td>\n",
       "            <td>None</td>\n",
       "        </tr>\n",
       "        <tr>\n",
       "            <td>2</td>\n",
       "            <td>Suhana</td>\n",
       "            <td>Chatterjee</td>\n",
       "            <td>mb</td>\n",
       "            <td>2</td>\n",
       "            <td>33</td>\n",
       "            <td>33</td>\n",
       "            <td>trial</td>\n",
       "            <td>2023-11-03</td>\n",
       "            <td>2023-11-04</td>\n",
       "        </tr>\n",
       "        <tr>\n",
       "            <td>1</td>\n",
       "            <td>Jayesh</td>\n",
       "            <td>Ramanathan</td>\n",
       "            <td>None</td>\n",
       "            <td>1</td>\n",
       "            <td>33</td>\n",
       "            <td>33</td>\n",
       "            <td>trial</td>\n",
       "            <td>2023-11-03</td>\n",
       "            <td>2023-11-04</td>\n",
       "        </tr>\n",
       "        <tr>\n",
       "            <td>1</td>\n",
       "            <td>Jayesh</td>\n",
       "            <td>Ramanathan</td>\n",
       "            <td>None</td>\n",
       "            <td>1</td>\n",
       "            <td>34</td>\n",
       "            <td>34</td>\n",
       "            <td>calibration</td>\n",
       "            <td>2023-11-07</td>\n",
       "            <td>2023-11-07</td>\n",
       "        </tr>\n",
       "        <tr>\n",
       "            <td>2</td>\n",
       "            <td>Suhana</td>\n",
       "            <td>Chatterjee</td>\n",
       "            <td>mb</td>\n",
       "            <td>2</td>\n",
       "            <td>37</td>\n",
       "            <td>37</td>\n",
       "            <td>trial</td>\n",
       "            <td>2023-11-04</td>\n",
       "            <td>2023-11-05</td>\n",
       "        </tr>\n",
       "        <tr>\n",
       "            <td>1</td>\n",
       "            <td>Jayesh</td>\n",
       "            <td>Ramanathan</td>\n",
       "            <td>None</td>\n",
       "            <td>1</td>\n",
       "            <td>39</td>\n",
       "            <td>39</td>\n",
       "            <td>trial</td>\n",
       "            <td>2023-11-09</td>\n",
       "            <td>None</td>\n",
       "        </tr>\n",
       "        <tr>\n",
       "            <td>1</td>\n",
       "            <td>Jayesh</td>\n",
       "            <td>Ramanathan</td>\n",
       "            <td>None</td>\n",
       "            <td>1</td>\n",
       "            <td>42</td>\n",
       "            <td>42</td>\n",
       "            <td>trial</td>\n",
       "            <td>2023-11-04</td>\n",
       "            <td>2023-11-05</td>\n",
       "        </tr>\n",
       "        <tr>\n",
       "            <td>1</td>\n",
       "            <td>Jayesh</td>\n",
       "            <td>Ramanathan</td>\n",
       "            <td>None</td>\n",
       "            <td>1</td>\n",
       "            <td>45</td>\n",
       "            <td>45</td>\n",
       "            <td>trial</td>\n",
       "            <td>2023-11-05</td>\n",
       "            <td>2023-11-06</td>\n",
       "        </tr>\n",
       "        <tr>\n",
       "            <td>1</td>\n",
       "            <td>Jayesh</td>\n",
       "            <td>Ramanathan</td>\n",
       "            <td>None</td>\n",
       "            <td>1</td>\n",
       "            <td>49</td>\n",
       "            <td>49</td>\n",
       "            <td>trial</td>\n",
       "            <td>2023-11-06</td>\n",
       "            <td>2023-11-08</td>\n",
       "        </tr>\n",
       "    </tbody>\n",
       "</table>"
      ],
      "text/plain": [
       "+-------+----------+------------+------+-------+------------+---------+-------------+------------+------------+\n",
       "| ident | personal |   family   | dept | staff | experiment | ident_1 |     kind    |  started   |   ended    |\n",
       "+-------+----------+------------+------+-------+------------+---------+-------------+------------+------------+\n",
       "|   1   |  Jayesh  | Ramanathan | None |   1   |     4      |    4    |    trial    | 2023-11-03 | 2023-11-04 |\n",
       "|   1   |  Jayesh  | Ramanathan | None |   1   |     6      |    6    |    trial    | 2023-11-07 | 2023-11-08 |\n",
       "|   1   |  Jayesh  | Ramanathan | None |   1   |     10     |    10   | calibration | 2023-11-01 | 2023-11-01 |\n",
       "|   1   |  Jayesh  | Ramanathan | None |   1   |     11     |    11   | calibration | 2023-11-09 | 2023-11-09 |\n",
       "|   1   |  Jayesh  | Ramanathan | None |   1   |     12     |    12   |    trial    | 2023-11-04 | 2023-11-06 |\n",
       "|   1   |  Jayesh  | Ramanathan | None |   1   |     17     |    17   | calibration | 2023-11-05 | 2023-11-05 |\n",
       "|   1   |  Jayesh  | Ramanathan | None |   1   |     27     |    27   |    trial    | 2023-11-09 |    None    |\n",
       "|   2   |  Suhana  | Chatterjee |  mb  |   2   |     33     |    33   |    trial    | 2023-11-03 | 2023-11-04 |\n",
       "|   1   |  Jayesh  | Ramanathan | None |   1   |     33     |    33   |    trial    | 2023-11-03 | 2023-11-04 |\n",
       "|   1   |  Jayesh  | Ramanathan | None |   1   |     34     |    34   | calibration | 2023-11-07 | 2023-11-07 |\n",
       "|   2   |  Suhana  | Chatterjee |  mb  |   2   |     37     |    37   |    trial    | 2023-11-04 | 2023-11-05 |\n",
       "|   1   |  Jayesh  | Ramanathan | None |   1   |     39     |    39   |    trial    | 2023-11-09 |    None    |\n",
       "|   1   |  Jayesh  | Ramanathan | None |   1   |     42     |    42   |    trial    | 2023-11-04 | 2023-11-05 |\n",
       "|   1   |  Jayesh  | Ramanathan | None |   1   |     45     |    45   |    trial    | 2023-11-05 | 2023-11-06 |\n",
       "|   1   |  Jayesh  | Ramanathan | None |   1   |     49     |    49   |    trial    | 2023-11-06 | 2023-11-08 |\n",
       "+-------+----------+------------+------+-------+------------+---------+-------------+------------+------------+"
      ]
     },
     "execution_count": 6,
     "metadata": {},
     "output_type": "execute_result"
    }
   ],
   "source": [
    "%%sql\n",
    "select *\n",
    "from staff inner join performed inner join experiment\n",
    "on staff.ident = performed.staff and performed.experiment = experiment.ident\n",
    "where staff.ident in (1, 2);"
   ]
  },
  {
   "cell_type": "markdown",
   "id": "d546fffc-1648-4d09-a752-54d599d66831",
   "metadata": {},
   "source": [
    "-   First step: database combines `staff` with `performed` by matching primary key in the former to foreign key in the latter\n",
    "    -   We'll only show the first few rows of the result"
   ]
  },
  {
   "cell_type": "code",
   "execution_count": 7,
   "id": "c1c483dc-010c-408d-b3af-c7a76652af67",
   "metadata": {},
   "outputs": [
    {
     "data": {
      "text/html": [
       "<span style=\"None\">Running query in &#x27;sqlite:///data/assays.db&#x27;</span>"
      ],
      "text/plain": [
       "Running query in 'sqlite:///data/assays.db'"
      ]
     },
     "metadata": {},
     "output_type": "display_data"
    },
    {
     "data": {
      "text/html": [
       "<table>\n",
       "    <thead>\n",
       "        <tr>\n",
       "            <th>ident</th>\n",
       "            <th>personal</th>\n",
       "            <th>family</th>\n",
       "            <th>dept</th>\n",
       "            <th>staff</th>\n",
       "            <th>experiment</th>\n",
       "        </tr>\n",
       "    </thead>\n",
       "    <tbody>\n",
       "        <tr>\n",
       "            <td>5</td>\n",
       "            <td>Jivika</td>\n",
       "            <td>Shroff</td>\n",
       "            <td>mb</td>\n",
       "            <td>5</td>\n",
       "            <td>1</td>\n",
       "        </tr>\n",
       "        <tr>\n",
       "            <td>8</td>\n",
       "            <td>Saira</td>\n",
       "            <td>Sastry</td>\n",
       "            <td>mb</td>\n",
       "            <td>8</td>\n",
       "            <td>2</td>\n",
       "        </tr>\n",
       "        <tr>\n",
       "            <td>3</td>\n",
       "            <td>Ryan</td>\n",
       "            <td>Jain</td>\n",
       "            <td>hist</td>\n",
       "            <td>3</td>\n",
       "            <td>3</td>\n",
       "        </tr>\n",
       "        <tr>\n",
       "            <td>7</td>\n",
       "            <td>Yashvi</td>\n",
       "            <td>Chacko</td>\n",
       "            <td>mb</td>\n",
       "            <td>7</td>\n",
       "            <td>3</td>\n",
       "        </tr>\n",
       "        <tr>\n",
       "            <td>1</td>\n",
       "            <td>Jayesh</td>\n",
       "            <td>Ramanathan</td>\n",
       "            <td>None</td>\n",
       "            <td>1</td>\n",
       "            <td>4</td>\n",
       "        </tr>\n",
       "    </tbody>\n",
       "</table>"
      ],
      "text/plain": [
       "+-------+----------+------------+------+-------+------------+\n",
       "| ident | personal |   family   | dept | staff | experiment |\n",
       "+-------+----------+------------+------+-------+------------+\n",
       "|   5   |  Jivika  |   Shroff   |  mb  |   5   |     1      |\n",
       "|   8   |  Saira   |   Sastry   |  mb  |   8   |     2      |\n",
       "|   3   |   Ryan   |    Jain    | hist |   3   |     3      |\n",
       "|   7   |  Yashvi  |   Chacko   |  mb  |   7   |     3      |\n",
       "|   1   |  Jayesh  | Ramanathan | None |   1   |     4      |\n",
       "+-------+----------+------------+------+-------+------------+"
      ]
     },
     "execution_count": 7,
     "metadata": {},
     "output_type": "execute_result"
    }
   ],
   "source": [
    "%%sql\n",
    "select *\n",
    "from staff inner join performed\n",
    "on staff.ident = performed.staff\n",
    "limit 5;"
   ]
  },
  {
   "cell_type": "markdown",
   "id": "1ff658df-e1e3-4b85-9b45-028591a6498c",
   "metadata": {},
   "source": [
    "-   Second step: database combines this temporary table with `experiment` by matching keys\n",
    "    -   Again, only show a few rows"
   ]
  },
  {
   "cell_type": "code",
   "execution_count": 8,
   "id": "4b0b72bc-a7fc-49f0-8c4c-ae0db5d7d45e",
   "metadata": {},
   "outputs": [
    {
     "data": {
      "text/html": [
       "<span style=\"None\">Running query in &#x27;sqlite:///data/assays.db&#x27;</span>"
      ],
      "text/plain": [
       "Running query in 'sqlite:///data/assays.db'"
      ]
     },
     "metadata": {},
     "output_type": "display_data"
    },
    {
     "data": {
      "text/html": [
       "<table>\n",
       "    <thead>\n",
       "        <tr>\n",
       "            <th>ident</th>\n",
       "            <th>personal</th>\n",
       "            <th>family</th>\n",
       "            <th>dept</th>\n",
       "            <th>staff</th>\n",
       "            <th>experiment</th>\n",
       "            <th>ident_1</th>\n",
       "            <th>kind</th>\n",
       "            <th>started</th>\n",
       "            <th>ended</th>\n",
       "        </tr>\n",
       "    </thead>\n",
       "    <tbody>\n",
       "        <tr>\n",
       "            <td>5</td>\n",
       "            <td>Jivika</td>\n",
       "            <td>Shroff</td>\n",
       "            <td>mb</td>\n",
       "            <td>5</td>\n",
       "            <td>1</td>\n",
       "            <td>1</td>\n",
       "            <td>trial</td>\n",
       "            <td>2023-11-09</td>\n",
       "            <td>None</td>\n",
       "        </tr>\n",
       "        <tr>\n",
       "            <td>8</td>\n",
       "            <td>Saira</td>\n",
       "            <td>Sastry</td>\n",
       "            <td>mb</td>\n",
       "            <td>8</td>\n",
       "            <td>2</td>\n",
       "            <td>2</td>\n",
       "            <td>trial</td>\n",
       "            <td>2023-11-04</td>\n",
       "            <td>2023-11-05</td>\n",
       "        </tr>\n",
       "        <tr>\n",
       "            <td>3</td>\n",
       "            <td>Ryan</td>\n",
       "            <td>Jain</td>\n",
       "            <td>hist</td>\n",
       "            <td>3</td>\n",
       "            <td>3</td>\n",
       "            <td>3</td>\n",
       "            <td>trial</td>\n",
       "            <td>2023-11-06</td>\n",
       "            <td>2023-11-07</td>\n",
       "        </tr>\n",
       "        <tr>\n",
       "            <td>7</td>\n",
       "            <td>Yashvi</td>\n",
       "            <td>Chacko</td>\n",
       "            <td>mb</td>\n",
       "            <td>7</td>\n",
       "            <td>3</td>\n",
       "            <td>3</td>\n",
       "            <td>trial</td>\n",
       "            <td>2023-11-06</td>\n",
       "            <td>2023-11-07</td>\n",
       "        </tr>\n",
       "        <tr>\n",
       "            <td>1</td>\n",
       "            <td>Jayesh</td>\n",
       "            <td>Ramanathan</td>\n",
       "            <td>None</td>\n",
       "            <td>1</td>\n",
       "            <td>4</td>\n",
       "            <td>4</td>\n",
       "            <td>trial</td>\n",
       "            <td>2023-11-03</td>\n",
       "            <td>2023-11-04</td>\n",
       "        </tr>\n",
       "    </tbody>\n",
       "</table>"
      ],
      "text/plain": [
       "+-------+----------+------------+------+-------+------------+---------+-------+------------+------------+\n",
       "| ident | personal |   family   | dept | staff | experiment | ident_1 |  kind |  started   |   ended    |\n",
       "+-------+----------+------------+------+-------+------------+---------+-------+------------+------------+\n",
       "|   5   |  Jivika  |   Shroff   |  mb  |   5   |     1      |    1    | trial | 2023-11-09 |    None    |\n",
       "|   8   |  Saira   |   Sastry   |  mb  |   8   |     2      |    2    | trial | 2023-11-04 | 2023-11-05 |\n",
       "|   3   |   Ryan   |    Jain    | hist |   3   |     3      |    3    | trial | 2023-11-06 | 2023-11-07 |\n",
       "|   7   |  Yashvi  |   Chacko   |  mb  |   7   |     3      |    3    | trial | 2023-11-06 | 2023-11-07 |\n",
       "|   1   |  Jayesh  | Ramanathan | None |   1   |     4      |    4    | trial | 2023-11-03 | 2023-11-04 |\n",
       "+-------+----------+------------+------+-------+------------+---------+-------+------------+------------+"
      ]
     },
     "execution_count": 8,
     "metadata": {},
     "output_type": "execute_result"
    }
   ],
   "source": [
    "%%sql\n",
    "select *\n",
    "from staff inner join performed inner join experiment\n",
    "on staff.ident = performed.staff and performed.experiment = experiment.ident\n",
    "limit 5;"
   ]
  },
  {
   "cell_type": "markdown",
   "id": "30654858-d31e-4ddc-8e61-3f8868c270eb",
   "metadata": {},
   "source": [
    "-   Third step: database filters the result using `in` and a list of specific staff IDs\n",
    "    -   `staff.ident in (1, 2)` is the same as `(staff.ident = 1) or (staff.ident = 2)`\n",
    "    -   Again, only show a few rows (we saw the full output earlier)"
   ]
  },
  {
   "cell_type": "code",
   "execution_count": 9,
   "id": "665ff621-d063-46f6-a375-bd200295621c",
   "metadata": {},
   "outputs": [
    {
     "data": {
      "text/html": [
       "<span style=\"None\">Running query in &#x27;sqlite:///data/assays.db&#x27;</span>"
      ],
      "text/plain": [
       "Running query in 'sqlite:///data/assays.db'"
      ]
     },
     "metadata": {},
     "output_type": "display_data"
    },
    {
     "data": {
      "text/html": [
       "<table>\n",
       "    <thead>\n",
       "        <tr>\n",
       "            <th>ident</th>\n",
       "            <th>personal</th>\n",
       "            <th>family</th>\n",
       "            <th>dept</th>\n",
       "            <th>staff</th>\n",
       "            <th>experiment</th>\n",
       "            <th>ident_1</th>\n",
       "            <th>kind</th>\n",
       "            <th>started</th>\n",
       "            <th>ended</th>\n",
       "        </tr>\n",
       "    </thead>\n",
       "    <tbody>\n",
       "        <tr>\n",
       "            <td>1</td>\n",
       "            <td>Jayesh</td>\n",
       "            <td>Ramanathan</td>\n",
       "            <td>None</td>\n",
       "            <td>1</td>\n",
       "            <td>4</td>\n",
       "            <td>4</td>\n",
       "            <td>trial</td>\n",
       "            <td>2023-11-03</td>\n",
       "            <td>2023-11-04</td>\n",
       "        </tr>\n",
       "        <tr>\n",
       "            <td>1</td>\n",
       "            <td>Jayesh</td>\n",
       "            <td>Ramanathan</td>\n",
       "            <td>None</td>\n",
       "            <td>1</td>\n",
       "            <td>6</td>\n",
       "            <td>6</td>\n",
       "            <td>trial</td>\n",
       "            <td>2023-11-07</td>\n",
       "            <td>2023-11-08</td>\n",
       "        </tr>\n",
       "        <tr>\n",
       "            <td>1</td>\n",
       "            <td>Jayesh</td>\n",
       "            <td>Ramanathan</td>\n",
       "            <td>None</td>\n",
       "            <td>1</td>\n",
       "            <td>10</td>\n",
       "            <td>10</td>\n",
       "            <td>calibration</td>\n",
       "            <td>2023-11-01</td>\n",
       "            <td>2023-11-01</td>\n",
       "        </tr>\n",
       "        <tr>\n",
       "            <td>1</td>\n",
       "            <td>Jayesh</td>\n",
       "            <td>Ramanathan</td>\n",
       "            <td>None</td>\n",
       "            <td>1</td>\n",
       "            <td>11</td>\n",
       "            <td>11</td>\n",
       "            <td>calibration</td>\n",
       "            <td>2023-11-09</td>\n",
       "            <td>2023-11-09</td>\n",
       "        </tr>\n",
       "        <tr>\n",
       "            <td>1</td>\n",
       "            <td>Jayesh</td>\n",
       "            <td>Ramanathan</td>\n",
       "            <td>None</td>\n",
       "            <td>1</td>\n",
       "            <td>12</td>\n",
       "            <td>12</td>\n",
       "            <td>trial</td>\n",
       "            <td>2023-11-04</td>\n",
       "            <td>2023-11-06</td>\n",
       "        </tr>\n",
       "    </tbody>\n",
       "</table>"
      ],
      "text/plain": [
       "+-------+----------+------------+------+-------+------------+---------+-------------+------------+------------+\n",
       "| ident | personal |   family   | dept | staff | experiment | ident_1 |     kind    |  started   |   ended    |\n",
       "+-------+----------+------------+------+-------+------------+---------+-------------+------------+------------+\n",
       "|   1   |  Jayesh  | Ramanathan | None |   1   |     4      |    4    |    trial    | 2023-11-03 | 2023-11-04 |\n",
       "|   1   |  Jayesh  | Ramanathan | None |   1   |     6      |    6    |    trial    | 2023-11-07 | 2023-11-08 |\n",
       "|   1   |  Jayesh  | Ramanathan | None |   1   |     10     |    10   | calibration | 2023-11-01 | 2023-11-01 |\n",
       "|   1   |  Jayesh  | Ramanathan | None |   1   |     11     |    11   | calibration | 2023-11-09 | 2023-11-09 |\n",
       "|   1   |  Jayesh  | Ramanathan | None |   1   |     12     |    12   |    trial    | 2023-11-04 | 2023-11-06 |\n",
       "+-------+----------+------------+------+-------+------------+---------+-------------+------------+------------+"
      ]
     },
     "execution_count": 9,
     "metadata": {},
     "output_type": "execute_result"
    }
   ],
   "source": [
    "%%sql\n",
    "select *\n",
    "from staff inner join performed inner join experiment\n",
    "on staff.ident = performed.staff and performed.experiment = experiment.ident\n",
    "where staff.ident in (1, 2)\n",
    "limit 5;"
   ]
  },
  {
   "cell_type": "markdown",
   "id": "421b4dfc-03c8-4671-b027-e92096f465ca",
   "metadata": {},
   "source": [
    "-   Notice that the `ident` column from `experiment` has been named `ident_1` in the output\n",
    "-   Better practice to slim down the columns (e.g., remove the columns from the join table) and rename any duplicates\n",
    "-   Just for fun, we will add `offset 5` to look at rows *after* row 5 and order by start date\n",
    "    -   Note: sort *then* slice"
   ]
  },
  {
   "cell_type": "code",
   "execution_count": 15,
   "id": "ac30ffd2-1273-4d76-be5a-90b9c02a0240",
   "metadata": {},
   "outputs": [
    {
     "data": {
      "text/html": [
       "<span style=\"None\">Running query in &#x27;sqlite:///data/assays.db&#x27;</span>"
      ],
      "text/plain": [
       "Running query in 'sqlite:///data/assays.db'"
      ]
     },
     "metadata": {},
     "output_type": "display_data"
    },
    {
     "data": {
      "text/html": [
       "<table>\n",
       "    <thead>\n",
       "        <tr>\n",
       "            <th>personal</th>\n",
       "            <th>family</th>\n",
       "            <th>experiment_id</th>\n",
       "            <th>kind</th>\n",
       "            <th>started</th>\n",
       "            <th>ended</th>\n",
       "        </tr>\n",
       "    </thead>\n",
       "    <tbody>\n",
       "        <tr>\n",
       "            <td>Suhana</td>\n",
       "            <td>Chatterjee</td>\n",
       "            <td>37</td>\n",
       "            <td>trial</td>\n",
       "            <td>2023-11-04</td>\n",
       "            <td>2023-11-05</td>\n",
       "        </tr>\n",
       "        <tr>\n",
       "            <td>Jayesh</td>\n",
       "            <td>Ramanathan</td>\n",
       "            <td>42</td>\n",
       "            <td>trial</td>\n",
       "            <td>2023-11-04</td>\n",
       "            <td>2023-11-05</td>\n",
       "        </tr>\n",
       "        <tr>\n",
       "            <td>Jayesh</td>\n",
       "            <td>Ramanathan</td>\n",
       "            <td>17</td>\n",
       "            <td>calibration</td>\n",
       "            <td>2023-11-05</td>\n",
       "            <td>2023-11-05</td>\n",
       "        </tr>\n",
       "        <tr>\n",
       "            <td>Jayesh</td>\n",
       "            <td>Ramanathan</td>\n",
       "            <td>45</td>\n",
       "            <td>trial</td>\n",
       "            <td>2023-11-05</td>\n",
       "            <td>2023-11-06</td>\n",
       "        </tr>\n",
       "        <tr>\n",
       "            <td>Jayesh</td>\n",
       "            <td>Ramanathan</td>\n",
       "            <td>49</td>\n",
       "            <td>trial</td>\n",
       "            <td>2023-11-06</td>\n",
       "            <td>2023-11-08</td>\n",
       "        </tr>\n",
       "    </tbody>\n",
       "</table>"
      ],
      "text/plain": [
       "+----------+------------+---------------+-------------+------------+------------+\n",
       "| personal |   family   | experiment_id |     kind    |  started   |   ended    |\n",
       "+----------+------------+---------------+-------------+------------+------------+\n",
       "|  Suhana  | Chatterjee |       37      |    trial    | 2023-11-04 | 2023-11-05 |\n",
       "|  Jayesh  | Ramanathan |       42      |    trial    | 2023-11-04 | 2023-11-05 |\n",
       "|  Jayesh  | Ramanathan |       17      | calibration | 2023-11-05 | 2023-11-05 |\n",
       "|  Jayesh  | Ramanathan |       45      |    trial    | 2023-11-05 | 2023-11-06 |\n",
       "|  Jayesh  | Ramanathan |       49      |    trial    | 2023-11-06 | 2023-11-08 |\n",
       "+----------+------------+---------------+-------------+------------+------------+"
      ]
     },
     "execution_count": 15,
     "metadata": {},
     "output_type": "execute_result"
    }
   ],
   "source": [
    "%%sql\n",
    "select\n",
    "    staff.personal,\n",
    "    staff.family,\n",
    "    experiment.ident as experiment_id,\n",
    "    experiment.kind,\n",
    "    experiment.started,\n",
    "    experiment.ended\n",
    "from staff inner join performed inner join experiment\n",
    "on staff.ident = performed.staff and performed.experiment = experiment.ident\n",
    "where staff.ident in (1, 2)\n",
    "order by experiment.started asc\n",
    "limit 5 offset 5;"
   ]
  },
  {
   "cell_type": "markdown",
   "id": "fcc0dfd4-2729-47a4-bcc4-9e402ebd1794",
   "metadata": {},
   "source": [
    "-   How many experiments of each kind has each person been involved in?"
   ]
  },
  {
   "cell_type": "code",
   "execution_count": 21,
   "id": "b66fed56-6f64-401f-9917-3b80ecd248c2",
   "metadata": {},
   "outputs": [
    {
     "data": {
      "text/html": [
       "<span style=\"None\">Running query in &#x27;sqlite:///data/assays.db&#x27;</span>"
      ],
      "text/plain": [
       "Running query in 'sqlite:///data/assays.db'"
      ]
     },
     "metadata": {},
     "output_type": "display_data"
    },
    {
     "data": {
      "text/html": [
       "<table>\n",
       "    <thead>\n",
       "        <tr>\n",
       "            <th>personal</th>\n",
       "            <th>family</th>\n",
       "            <th>kind</th>\n",
       "            <th>num_experiment_kind</th>\n",
       "        </tr>\n",
       "    </thead>\n",
       "    <tbody>\n",
       "        <tr>\n",
       "            <td>Madhup</td>\n",
       "            <td>Barman</td>\n",
       "            <td>calibration</td>\n",
       "            <td>2</td>\n",
       "        </tr>\n",
       "        <tr>\n",
       "            <td>Madhup</td>\n",
       "            <td>Barman</td>\n",
       "            <td>trial</td>\n",
       "            <td>1</td>\n",
       "        </tr>\n",
       "        <tr>\n",
       "            <td>Yashvi</td>\n",
       "            <td>Chacko</td>\n",
       "            <td>calibration</td>\n",
       "            <td>1</td>\n",
       "        </tr>\n",
       "        <tr>\n",
       "            <td>Yashvi</td>\n",
       "            <td>Chacko</td>\n",
       "            <td>trial</td>\n",
       "            <td>7</td>\n",
       "        </tr>\n",
       "        <tr>\n",
       "            <td>Riaan</td>\n",
       "            <td>Chana</td>\n",
       "            <td>trial</td>\n",
       "            <td>7</td>\n",
       "        </tr>\n",
       "        <tr>\n",
       "            <td>Suhana</td>\n",
       "            <td>Chatterjee</td>\n",
       "            <td>trial</td>\n",
       "            <td>2</td>\n",
       "        </tr>\n",
       "        <tr>\n",
       "            <td>Badal</td>\n",
       "            <td>Dyal</td>\n",
       "            <td>calibration</td>\n",
       "            <td>2</td>\n",
       "        </tr>\n",
       "        <tr>\n",
       "            <td>Badal</td>\n",
       "            <td>Dyal</td>\n",
       "            <td>trial</td>\n",
       "            <td>3</td>\n",
       "        </tr>\n",
       "        <tr>\n",
       "            <td>Ryan</td>\n",
       "            <td>Jain</td>\n",
       "            <td>calibration</td>\n",
       "            <td>3</td>\n",
       "        </tr>\n",
       "        <tr>\n",
       "            <td>Ryan</td>\n",
       "            <td>Jain</td>\n",
       "            <td>trial</td>\n",
       "            <td>3</td>\n",
       "        </tr>\n",
       "        <tr>\n",
       "            <td>Ela</td>\n",
       "            <td>Jani</td>\n",
       "            <td>calibration</td>\n",
       "            <td>1</td>\n",
       "        </tr>\n",
       "        <tr>\n",
       "            <td>Ela</td>\n",
       "            <td>Jani</td>\n",
       "            <td>trial</td>\n",
       "            <td>5</td>\n",
       "        </tr>\n",
       "        <tr>\n",
       "            <td>Jayesh</td>\n",
       "            <td>Ramanathan</td>\n",
       "            <td>calibration</td>\n",
       "            <td>4</td>\n",
       "        </tr>\n",
       "        <tr>\n",
       "            <td>Jayesh</td>\n",
       "            <td>Ramanathan</td>\n",
       "            <td>trial</td>\n",
       "            <td>9</td>\n",
       "        </tr>\n",
       "        <tr>\n",
       "            <td>Saira</td>\n",
       "            <td>Sastry</td>\n",
       "            <td>calibration</td>\n",
       "            <td>3</td>\n",
       "        </tr>\n",
       "        <tr>\n",
       "            <td>Saira</td>\n",
       "            <td>Sastry</td>\n",
       "            <td>trial</td>\n",
       "            <td>6</td>\n",
       "        </tr>\n",
       "        <tr>\n",
       "            <td>Jivika</td>\n",
       "            <td>Shroff</td>\n",
       "            <td>calibration</td>\n",
       "            <td>1</td>\n",
       "        </tr>\n",
       "        <tr>\n",
       "            <td>Jivika</td>\n",
       "            <td>Shroff</td>\n",
       "            <td>trial</td>\n",
       "            <td>5</td>\n",
       "        </tr>\n",
       "    </tbody>\n",
       "</table>"
      ],
      "text/plain": [
       "+----------+------------+-------------+---------------------+\n",
       "| personal |   family   |     kind    | num_experiment_kind |\n",
       "+----------+------------+-------------+---------------------+\n",
       "|  Madhup  |   Barman   | calibration |          2          |\n",
       "|  Madhup  |   Barman   |    trial    |          1          |\n",
       "|  Yashvi  |   Chacko   | calibration |          1          |\n",
       "|  Yashvi  |   Chacko   |    trial    |          7          |\n",
       "|  Riaan   |   Chana    |    trial    |          7          |\n",
       "|  Suhana  | Chatterjee |    trial    |          2          |\n",
       "|  Badal   |    Dyal    | calibration |          2          |\n",
       "|  Badal   |    Dyal    |    trial    |          3          |\n",
       "|   Ryan   |    Jain    | calibration |          3          |\n",
       "|   Ryan   |    Jain    |    trial    |          3          |\n",
       "|   Ela    |    Jani    | calibration |          1          |\n",
       "|   Ela    |    Jani    |    trial    |          5          |\n",
       "|  Jayesh  | Ramanathan | calibration |          4          |\n",
       "|  Jayesh  | Ramanathan |    trial    |          9          |\n",
       "|  Saira   |   Sastry   | calibration |          3          |\n",
       "|  Saira   |   Sastry   |    trial    |          6          |\n",
       "|  Jivika  |   Shroff   | calibration |          1          |\n",
       "|  Jivika  |   Shroff   |    trial    |          5          |\n",
       "+----------+------------+-------------+---------------------+"
      ]
     },
     "execution_count": 21,
     "metadata": {},
     "output_type": "execute_result"
    }
   ],
   "source": [
    "%%sql\n",
    "select\n",
    "    staff.personal,\n",
    "    staff.family,\n",
    "    experiment.kind,\n",
    "    count(*) as num_experiment_kind\n",
    "from staff inner join performed inner join experiment\n",
    "on staff.ident = performed.staff and performed.experiment = experiment.ident\n",
    "group by staff.ident, experiment.kind\n",
    "order by staff.family, staff.personal, experiment.kind;"
   ]
  },
  {
   "cell_type": "markdown",
   "id": "826681c3-0e0e-4e4c-9354-39577cde80b3",
   "metadata": {},
   "source": [
    "-   Riaan Chana and Suhana Chatterjee weren't involved in any calibration experiments\n",
    "-   Would like to see entries with 0 for them"
   ]
  }
 ],
 "metadata": {
  "kernelspec": {
   "display_name": "Python 3 (ipykernel)",
   "language": "python",
   "name": "python3"
  },
  "language_info": {
   "codemirror_mode": {
    "name": "ipython",
    "version": 3
   },
   "file_extension": ".py",
   "mimetype": "text/x-python",
   "name": "python",
   "nbconvert_exporter": "python",
   "pygments_lexer": "ipython3",
   "version": "3.12.1"
  }
 },
 "nbformat": 4,
 "nbformat_minor": 5
}
