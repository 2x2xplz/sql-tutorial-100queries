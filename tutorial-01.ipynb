{
 "cells": [
  {
   "cell_type": "markdown",
   "id": "2caca289-3ed0-4625-95d6-adf87b7a9d52",
   "metadata": {},
   "source": [
    "# SQL Tutorial 1: Simple Queries"
   ]
  },
  {
   "cell_type": "markdown",
   "id": "da65aea9-7a6a-4b69-8250-24cef4cbe175",
   "metadata": {},
   "source": [
    "- `pip install requirements.txt` to install `jupysql` *before* running `jupyter lab`\n",
    "- Load the [jupysql](https://jupysql.ploomber.io/) extension"
   ]
  },
  {
   "cell_type": "code",
   "execution_count": 1,
   "id": "099011ba-971f-4319-b3d8-9764d13c49d7",
   "metadata": {},
   "outputs": [],
   "source": [
    "%load_ext sql"
   ]
  },
  {
   "cell_type": "markdown",
   "id": "15d82cfd-c0c9-4ae9-800e-17b920ee866f",
   "metadata": {},
   "source": [
    "- Connect to the `penguins.db` SQLite database\n",
    "- This database has one table called `penguins` which was created from `penguins.csv`"
   ]
  },
  {
   "cell_type": "code",
   "execution_count": 2,
   "id": "8c4b6c44-b58c-4c3d-aebd-f176f6a72e84",
   "metadata": {},
   "outputs": [
    {
     "data": {
      "text/html": [
       "<span style=\"None\">Connecting to &#x27;sqlite:///penguins.db&#x27;</span>"
      ],
      "text/plain": [
       "Connecting to 'sqlite:///penguins.db'"
      ]
     },
     "metadata": {},
     "output_type": "display_data"
    }
   ],
   "source": [
    "%sql sqlite:///penguins.db"
   ]
  },
  {
   "cell_type": "markdown",
   "id": "1544ce37-8bc4-4aad-ab61-d90f8efefd9e",
   "metadata": {},
   "source": [
    "- Create a SQL cell by putting `%%sql` on the first line and a valid SQL query in the rest of the cell.\n",
    "- The query `select * from penguins` gets all columns for all rows from the `penguins` table.\n",
    "- The semi-colon at the end is required.\n",
    "- The `jupysql` extension truncates the display to 10 rows by default."
   ]
  },
  {
   "cell_type": "code",
   "execution_count": 3,
   "id": "3e394a73-b3e4-4b9d-a22b-549197747d1d",
   "metadata": {},
   "outputs": [
    {
     "data": {
      "text/html": [
       "<span style=\"None\">Running query in &#x27;sqlite:///penguins.db&#x27;</span>"
      ],
      "text/plain": [
       "Running query in 'sqlite:///penguins.db'"
      ]
     },
     "metadata": {},
     "output_type": "display_data"
    },
    {
     "data": {
      "text/html": [
       "<table>\n",
       "    <thead>\n",
       "        <tr>\n",
       "            <th>species</th>\n",
       "            <th>island</th>\n",
       "            <th>bill_length_mm</th>\n",
       "            <th>bill_depth_mm</th>\n",
       "            <th>flipper_length_mm</th>\n",
       "            <th>body_mass_g</th>\n",
       "            <th>sex</th>\n",
       "        </tr>\n",
       "    </thead>\n",
       "    <tbody>\n",
       "        <tr>\n",
       "            <td>Adelie</td>\n",
       "            <td>Torgersen</td>\n",
       "            <td>39.1</td>\n",
       "            <td>18.7</td>\n",
       "            <td>181</td>\n",
       "            <td>3750</td>\n",
       "            <td>MALE</td>\n",
       "        </tr>\n",
       "        <tr>\n",
       "            <td>Adelie</td>\n",
       "            <td>Torgersen</td>\n",
       "            <td>39.5</td>\n",
       "            <td>17.4</td>\n",
       "            <td>186</td>\n",
       "            <td>3800</td>\n",
       "            <td>FEMALE</td>\n",
       "        </tr>\n",
       "        <tr>\n",
       "            <td>Adelie</td>\n",
       "            <td>Torgersen</td>\n",
       "            <td>40.3</td>\n",
       "            <td>18</td>\n",
       "            <td>195</td>\n",
       "            <td>3250</td>\n",
       "            <td>FEMALE</td>\n",
       "        </tr>\n",
       "        <tr>\n",
       "            <td>Adelie</td>\n",
       "            <td>Torgersen</td>\n",
       "            <td>None</td>\n",
       "            <td>None</td>\n",
       "            <td>None</td>\n",
       "            <td>None</td>\n",
       "            <td>None</td>\n",
       "        </tr>\n",
       "        <tr>\n",
       "            <td>Adelie</td>\n",
       "            <td>Torgersen</td>\n",
       "            <td>36.7</td>\n",
       "            <td>19.3</td>\n",
       "            <td>193</td>\n",
       "            <td>3450</td>\n",
       "            <td>FEMALE</td>\n",
       "        </tr>\n",
       "        <tr>\n",
       "            <td>Adelie</td>\n",
       "            <td>Torgersen</td>\n",
       "            <td>39.3</td>\n",
       "            <td>20.6</td>\n",
       "            <td>190</td>\n",
       "            <td>3650</td>\n",
       "            <td>MALE</td>\n",
       "        </tr>\n",
       "        <tr>\n",
       "            <td>Adelie</td>\n",
       "            <td>Torgersen</td>\n",
       "            <td>38.9</td>\n",
       "            <td>17.8</td>\n",
       "            <td>181</td>\n",
       "            <td>3625</td>\n",
       "            <td>FEMALE</td>\n",
       "        </tr>\n",
       "        <tr>\n",
       "            <td>Adelie</td>\n",
       "            <td>Torgersen</td>\n",
       "            <td>39.2</td>\n",
       "            <td>19.6</td>\n",
       "            <td>195</td>\n",
       "            <td>4675</td>\n",
       "            <td>MALE</td>\n",
       "        </tr>\n",
       "        <tr>\n",
       "            <td>Adelie</td>\n",
       "            <td>Torgersen</td>\n",
       "            <td>34.1</td>\n",
       "            <td>18.1</td>\n",
       "            <td>193</td>\n",
       "            <td>3475</td>\n",
       "            <td>None</td>\n",
       "        </tr>\n",
       "        <tr>\n",
       "            <td>Adelie</td>\n",
       "            <td>Torgersen</td>\n",
       "            <td>42</td>\n",
       "            <td>20.2</td>\n",
       "            <td>190</td>\n",
       "            <td>4250</td>\n",
       "            <td>None</td>\n",
       "        </tr>\n",
       "    </tbody>\n",
       "</table>\n",
       "<span style=\"font-style:italic;text-align:center;\">Truncated to <a href=\"https://jupysql.ploomber.io/en/latest/api/configuration.html#displaylimit\">displaylimit</a> of 10.</span>"
      ],
      "text/plain": [
       "+---------+-----------+----------------+---------------+-------------------+-------------+--------+\n",
       "| species |   island  | bill_length_mm | bill_depth_mm | flipper_length_mm | body_mass_g |  sex   |\n",
       "+---------+-----------+----------------+---------------+-------------------+-------------+--------+\n",
       "|  Adelie | Torgersen |      39.1      |      18.7     |        181        |     3750    |  MALE  |\n",
       "|  Adelie | Torgersen |      39.5      |      17.4     |        186        |     3800    | FEMALE |\n",
       "|  Adelie | Torgersen |      40.3      |       18      |        195        |     3250    | FEMALE |\n",
       "|  Adelie | Torgersen |      None      |      None     |        None       |     None    |  None  |\n",
       "|  Adelie | Torgersen |      36.7      |      19.3     |        193        |     3450    | FEMALE |\n",
       "|  Adelie | Torgersen |      39.3      |      20.6     |        190        |     3650    |  MALE  |\n",
       "|  Adelie | Torgersen |      38.9      |      17.8     |        181        |     3625    | FEMALE |\n",
       "|  Adelie | Torgersen |      39.2      |      19.6     |        195        |     4675    |  MALE  |\n",
       "|  Adelie | Torgersen |      34.1      |      18.1     |        193        |     3475    |  None  |\n",
       "|  Adelie | Torgersen |       42       |      20.2     |        190        |     4250    |  None  |\n",
       "+---------+-----------+----------------+---------------+-------------------+-------------+--------+\n",
       "Truncated to displaylimit of 10."
      ]
     },
     "execution_count": 3,
     "metadata": {},
     "output_type": "execute_result"
    }
   ],
   "source": [
    "%%sql\n",
    "select *\n",
    "from penguins;"
   ]
  },
  {
   "cell_type": "markdown",
   "id": "2728297e-45e7-4055-b143-730ce9c92d3f",
   "metadata": {},
   "source": [
    "- We can select only the columns we want by giving their names (in any order)\n",
    "- And use `limit N` to specify a maximum number of rows"
   ]
  },
  {
   "cell_type": "code",
   "execution_count": 4,
   "id": "46149614-8e68-4d6c-af2e-1f3d99cfd0c1",
   "metadata": {},
   "outputs": [
    {
     "data": {
      "text/html": [
       "<span style=\"None\">Running query in &#x27;sqlite:///penguins.db&#x27;</span>"
      ],
      "text/plain": [
       "Running query in 'sqlite:///penguins.db'"
      ]
     },
     "metadata": {},
     "output_type": "display_data"
    },
    {
     "data": {
      "text/html": [
       "<table>\n",
       "    <thead>\n",
       "        <tr>\n",
       "            <th>island</th>\n",
       "            <th>species</th>\n",
       "            <th>sex</th>\n",
       "        </tr>\n",
       "    </thead>\n",
       "    <tbody>\n",
       "        <tr>\n",
       "            <td>Torgersen</td>\n",
       "            <td>Adelie</td>\n",
       "            <td>MALE</td>\n",
       "        </tr>\n",
       "        <tr>\n",
       "            <td>Torgersen</td>\n",
       "            <td>Adelie</td>\n",
       "            <td>FEMALE</td>\n",
       "        </tr>\n",
       "        <tr>\n",
       "            <td>Torgersen</td>\n",
       "            <td>Adelie</td>\n",
       "            <td>FEMALE</td>\n",
       "        </tr>\n",
       "        <tr>\n",
       "            <td>Torgersen</td>\n",
       "            <td>Adelie</td>\n",
       "            <td>None</td>\n",
       "        </tr>\n",
       "        <tr>\n",
       "            <td>Torgersen</td>\n",
       "            <td>Adelie</td>\n",
       "            <td>FEMALE</td>\n",
       "        </tr>\n",
       "    </tbody>\n",
       "</table>"
      ],
      "text/plain": [
       "+-----------+---------+--------+\n",
       "|   island  | species |  sex   |\n",
       "+-----------+---------+--------+\n",
       "| Torgersen |  Adelie |  MALE  |\n",
       "| Torgersen |  Adelie | FEMALE |\n",
       "| Torgersen |  Adelie | FEMALE |\n",
       "| Torgersen |  Adelie |  None  |\n",
       "| Torgersen |  Adelie | FEMALE |\n",
       "+-----------+---------+--------+"
      ]
     },
     "execution_count": 4,
     "metadata": {},
     "output_type": "execute_result"
    }
   ],
   "source": [
    "%%sql\n",
    "select island, species, sex\n",
    "from penguins\n",
    "limit 5;"
   ]
  },
  {
   "cell_type": "markdown",
   "id": "775a9a23-bc79-4543-b263-8a7511875848",
   "metadata": {},
   "source": [
    "- The order of the clauses in the `select` statement matters"
   ]
  },
  {
   "cell_type": "code",
   "execution_count": 5,
   "id": "2e538f1f-afff-4a76-a3bd-69093f295f76",
   "metadata": {
    "editable": true,
    "slideshow": {
     "slide_type": ""
    },
    "tags": [
     "raises-exception"
    ]
   },
   "outputs": [
    {
     "data": {
      "text/html": [
       "<span style=\"None\">Running query in &#x27;sqlite:///penguins.db&#x27;</span>"
      ],
      "text/plain": [
       "Running query in 'sqlite:///penguins.db'"
      ]
     },
     "metadata": {},
     "output_type": "display_data"
    },
    {
     "name": "stderr",
     "output_type": "stream",
     "text": [
      "RuntimeError: If using snippets, you may pass the --with argument explicitly.\n",
      "For more details please refer: https://jupysql.ploomber.io/en/latest/compose.html#with-argument\n",
      "\n",
      "\n",
      "Original error message from DB driver:\n",
      "(sqlite3.OperationalError) near \"from\": syntax error\n",
      "[SQL: from penguins\n",
      "select island, species, sex\n",
      "limit 5;]\n",
      "(Background on this error at: https://sqlalche.me/e/20/e3q8)\n",
      "\n",
      "If you need help solving this issue, send us a message: https://ploomber.io/community\n"
     ]
    }
   ],
   "source": [
    "%%sql\n",
    "from penguins\n",
    "select island, species, sex\n",
    "limit 5;"
   ]
  },
  {
   "cell_type": "markdown",
   "id": "3d430fba-a46d-4a3b-8572-64ac9fbaf652",
   "metadata": {
    "editable": true,
    "slideshow": {
     "slide_type": ""
    },
    "tags": []
   },
   "source": [
    "- Let's change the configuration of our display\n",
    "  - These are *not* SQL or SQLite commands: they are specific to Jupyter and the `jupysql` plugin"
   ]
  },
  {
   "cell_type": "code",
   "execution_count": 6,
   "id": "2cd89fe1-5c23-4075-b456-10bd8a2d4d44",
   "metadata": {},
   "outputs": [],
   "source": [
    "%config SqlMagic.autolimit = 0\n",
    "%config SqlMagic.displaylimit = 0"
   ]
  },
  {
   "cell_type": "markdown",
   "id": "7b0cb6a4-ffc9-481c-a38b-98e736f72f57",
   "metadata": {},
   "source": [
    "- The `distinct` keyword eliminates duplicated rows from the results\n",
    "- We don't have to sort the data first (unlike `sort | uniq` in the Unix shell)"
   ]
  },
  {
   "cell_type": "code",
   "execution_count": 7,
   "id": "f8709536-85a6-46c3-abab-e6e7c2144876",
   "metadata": {},
   "outputs": [
    {
     "data": {
      "text/html": [
       "<span style=\"None\">Running query in &#x27;sqlite:///penguins.db&#x27;</span>"
      ],
      "text/plain": [
       "Running query in 'sqlite:///penguins.db'"
      ]
     },
     "metadata": {},
     "output_type": "display_data"
    },
    {
     "data": {
      "text/html": [
       "<table>\n",
       "    <thead>\n",
       "        <tr>\n",
       "            <th>island</th>\n",
       "            <th>species</th>\n",
       "            <th>sex</th>\n",
       "        </tr>\n",
       "    </thead>\n",
       "    <tbody>\n",
       "        <tr>\n",
       "            <td>Torgersen</td>\n",
       "            <td>Adelie</td>\n",
       "            <td>MALE</td>\n",
       "        </tr>\n",
       "        <tr>\n",
       "            <td>Torgersen</td>\n",
       "            <td>Adelie</td>\n",
       "            <td>FEMALE</td>\n",
       "        </tr>\n",
       "        <tr>\n",
       "            <td>Torgersen</td>\n",
       "            <td>Adelie</td>\n",
       "            <td>None</td>\n",
       "        </tr>\n",
       "        <tr>\n",
       "            <td>Biscoe</td>\n",
       "            <td>Adelie</td>\n",
       "            <td>FEMALE</td>\n",
       "        </tr>\n",
       "        <tr>\n",
       "            <td>Biscoe</td>\n",
       "            <td>Adelie</td>\n",
       "            <td>MALE</td>\n",
       "        </tr>\n",
       "        <tr>\n",
       "            <td>Dream</td>\n",
       "            <td>Adelie</td>\n",
       "            <td>FEMALE</td>\n",
       "        </tr>\n",
       "        <tr>\n",
       "            <td>Dream</td>\n",
       "            <td>Adelie</td>\n",
       "            <td>MALE</td>\n",
       "        </tr>\n",
       "        <tr>\n",
       "            <td>Dream</td>\n",
       "            <td>Adelie</td>\n",
       "            <td>None</td>\n",
       "        </tr>\n",
       "        <tr>\n",
       "            <td>Dream</td>\n",
       "            <td>Chinstrap</td>\n",
       "            <td>FEMALE</td>\n",
       "        </tr>\n",
       "        <tr>\n",
       "            <td>Dream</td>\n",
       "            <td>Chinstrap</td>\n",
       "            <td>MALE</td>\n",
       "        </tr>\n",
       "        <tr>\n",
       "            <td>Biscoe</td>\n",
       "            <td>Gentoo</td>\n",
       "            <td>FEMALE</td>\n",
       "        </tr>\n",
       "        <tr>\n",
       "            <td>Biscoe</td>\n",
       "            <td>Gentoo</td>\n",
       "            <td>MALE</td>\n",
       "        </tr>\n",
       "        <tr>\n",
       "            <td>Biscoe</td>\n",
       "            <td>Gentoo</td>\n",
       "            <td>None</td>\n",
       "        </tr>\n",
       "    </tbody>\n",
       "</table>"
      ],
      "text/plain": [
       "+-----------+-----------+--------+\n",
       "|   island  |  species  |  sex   |\n",
       "+-----------+-----------+--------+\n",
       "| Torgersen |   Adelie  |  MALE  |\n",
       "| Torgersen |   Adelie  | FEMALE |\n",
       "| Torgersen |   Adelie  |  None  |\n",
       "|   Biscoe  |   Adelie  | FEMALE |\n",
       "|   Biscoe  |   Adelie  |  MALE  |\n",
       "|   Dream   |   Adelie  | FEMALE |\n",
       "|   Dream   |   Adelie  |  MALE  |\n",
       "|   Dream   |   Adelie  |  None  |\n",
       "|   Dream   | Chinstrap | FEMALE |\n",
       "|   Dream   | Chinstrap |  MALE  |\n",
       "|   Biscoe  |   Gentoo  | FEMALE |\n",
       "|   Biscoe  |   Gentoo  |  MALE  |\n",
       "|   Biscoe  |   Gentoo  |  None  |\n",
       "+-----------+-----------+--------+"
      ]
     },
     "execution_count": 7,
     "metadata": {},
     "output_type": "execute_result"
    }
   ],
   "source": [
    "%%sql\n",
    "select distinct island, species, sex\n",
    "from penguins;"
   ]
  },
  {
   "cell_type": "markdown",
   "id": "c2f06ec4-872f-4326-87d1-32e86a9cfd29",
   "metadata": {},
   "source": [
    "- To sort, we can use `order by asc` (for \"ascending\") or `desc` (for \"descending\") to sort results\n",
    "  - If we just use `order by`, we get ascending order\n",
    "  - But please make the ordering explicit"
   ]
  },
  {
   "cell_type": "code",
   "execution_count": 8,
   "id": "3b850bbf-1159-4a45-a34c-f9b5cb1e8c47",
   "metadata": {},
   "outputs": [
    {
     "data": {
      "text/html": [
       "<span style=\"None\">Running query in &#x27;sqlite:///penguins.db&#x27;</span>"
      ],
      "text/plain": [
       "Running query in 'sqlite:///penguins.db'"
      ]
     },
     "metadata": {},
     "output_type": "display_data"
    },
    {
     "data": {
      "text/html": [
       "<table>\n",
       "    <thead>\n",
       "        <tr>\n",
       "            <th>island</th>\n",
       "            <th>species</th>\n",
       "        </tr>\n",
       "    </thead>\n",
       "    <tbody>\n",
       "        <tr>\n",
       "            <td>Torgersen</td>\n",
       "            <td>Adelie</td>\n",
       "        </tr>\n",
       "        <tr>\n",
       "            <td>Dream</td>\n",
       "            <td>Adelie</td>\n",
       "        </tr>\n",
       "        <tr>\n",
       "            <td>Biscoe</td>\n",
       "            <td>Adelie</td>\n",
       "        </tr>\n",
       "        <tr>\n",
       "            <td>Dream</td>\n",
       "            <td>Chinstrap</td>\n",
       "        </tr>\n",
       "        <tr>\n",
       "            <td>Biscoe</td>\n",
       "            <td>Gentoo</td>\n",
       "        </tr>\n",
       "    </tbody>\n",
       "</table>"
      ],
      "text/plain": [
       "+-----------+-----------+\n",
       "|   island  |  species  |\n",
       "+-----------+-----------+\n",
       "| Torgersen |   Adelie  |\n",
       "|   Dream   |   Adelie  |\n",
       "|   Biscoe  |   Adelie  |\n",
       "|   Dream   | Chinstrap |\n",
       "|   Biscoe  |   Gentoo  |\n",
       "+-----------+-----------+"
      ]
     },
     "execution_count": 8,
     "metadata": {},
     "output_type": "execute_result"
    }
   ],
   "source": [
    "%%sql\n",
    "select distinct island, species\n",
    "from penguins\n",
    "order by species asc, island desc;"
   ]
  },
  {
   "cell_type": "markdown",
   "id": "53b1a78e-39ca-4d46-9821-b89bdc03a543",
   "metadata": {},
   "source": [
    "- We can *filter* data by specifying a Boolean condition using `where`\n",
    "- Each row is tested independently\n",
    "- Only the rows that pass the test are kept"
   ]
  },
  {
   "cell_type": "code",
   "execution_count": 9,
   "id": "0efb4e81-1cbc-4629-9afb-cc456b89af63",
   "metadata": {},
   "outputs": [
    {
     "data": {
      "text/html": [
       "<span style=\"None\">Running query in &#x27;sqlite:///penguins.db&#x27;</span>"
      ],
      "text/plain": [
       "Running query in 'sqlite:///penguins.db'"
      ]
     },
     "metadata": {},
     "output_type": "display_data"
    },
    {
     "data": {
      "text/html": [
       "<table>\n",
       "    <thead>\n",
       "        <tr>\n",
       "            <th>island</th>\n",
       "            <th>species</th>\n",
       "            <th>sex</th>\n",
       "        </tr>\n",
       "    </thead>\n",
       "    <tbody>\n",
       "        <tr>\n",
       "            <td>Torgersen</td>\n",
       "            <td>Adelie</td>\n",
       "            <td>FEMALE</td>\n",
       "        </tr>\n",
       "        <tr>\n",
       "            <td>Torgersen</td>\n",
       "            <td>Adelie</td>\n",
       "            <td>FEMALE</td>\n",
       "        </tr>\n",
       "        <tr>\n",
       "            <td>Torgersen</td>\n",
       "            <td>Adelie</td>\n",
       "            <td>FEMALE</td>\n",
       "        </tr>\n",
       "        <tr>\n",
       "            <td>Torgersen</td>\n",
       "            <td>Adelie</td>\n",
       "            <td>FEMALE</td>\n",
       "        </tr>\n",
       "        <tr>\n",
       "            <td>Torgersen</td>\n",
       "            <td>Adelie</td>\n",
       "            <td>FEMALE</td>\n",
       "        </tr>\n",
       "    </tbody>\n",
       "</table>"
      ],
      "text/plain": [
       "+-----------+---------+--------+\n",
       "|   island  | species |  sex   |\n",
       "+-----------+---------+--------+\n",
       "| Torgersen |  Adelie | FEMALE |\n",
       "| Torgersen |  Adelie | FEMALE |\n",
       "| Torgersen |  Adelie | FEMALE |\n",
       "| Torgersen |  Adelie | FEMALE |\n",
       "| Torgersen |  Adelie | FEMALE |\n",
       "+-----------+---------+--------+"
      ]
     },
     "execution_count": 9,
     "metadata": {},
     "output_type": "execute_result"
    }
   ],
   "source": [
    "%%sql\n",
    "select island, species, sex\n",
    "from penguins\n",
    "where sex = \"FEMALE\"\n",
    "limit 5;"
   ]
  },
  {
   "cell_type": "markdown",
   "id": "cac5e78f-7c76-42f1-a21e-7797b9de5b1d",
   "metadata": {
    "editable": true,
    "slideshow": {
     "slide_type": ""
    },
    "tags": []
   },
   "source": [
    "- Re-run that with `distinct` to show what kinds of rows it selects"
   ]
  },
  {
   "cell_type": "code",
   "execution_count": 10,
   "id": "e8d4d917-fa82-4b2b-be4d-5e665cf2a14d",
   "metadata": {},
   "outputs": [
    {
     "data": {
      "text/html": [
       "<span style=\"None\">Running query in &#x27;sqlite:///penguins.db&#x27;</span>"
      ],
      "text/plain": [
       "Running query in 'sqlite:///penguins.db'"
      ]
     },
     "metadata": {},
     "output_type": "display_data"
    },
    {
     "data": {
      "text/html": [
       "<table>\n",
       "    <thead>\n",
       "        <tr>\n",
       "            <th>island</th>\n",
       "            <th>species</th>\n",
       "            <th>sex</th>\n",
       "        </tr>\n",
       "    </thead>\n",
       "    <tbody>\n",
       "        <tr>\n",
       "            <td>Torgersen</td>\n",
       "            <td>Adelie</td>\n",
       "            <td>FEMALE</td>\n",
       "        </tr>\n",
       "        <tr>\n",
       "            <td>Biscoe</td>\n",
       "            <td>Adelie</td>\n",
       "            <td>FEMALE</td>\n",
       "        </tr>\n",
       "        <tr>\n",
       "            <td>Dream</td>\n",
       "            <td>Adelie</td>\n",
       "            <td>FEMALE</td>\n",
       "        </tr>\n",
       "        <tr>\n",
       "            <td>Dream</td>\n",
       "            <td>Chinstrap</td>\n",
       "            <td>FEMALE</td>\n",
       "        </tr>\n",
       "        <tr>\n",
       "            <td>Biscoe</td>\n",
       "            <td>Gentoo</td>\n",
       "            <td>FEMALE</td>\n",
       "        </tr>\n",
       "    </tbody>\n",
       "</table>"
      ],
      "text/plain": [
       "+-----------+-----------+--------+\n",
       "|   island  |  species  |  sex   |\n",
       "+-----------+-----------+--------+\n",
       "| Torgersen |   Adelie  | FEMALE |\n",
       "|   Biscoe  |   Adelie  | FEMALE |\n",
       "|   Dream   |   Adelie  | FEMALE |\n",
       "|   Dream   | Chinstrap | FEMALE |\n",
       "|   Biscoe  |   Gentoo  | FEMALE |\n",
       "+-----------+-----------+--------+"
      ]
     },
     "execution_count": 10,
     "metadata": {},
     "output_type": "execute_result"
    }
   ],
   "source": [
    "%%sql\n",
    "select distinct island, species, sex\n",
    "from penguins\n",
    "where sex = \"FEMALE\";"
   ]
  },
  {
   "cell_type": "markdown",
   "id": "59748d88-1086-4fe5-9abe-a711c27c1fab",
   "metadata": {},
   "source": [
    "- When using `and`, row must pass *both* tests in order to be included in the results"
   ]
  },
  {
   "cell_type": "code",
   "execution_count": 11,
   "id": "74532374-8ab8-4a1f-8ef5-9794db163432",
   "metadata": {},
   "outputs": [
    {
     "data": {
      "text/html": [
       "<span style=\"None\">Running query in &#x27;sqlite:///penguins.db&#x27;</span>"
      ],
      "text/plain": [
       "Running query in 'sqlite:///penguins.db'"
      ]
     },
     "metadata": {},
     "output_type": "display_data"
    },
    {
     "data": {
      "text/html": [
       "<table>\n",
       "    <thead>\n",
       "        <tr>\n",
       "            <th>island</th>\n",
       "            <th>species</th>\n",
       "            <th>sex</th>\n",
       "        </tr>\n",
       "    </thead>\n",
       "    <tbody>\n",
       "        <tr>\n",
       "            <td>Dream</td>\n",
       "            <td>Adelie</td>\n",
       "            <td>FEMALE</td>\n",
       "        </tr>\n",
       "        <tr>\n",
       "            <td>Dream</td>\n",
       "            <td>Chinstrap</td>\n",
       "            <td>FEMALE</td>\n",
       "        </tr>\n",
       "    </tbody>\n",
       "</table>"
      ],
      "text/plain": [
       "+--------+-----------+--------+\n",
       "| island |  species  |  sex   |\n",
       "+--------+-----------+--------+\n",
       "| Dream  |   Adelie  | FEMALE |\n",
       "| Dream  | Chinstrap | FEMALE |\n",
       "+--------+-----------+--------+"
      ]
     },
     "execution_count": 11,
     "metadata": {},
     "output_type": "execute_result"
    }
   ],
   "source": [
    "%%sql\n",
    "select distinct island, species, sex\n",
    "from penguins\n",
    "where sex = \"FEMALE\" and island = \"Dream\";"
   ]
  },
  {
   "cell_type": "markdown",
   "id": "6ee3b52f-b431-4d40-83ce-6b421a2be4af",
   "metadata": {},
   "source": [
    "- When using `or`, select rows that pass *either* test (or both)"
   ]
  },
  {
   "cell_type": "code",
   "execution_count": 12,
   "id": "6f5327d3-b451-4044-a7ee-ef542ad5a202",
   "metadata": {},
   "outputs": [
    {
     "data": {
      "text/html": [
       "<span style=\"None\">Running query in &#x27;sqlite:///penguins.db&#x27;</span>"
      ],
      "text/plain": [
       "Running query in 'sqlite:///penguins.db'"
      ]
     },
     "metadata": {},
     "output_type": "display_data"
    },
    {
     "data": {
      "text/html": [
       "<table>\n",
       "    <thead>\n",
       "        <tr>\n",
       "            <th>island</th>\n",
       "            <th>species</th>\n",
       "            <th>sex</th>\n",
       "        </tr>\n",
       "    </thead>\n",
       "    <tbody>\n",
       "        <tr>\n",
       "            <td>Torgersen</td>\n",
       "            <td>Adelie</td>\n",
       "            <td>FEMALE</td>\n",
       "        </tr>\n",
       "        <tr>\n",
       "            <td>Biscoe</td>\n",
       "            <td>Adelie</td>\n",
       "            <td>FEMALE</td>\n",
       "        </tr>\n",
       "        <tr>\n",
       "            <td>Dream</td>\n",
       "            <td>Adelie</td>\n",
       "            <td>FEMALE</td>\n",
       "        </tr>\n",
       "        <tr>\n",
       "            <td>Dream</td>\n",
       "            <td>Adelie</td>\n",
       "            <td>MALE</td>\n",
       "        </tr>\n",
       "        <tr>\n",
       "            <td>Dream</td>\n",
       "            <td>Adelie</td>\n",
       "            <td>None</td>\n",
       "        </tr>\n",
       "        <tr>\n",
       "            <td>Dream</td>\n",
       "            <td>Chinstrap</td>\n",
       "            <td>FEMALE</td>\n",
       "        </tr>\n",
       "        <tr>\n",
       "            <td>Dream</td>\n",
       "            <td>Chinstrap</td>\n",
       "            <td>MALE</td>\n",
       "        </tr>\n",
       "        <tr>\n",
       "            <td>Biscoe</td>\n",
       "            <td>Gentoo</td>\n",
       "            <td>FEMALE</td>\n",
       "        </tr>\n",
       "    </tbody>\n",
       "</table>"
      ],
      "text/plain": [
       "+-----------+-----------+--------+\n",
       "|   island  |  species  |  sex   |\n",
       "+-----------+-----------+--------+\n",
       "| Torgersen |   Adelie  | FEMALE |\n",
       "|   Biscoe  |   Adelie  | FEMALE |\n",
       "|   Dream   |   Adelie  | FEMALE |\n",
       "|   Dream   |   Adelie  |  MALE  |\n",
       "|   Dream   |   Adelie  |  None  |\n",
       "|   Dream   | Chinstrap | FEMALE |\n",
       "|   Dream   | Chinstrap |  MALE  |\n",
       "|   Biscoe  |   Gentoo  | FEMALE |\n",
       "+-----------+-----------+--------+"
      ]
     },
     "execution_count": 12,
     "metadata": {},
     "output_type": "execute_result"
    }
   ],
   "source": [
    "%%sql\n",
    "select distinct island, species, sex\n",
    "from penguins\n",
    "where sex = \"FEMALE\" or island = \"Dream\";"
   ]
  },
  {
   "cell_type": "markdown",
   "id": "dd13cfb1-34ca-46ac-8063-3ba50eb95084",
   "metadata": {},
   "source": [
    "- Can negate a condition with `not` or use `!=` (not-equals operator)"
   ]
  },
  {
   "cell_type": "code",
   "execution_count": 13,
   "id": "6f0a9645-7bb8-452b-a052-71db0f1d09c5",
   "metadata": {},
   "outputs": [
    {
     "data": {
      "text/html": [
       "<span style=\"None\">Running query in &#x27;sqlite:///penguins.db&#x27;</span>"
      ],
      "text/plain": [
       "Running query in 'sqlite:///penguins.db'"
      ]
     },
     "metadata": {},
     "output_type": "display_data"
    },
    {
     "data": {
      "text/html": [
       "<table>\n",
       "    <thead>\n",
       "        <tr>\n",
       "            <th>island</th>\n",
       "            <th>species</th>\n",
       "            <th>sex</th>\n",
       "        </tr>\n",
       "    </thead>\n",
       "    <tbody>\n",
       "        <tr>\n",
       "            <td>Torgersen</td>\n",
       "            <td>Adelie</td>\n",
       "            <td>MALE</td>\n",
       "        </tr>\n",
       "        <tr>\n",
       "            <td>Biscoe</td>\n",
       "            <td>Adelie</td>\n",
       "            <td>MALE</td>\n",
       "        </tr>\n",
       "        <tr>\n",
       "            <td>Dream</td>\n",
       "            <td>Adelie</td>\n",
       "            <td>MALE</td>\n",
       "        </tr>\n",
       "        <tr>\n",
       "            <td>Dream</td>\n",
       "            <td>Chinstrap</td>\n",
       "            <td>MALE</td>\n",
       "        </tr>\n",
       "        <tr>\n",
       "            <td>Biscoe</td>\n",
       "            <td>Gentoo</td>\n",
       "            <td>MALE</td>\n",
       "        </tr>\n",
       "    </tbody>\n",
       "</table>"
      ],
      "text/plain": [
       "+-----------+-----------+------+\n",
       "|   island  |  species  | sex  |\n",
       "+-----------+-----------+------+\n",
       "| Torgersen |   Adelie  | MALE |\n",
       "|   Biscoe  |   Adelie  | MALE |\n",
       "|   Dream   |   Adelie  | MALE |\n",
       "|   Dream   | Chinstrap | MALE |\n",
       "|   Biscoe  |   Gentoo  | MALE |\n",
       "+-----------+-----------+------+"
      ]
     },
     "execution_count": 13,
     "metadata": {},
     "output_type": "execute_result"
    }
   ],
   "source": [
    "%%sql\n",
    "select distinct island, species, sex\n",
    "from penguins\n",
    "where sex != \"FEMALE\";"
   ]
  },
  {
   "cell_type": "markdown",
   "id": "3f63ab9f-bbbd-4c17-910c-789ffc928798",
   "metadata": {},
   "source": [
    "- Can rename columns\n",
    "  - Changes name in results, *not* in database"
   ]
  },
  {
   "cell_type": "code",
   "execution_count": 14,
   "id": "9ebcfa3f-9c39-4f0c-bf31-634917bcfa64",
   "metadata": {},
   "outputs": [
    {
     "data": {
      "text/html": [
       "<span style=\"None\">Running query in &#x27;sqlite:///penguins.db&#x27;</span>"
      ],
      "text/plain": [
       "Running query in 'sqlite:///penguins.db'"
      ]
     },
     "metadata": {},
     "output_type": "display_data"
    },
    {
     "data": {
      "text/html": [
       "<table>\n",
       "    <thead>\n",
       "        <tr>\n",
       "            <th>location</th>\n",
       "            <th>sex</th>\n",
       "        </tr>\n",
       "    </thead>\n",
       "    <tbody>\n",
       "        <tr>\n",
       "            <td>Torgersen</td>\n",
       "            <td>MALE</td>\n",
       "        </tr>\n",
       "        <tr>\n",
       "            <td>Torgersen</td>\n",
       "            <td>FEMALE</td>\n",
       "        </tr>\n",
       "        <tr>\n",
       "            <td>Torgersen</td>\n",
       "            <td>FEMALE</td>\n",
       "        </tr>\n",
       "        <tr>\n",
       "            <td>Torgersen</td>\n",
       "            <td>None</td>\n",
       "        </tr>\n",
       "        <tr>\n",
       "            <td>Torgersen</td>\n",
       "            <td>FEMALE</td>\n",
       "        </tr>\n",
       "    </tbody>\n",
       "</table>"
      ],
      "text/plain": [
       "+-----------+--------+\n",
       "|  location |  sex   |\n",
       "+-----------+--------+\n",
       "| Torgersen |  MALE  |\n",
       "| Torgersen | FEMALE |\n",
       "| Torgersen | FEMALE |\n",
       "| Torgersen |  None  |\n",
       "| Torgersen | FEMALE |\n",
       "+-----------+--------+"
      ]
     },
     "execution_count": 14,
     "metadata": {},
     "output_type": "execute_result"
    }
   ],
   "source": [
    "%%sql\n",
    "select island as location, sex\n",
    "from penguins\n",
    "limit 5;"
   ]
  },
  {
   "cell_type": "markdown",
   "id": "642c5690-7cda-4d17-a88f-b6fc832dbd83",
   "metadata": {},
   "source": [
    "- Can do arithmetic and string operations on values while selecting them"
   ]
  },
  {
   "cell_type": "code",
   "execution_count": 15,
   "id": "55b68165-0516-4773-be35-29dc9a89ccc3",
   "metadata": {},
   "outputs": [
    {
     "data": {
      "text/html": [
       "<span style=\"None\">Running query in &#x27;sqlite:///penguins.db&#x27;</span>"
      ],
      "text/plain": [
       "Running query in 'sqlite:///penguins.db'"
      ]
     },
     "metadata": {},
     "output_type": "display_data"
    },
    {
     "data": {
      "text/html": [
       "<table>\n",
       "    <thead>\n",
       "        <tr>\n",
       "            <th>flipper_cm</th>\n",
       "            <th>weight_kg</th>\n",
       "        </tr>\n",
       "    </thead>\n",
       "    <tbody>\n",
       "        <tr>\n",
       "            <td>18.1</td>\n",
       "            <td>3.75</td>\n",
       "        </tr>\n",
       "        <tr>\n",
       "            <td>18.6</td>\n",
       "            <td>3.8</td>\n",
       "        </tr>\n",
       "        <tr>\n",
       "            <td>19.5</td>\n",
       "            <td>3.25</td>\n",
       "        </tr>\n",
       "        <tr>\n",
       "            <td>None</td>\n",
       "            <td>None</td>\n",
       "        </tr>\n",
       "        <tr>\n",
       "            <td>19.3</td>\n",
       "            <td>3.45</td>\n",
       "        </tr>\n",
       "    </tbody>\n",
       "</table>"
      ],
      "text/plain": [
       "+------------+-----------+\n",
       "| flipper_cm | weight_kg |\n",
       "+------------+-----------+\n",
       "|    18.1    |    3.75   |\n",
       "|    18.6    |    3.8    |\n",
       "|    19.5    |    3.25   |\n",
       "|    None    |    None   |\n",
       "|    19.3    |    3.45   |\n",
       "+------------+-----------+"
      ]
     },
     "execution_count": 15,
     "metadata": {},
     "output_type": "execute_result"
    }
   ],
   "source": [
    "%%sql\n",
    "select flipper_length_mm / 10.0 as flipper_cm, body_mass_g / 1000.0 as weight_kg\n",
    "from penguins\n",
    "limit 5;"
   ]
  },
  {
   "cell_type": "markdown",
   "id": "ec2a9058-6b87-45ea-acb1-dbf20e1cafc7",
   "metadata": {},
   "source": [
    "- What `None` doing there??\n",
    "- SQL uses a special value `null` to represent missing data\n",
    "- It is not 0, not the empty string, not NaN: it means \"I don't know\"\n",
    "- Nothing is equal to it"
   ]
  },
  {
   "cell_type": "code",
   "execution_count": 16,
   "id": "aa06b370-96d4-43f6-be43-61779339a36b",
   "metadata": {},
   "outputs": [
    {
     "data": {
      "text/html": [
       "<span style=\"None\">Running query in &#x27;sqlite:///penguins.db&#x27;</span>"
      ],
      "text/plain": [
       "Running query in 'sqlite:///penguins.db'"
      ]
     },
     "metadata": {},
     "output_type": "display_data"
    },
    {
     "data": {
      "text/html": [
       "<table>\n",
       "    <thead>\n",
       "        <tr>\n",
       "            <th>species</th>\n",
       "            <th>island</th>\n",
       "            <th>bill_length_mm</th>\n",
       "            <th>bill_depth_mm</th>\n",
       "            <th>flipper_length_mm</th>\n",
       "            <th>body_mass_g</th>\n",
       "            <th>sex</th>\n",
       "        </tr>\n",
       "    </thead>\n",
       "    <tbody>\n",
       "    </tbody>\n",
       "</table>"
      ],
      "text/plain": [
       "+---------+--------+----------------+---------------+-------------------+-------------+-----+\n",
       "| species | island | bill_length_mm | bill_depth_mm | flipper_length_mm | body_mass_g | sex |\n",
       "+---------+--------+----------------+---------------+-------------------+-------------+-----+\n",
       "+---------+--------+----------------+---------------+-------------------+-------------+-----+"
      ]
     },
     "execution_count": 16,
     "metadata": {},
     "output_type": "execute_result"
    }
   ],
   "source": [
    "%%sql\n",
    "select *\n",
    "from penguins\n",
    "where sex == null;"
   ]
  },
  {
   "cell_type": "markdown",
   "id": "2da5b108-8d8b-43d4-9f54-a748ab01c30b",
   "metadata": {},
   "source": [
    "- But nothing is *not* equal to it either\n",
    "  - If we don't know the value, we don't know that something *isn't* the same value"
   ]
  },
  {
   "cell_type": "code",
   "execution_count": 17,
   "id": "4d710a84-2154-464b-8426-7e56a7429bdb",
   "metadata": {},
   "outputs": [
    {
     "data": {
      "text/html": [
       "<span style=\"None\">Running query in &#x27;sqlite:///penguins.db&#x27;</span>"
      ],
      "text/plain": [
       "Running query in 'sqlite:///penguins.db'"
      ]
     },
     "metadata": {},
     "output_type": "display_data"
    },
    {
     "data": {
      "text/html": [
       "<table>\n",
       "    <thead>\n",
       "        <tr>\n",
       "            <th>species</th>\n",
       "            <th>island</th>\n",
       "            <th>bill_length_mm</th>\n",
       "            <th>bill_depth_mm</th>\n",
       "            <th>flipper_length_mm</th>\n",
       "            <th>body_mass_g</th>\n",
       "            <th>sex</th>\n",
       "        </tr>\n",
       "    </thead>\n",
       "    <tbody>\n",
       "    </tbody>\n",
       "</table>"
      ],
      "text/plain": [
       "+---------+--------+----------------+---------------+-------------------+-------------+-----+\n",
       "| species | island | bill_length_mm | bill_depth_mm | flipper_length_mm | body_mass_g | sex |\n",
       "+---------+--------+----------------+---------------+-------------------+-------------+-----+\n",
       "+---------+--------+----------------+---------------+-------------------+-------------+-----+"
      ]
     },
     "execution_count": 17,
     "metadata": {},
     "output_type": "execute_result"
    }
   ],
   "source": [
    "%%sql\n",
    "select *\n",
    "from penguins\n",
    "where sex != null;"
   ]
  },
  {
   "cell_type": "markdown",
   "id": "4a9bee9c-2b89-4bea-9c41-047a5b85cc53",
   "metadata": {},
   "source": [
    "- In fact, `null` isn't even equal or not equal to itself\n",
    "  - If I have two values, and I don't know what they are, I can't tell if they're equal or not equal\n",
    "- Use `is null` and `is not null` to test"
   ]
  },
  {
   "cell_type": "code",
   "execution_count": 18,
   "id": "da7201c2-a45b-4272-9bb0-ab5c829a8494",
   "metadata": {},
   "outputs": [
    {
     "data": {
      "text/html": [
       "<span style=\"None\">Running query in &#x27;sqlite:///penguins.db&#x27;</span>"
      ],
      "text/plain": [
       "Running query in 'sqlite:///penguins.db'"
      ]
     },
     "metadata": {},
     "output_type": "display_data"
    },
    {
     "data": {
      "text/html": [
       "<table>\n",
       "    <thead>\n",
       "        <tr>\n",
       "            <th>species</th>\n",
       "            <th>island</th>\n",
       "            <th>bill_length_mm</th>\n",
       "            <th>bill_depth_mm</th>\n",
       "            <th>flipper_length_mm</th>\n",
       "            <th>body_mass_g</th>\n",
       "            <th>sex</th>\n",
       "        </tr>\n",
       "    </thead>\n",
       "    <tbody>\n",
       "        <tr>\n",
       "            <td>Adelie</td>\n",
       "            <td>Torgersen</td>\n",
       "            <td>None</td>\n",
       "            <td>None</td>\n",
       "            <td>None</td>\n",
       "            <td>None</td>\n",
       "            <td>None</td>\n",
       "        </tr>\n",
       "        <tr>\n",
       "            <td>Adelie</td>\n",
       "            <td>Torgersen</td>\n",
       "            <td>34.1</td>\n",
       "            <td>18.1</td>\n",
       "            <td>193</td>\n",
       "            <td>3475</td>\n",
       "            <td>None</td>\n",
       "        </tr>\n",
       "        <tr>\n",
       "            <td>Adelie</td>\n",
       "            <td>Torgersen</td>\n",
       "            <td>42</td>\n",
       "            <td>20.2</td>\n",
       "            <td>190</td>\n",
       "            <td>4250</td>\n",
       "            <td>None</td>\n",
       "        </tr>\n",
       "        <tr>\n",
       "            <td>Adelie</td>\n",
       "            <td>Torgersen</td>\n",
       "            <td>37.8</td>\n",
       "            <td>17.1</td>\n",
       "            <td>186</td>\n",
       "            <td>3300</td>\n",
       "            <td>None</td>\n",
       "        </tr>\n",
       "        <tr>\n",
       "            <td>Adelie</td>\n",
       "            <td>Torgersen</td>\n",
       "            <td>37.8</td>\n",
       "            <td>17.3</td>\n",
       "            <td>180</td>\n",
       "            <td>3700</td>\n",
       "            <td>None</td>\n",
       "        </tr>\n",
       "        <tr>\n",
       "            <td>Adelie</td>\n",
       "            <td>Dream</td>\n",
       "            <td>37.5</td>\n",
       "            <td>18.9</td>\n",
       "            <td>179</td>\n",
       "            <td>2975</td>\n",
       "            <td>None</td>\n",
       "        </tr>\n",
       "        <tr>\n",
       "            <td>Gentoo</td>\n",
       "            <td>Biscoe</td>\n",
       "            <td>44.5</td>\n",
       "            <td>14.3</td>\n",
       "            <td>216</td>\n",
       "            <td>4100</td>\n",
       "            <td>None</td>\n",
       "        </tr>\n",
       "        <tr>\n",
       "            <td>Gentoo</td>\n",
       "            <td>Biscoe</td>\n",
       "            <td>46.2</td>\n",
       "            <td>14.4</td>\n",
       "            <td>214</td>\n",
       "            <td>4650</td>\n",
       "            <td>None</td>\n",
       "        </tr>\n",
       "        <tr>\n",
       "            <td>Gentoo</td>\n",
       "            <td>Biscoe</td>\n",
       "            <td>47.3</td>\n",
       "            <td>13.8</td>\n",
       "            <td>216</td>\n",
       "            <td>4725</td>\n",
       "            <td>None</td>\n",
       "        </tr>\n",
       "        <tr>\n",
       "            <td>Gentoo</td>\n",
       "            <td>Biscoe</td>\n",
       "            <td>44.5</td>\n",
       "            <td>15.7</td>\n",
       "            <td>217</td>\n",
       "            <td>4875</td>\n",
       "            <td>None</td>\n",
       "        </tr>\n",
       "        <tr>\n",
       "            <td>Gentoo</td>\n",
       "            <td>Biscoe</td>\n",
       "            <td>None</td>\n",
       "            <td>None</td>\n",
       "            <td>None</td>\n",
       "            <td>None</td>\n",
       "            <td>None</td>\n",
       "        </tr>\n",
       "    </tbody>\n",
       "</table>"
      ],
      "text/plain": [
       "+---------+-----------+----------------+---------------+-------------------+-------------+------+\n",
       "| species |   island  | bill_length_mm | bill_depth_mm | flipper_length_mm | body_mass_g | sex  |\n",
       "+---------+-----------+----------------+---------------+-------------------+-------------+------+\n",
       "|  Adelie | Torgersen |      None      |      None     |        None       |     None    | None |\n",
       "|  Adelie | Torgersen |      34.1      |      18.1     |        193        |     3475    | None |\n",
       "|  Adelie | Torgersen |       42       |      20.2     |        190        |     4250    | None |\n",
       "|  Adelie | Torgersen |      37.8      |      17.1     |        186        |     3300    | None |\n",
       "|  Adelie | Torgersen |      37.8      |      17.3     |        180        |     3700    | None |\n",
       "|  Adelie |   Dream   |      37.5      |      18.9     |        179        |     2975    | None |\n",
       "|  Gentoo |   Biscoe  |      44.5      |      14.3     |        216        |     4100    | None |\n",
       "|  Gentoo |   Biscoe  |      46.2      |      14.4     |        214        |     4650    | None |\n",
       "|  Gentoo |   Biscoe  |      47.3      |      13.8     |        216        |     4725    | None |\n",
       "|  Gentoo |   Biscoe  |      44.5      |      15.7     |        217        |     4875    | None |\n",
       "|  Gentoo |   Biscoe  |      None      |      None     |        None       |     None    | None |\n",
       "+---------+-----------+----------------+---------------+-------------------+-------------+------+"
      ]
     },
     "execution_count": 18,
     "metadata": {},
     "output_type": "execute_result"
    }
   ],
   "source": [
    "%%sql\n",
    "select *\n",
    "from penguins\n",
    "where sex is null;"
   ]
  },
  {
   "cell_type": "code",
   "execution_count": null,
   "id": "b27063d8-d0bd-4255-90b0-45a965374845",
   "metadata": {},
   "outputs": [],
   "source": []
  }
 ],
 "metadata": {
  "kernelspec": {
   "display_name": "Python 3 (ipykernel)",
   "language": "python",
   "name": "python3"
  },
  "language_info": {
   "codemirror_mode": {
    "name": "ipython",
    "version": 3
   },
   "file_extension": ".py",
   "mimetype": "text/x-python",
   "name": "python",
   "nbconvert_exporter": "python",
   "pygments_lexer": "ipython3",
   "version": "3.12.1"
  }
 },
 "nbformat": 4,
 "nbformat_minor": 5
}
