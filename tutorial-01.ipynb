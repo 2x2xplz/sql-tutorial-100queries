{
 "cells": [
  {
   "cell_type": "markdown",
   "id": "2caca289-3ed0-4625-95d6-adf87b7a9d52",
   "metadata": {},
   "source": [
    "# SQL Tutorial 1: Simple Queries"
   ]
  },
  {
   "cell_type": "markdown",
   "id": "da65aea9-7a6a-4b69-8250-24cef4cbe175",
   "metadata": {},
   "source": [
    "-   `pip install requirements.txt` to install `jupysql` *before* running `jupyter lab`\n",
    "-   Load the [jupysql](https://jupysql.ploomber.io/) extension"
   ]
  },
  {
   "cell_type": "code",
   "execution_count": 1,
   "id": "099011ba-971f-4319-b3d8-9764d13c49d7",
   "metadata": {},
   "outputs": [],
   "source": [
    "%load_ext sql"
   ]
  },
  {
   "cell_type": "markdown",
   "id": "15d82cfd-c0c9-4ae9-800e-17b920ee866f",
   "metadata": {},
   "source": [
    "-   Connect to the `penguins.db` SQLite database\n",
    "-   This database has one table called `penguins` which was created from `penguins.csv`"
   ]
  },
  {
   "cell_type": "code",
   "execution_count": 6,
   "id": "8c4b6c44-b58c-4c3d-aebd-f176f6a72e84",
   "metadata": {},
   "outputs": [
    {
     "data": {
      "text/html": [
       "<span style=\"None\">Connecting and switching to connection &#x27;sqlite:///penguins.db&#x27;</span>"
      ],
      "text/plain": [
       "Connecting and switching to connection 'sqlite:///penguins.db'"
      ]
     },
     "metadata": {},
     "output_type": "display_data"
    }
   ],
   "source": [
    "%sql sqlite:///penguins.db"
   ]
  },
  {
   "cell_type": "markdown",
   "id": "1544ce37-8bc4-4aad-ab61-d90f8efefd9e",
   "metadata": {},
   "source": [
    "-   Create a SQL cell by putting `%%sql` on the first line and a valid SQL query in the rest of the cell.\n",
    "-   The query `select * from penguins` gets all the rows from the `penguins` table.\n",
    "-   The semi-colon at the end is required.\n",
    "-   The `jupysql` extension truncates the display to 10 rows by default."
   ]
  },
  {
   "cell_type": "code",
   "execution_count": 7,
   "id": "3e394a73-b3e4-4b9d-a22b-549197747d1d",
   "metadata": {},
   "outputs": [
    {
     "data": {
      "text/html": [
       "<span style=\"None\">Running query in &#x27;sqlite:///penguins.db&#x27;</span>"
      ],
      "text/plain": [
       "Running query in 'sqlite:///penguins.db'"
      ]
     },
     "metadata": {},
     "output_type": "display_data"
    },
    {
     "data": {
      "text/html": [
       "<table>\n",
       "    <thead>\n",
       "        <tr>\n",
       "            <th>species</th>\n",
       "            <th>island</th>\n",
       "            <th>bill_length_mm</th>\n",
       "            <th>bill_depth_mm</th>\n",
       "            <th>flipper_length_mm</th>\n",
       "            <th>body_mass_g</th>\n",
       "            <th>sex</th>\n",
       "        </tr>\n",
       "    </thead>\n",
       "    <tbody>\n",
       "        <tr>\n",
       "            <td>Adelie</td>\n",
       "            <td>Torgersen</td>\n",
       "            <td>39.1</td>\n",
       "            <td>18.7</td>\n",
       "            <td>181</td>\n",
       "            <td>3750</td>\n",
       "            <td>MALE</td>\n",
       "        </tr>\n",
       "        <tr>\n",
       "            <td>Adelie</td>\n",
       "            <td>Torgersen</td>\n",
       "            <td>39.5</td>\n",
       "            <td>17.4</td>\n",
       "            <td>186</td>\n",
       "            <td>3800</td>\n",
       "            <td>FEMALE</td>\n",
       "        </tr>\n",
       "        <tr>\n",
       "            <td>Adelie</td>\n",
       "            <td>Torgersen</td>\n",
       "            <td>40.3</td>\n",
       "            <td>18</td>\n",
       "            <td>195</td>\n",
       "            <td>3250</td>\n",
       "            <td>FEMALE</td>\n",
       "        </tr>\n",
       "        <tr>\n",
       "            <td>Adelie</td>\n",
       "            <td>Torgersen</td>\n",
       "            <td></td>\n",
       "            <td></td>\n",
       "            <td></td>\n",
       "            <td></td>\n",
       "            <td></td>\n",
       "        </tr>\n",
       "        <tr>\n",
       "            <td>Adelie</td>\n",
       "            <td>Torgersen</td>\n",
       "            <td>36.7</td>\n",
       "            <td>19.3</td>\n",
       "            <td>193</td>\n",
       "            <td>3450</td>\n",
       "            <td>FEMALE</td>\n",
       "        </tr>\n",
       "        <tr>\n",
       "            <td>Adelie</td>\n",
       "            <td>Torgersen</td>\n",
       "            <td>39.3</td>\n",
       "            <td>20.6</td>\n",
       "            <td>190</td>\n",
       "            <td>3650</td>\n",
       "            <td>MALE</td>\n",
       "        </tr>\n",
       "        <tr>\n",
       "            <td>Adelie</td>\n",
       "            <td>Torgersen</td>\n",
       "            <td>38.9</td>\n",
       "            <td>17.8</td>\n",
       "            <td>181</td>\n",
       "            <td>3625</td>\n",
       "            <td>FEMALE</td>\n",
       "        </tr>\n",
       "        <tr>\n",
       "            <td>Adelie</td>\n",
       "            <td>Torgersen</td>\n",
       "            <td>39.2</td>\n",
       "            <td>19.6</td>\n",
       "            <td>195</td>\n",
       "            <td>4675</td>\n",
       "            <td>MALE</td>\n",
       "        </tr>\n",
       "        <tr>\n",
       "            <td>Adelie</td>\n",
       "            <td>Torgersen</td>\n",
       "            <td>34.1</td>\n",
       "            <td>18.1</td>\n",
       "            <td>193</td>\n",
       "            <td>3475</td>\n",
       "            <td></td>\n",
       "        </tr>\n",
       "        <tr>\n",
       "            <td>Adelie</td>\n",
       "            <td>Torgersen</td>\n",
       "            <td>42</td>\n",
       "            <td>20.2</td>\n",
       "            <td>190</td>\n",
       "            <td>4250</td>\n",
       "            <td></td>\n",
       "        </tr>\n",
       "    </tbody>\n",
       "</table>\n",
       "<span style=\"font-style:italic;text-align:center;\">Truncated to <a href=\"https://jupysql.ploomber.io/en/latest/api/configuration.html#displaylimit\">displaylimit</a> of 10.</span>"
      ],
      "text/plain": [
       "+---------+-----------+----------------+---------------+-------------------+-------------+--------+\n",
       "| species |   island  | bill_length_mm | bill_depth_mm | flipper_length_mm | body_mass_g |  sex   |\n",
       "+---------+-----------+----------------+---------------+-------------------+-------------+--------+\n",
       "|  Adelie | Torgersen |      39.1      |      18.7     |        181        |     3750    |  MALE  |\n",
       "|  Adelie | Torgersen |      39.5      |      17.4     |        186        |     3800    | FEMALE |\n",
       "|  Adelie | Torgersen |      40.3      |       18      |        195        |     3250    | FEMALE |\n",
       "|  Adelie | Torgersen |                |               |                   |             |        |\n",
       "|  Adelie | Torgersen |      36.7      |      19.3     |        193        |     3450    | FEMALE |\n",
       "|  Adelie | Torgersen |      39.3      |      20.6     |        190        |     3650    |  MALE  |\n",
       "|  Adelie | Torgersen |      38.9      |      17.8     |        181        |     3625    | FEMALE |\n",
       "|  Adelie | Torgersen |      39.2      |      19.6     |        195        |     4675    |  MALE  |\n",
       "|  Adelie | Torgersen |      34.1      |      18.1     |        193        |     3475    |        |\n",
       "|  Adelie | Torgersen |       42       |      20.2     |        190        |     4250    |        |\n",
       "+---------+-----------+----------------+---------------+-------------------+-------------+--------+\n",
       "Truncated to displaylimit of 10."
      ]
     },
     "execution_count": 7,
     "metadata": {},
     "output_type": "execute_result"
    }
   ],
   "source": [
    "%%sql\n",
    "select * from penguins;"
   ]
  },
  {
   "cell_type": "code",
   "execution_count": null,
   "id": "79c1655b-b4bd-4f56-a1ee-f609374e9d4f",
   "metadata": {},
   "outputs": [],
   "source": []
  }
 ],
 "metadata": {
  "kernelspec": {
   "display_name": "Python 3 (ipykernel)",
   "language": "python",
   "name": "python3"
  },
  "language_info": {
   "codemirror_mode": {
    "name": "ipython",
    "version": 3
   },
   "file_extension": ".py",
   "mimetype": "text/x-python",
   "name": "python",
   "nbconvert_exporter": "python",
   "pygments_lexer": "ipython3",
   "version": "3.12.1"
  }
 },
 "nbformat": 4,
 "nbformat_minor": 5
}
