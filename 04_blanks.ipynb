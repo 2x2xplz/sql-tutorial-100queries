{
 "cells": [
  {
   "cell_type": "markdown",
   "id": "d1daece3-cea6-45ab-a899-a752237a1156",
   "metadata": {},
   "source": [
    "# SQL Tutorial 4: Fill in the Blanks"
   ]
  },
  {
   "cell_type": "markdown",
   "id": "0767f89f-701e-466b-be76-316e07743c5f",
   "metadata": {},
   "source": [
    "-   Let's create a very small *in-memory database*"
   ]
  },
  {
   "cell_type": "code",
   "execution_count": 3,
   "id": "b7168668-21ce-43c8-afd2-41caad9e7378",
   "metadata": {},
   "outputs": [
    {
     "name": "stdout",
     "output_type": "stream",
     "text": [
      "The sql extension is already loaded. To reload it, use:\n",
      "  %reload_ext sql\n"
     ]
    },
    {
     "data": {
      "text/html": [
       "<span style=\"None\">Connecting to &#x27;sqlite://&#x27;</span>"
      ],
      "text/plain": [
       "Connecting to 'sqlite://'"
      ]
     },
     "metadata": {},
     "output_type": "display_data"
    }
   ],
   "source": [
    "%load_ext sql\n",
    "%config SqlMagic.autolimit = 0\n",
    "%config SqlMagic.displaylimit = 0\n",
    "%sql sqlite://"
   ]
  },
  {
   "cell_type": "code",
   "execution_count": 4,
   "id": "ea71a49f-ab76-432a-80bb-fc8d493c6309",
   "metadata": {},
   "outputs": [
    {
     "data": {
      "text/html": [
       "<span style=\"None\">Running query in &#x27;sqlite://&#x27;</span>"
      ],
      "text/plain": [
       "Running query in 'sqlite://'"
      ]
     },
     "metadata": {},
     "output_type": "display_data"
    },
    {
     "data": {
      "text/html": [
       "<span style=\"color: green\">2 rows affected.</span>"
      ],
      "text/plain": [
       "2 rows affected."
      ]
     },
     "metadata": {},
     "output_type": "display_data"
    },
    {
     "data": {
      "text/html": [
       "<span style=\"color: green\">2 rows affected.</span>"
      ],
      "text/plain": [
       "2 rows affected."
      ]
     },
     "metadata": {},
     "output_type": "display_data"
    },
    {
     "data": {
      "text/html": [
       "<span style=\"color: green\">3 rows affected.</span>"
      ],
      "text/plain": [
       "3 rows affected."
      ]
     },
     "metadata": {},
     "output_type": "display_data"
    },
    {
     "data": {
      "text/html": [
       "<table>\n",
       "    <thead>\n",
       "        <tr>\n",
       "        </tr>\n",
       "    </thead>\n",
       "    <tbody>\n",
       "    </tbody>\n",
       "</table>"
      ],
      "text/plain": [
       "++\n",
       "||\n",
       "++\n",
       "++"
      ]
     },
     "execution_count": 4,
     "metadata": {},
     "output_type": "execute_result"
    }
   ],
   "source": [
    "%%sql\n",
    "drop table if exists person;\n",
    "create table person(\n",
    "    person_id integer not null primary key,\n",
    "    person_name text not null\n",
    ");\n",
    "\n",
    "drop table if exists job;\n",
    "create table job(\n",
    "    job_id integer not null primary key,\n",
    "    job_name text not null\n",
    ");\n",
    "\n",
    "drop table if exists did;\n",
    "create table did(\n",
    "    person_fk integer not null,\n",
    "    job_fk integer not null\n",
    ");\n",
    "\n",
    "insert into person values (1, \"Alice\"), (2, \"Bob\");\n",
    "insert into job values (20, \"cook\"), (30, \"clean\");\n",
    "insert into did values(1, 20), (1, 30), (2, 20);"
   ]
  },
  {
   "cell_type": "code",
   "execution_count": 5,
   "id": "067f04e2-fb44-4042-8fb9-91e71328ae0f",
   "metadata": {},
   "outputs": [
    {
     "data": {
      "text/html": [
       "<span style=\"None\">Running query in &#x27;sqlite://&#x27;</span>"
      ],
      "text/plain": [
       "Running query in 'sqlite://'"
      ]
     },
     "metadata": {},
     "output_type": "display_data"
    },
    {
     "data": {
      "text/html": [
       "<table>\n",
       "    <thead>\n",
       "        <tr>\n",
       "            <th>person_id</th>\n",
       "            <th>person_name</th>\n",
       "        </tr>\n",
       "    </thead>\n",
       "    <tbody>\n",
       "        <tr>\n",
       "            <td>1</td>\n",
       "            <td>Alice</td>\n",
       "        </tr>\n",
       "        <tr>\n",
       "            <td>2</td>\n",
       "            <td>Bob</td>\n",
       "        </tr>\n",
       "    </tbody>\n",
       "</table>"
      ],
      "text/plain": [
       "+-----------+-------------+\n",
       "| person_id | person_name |\n",
       "+-----------+-------------+\n",
       "|     1     |    Alice    |\n",
       "|     2     |     Bob     |\n",
       "+-----------+-------------+"
      ]
     },
     "execution_count": 5,
     "metadata": {},
     "output_type": "execute_result"
    }
   ],
   "source": [
    "%%sql\n",
    "select * from person;"
   ]
  },
  {
   "cell_type": "code",
   "execution_count": 7,
   "id": "6284ac2a-74eb-4b1a-b523-320a1a088451",
   "metadata": {},
   "outputs": [
    {
     "data": {
      "text/html": [
       "<span style=\"None\">Running query in &#x27;sqlite://&#x27;</span>"
      ],
      "text/plain": [
       "Running query in 'sqlite://'"
      ]
     },
     "metadata": {},
     "output_type": "display_data"
    },
    {
     "data": {
      "text/html": [
       "<table>\n",
       "    <thead>\n",
       "        <tr>\n",
       "            <th>job_id</th>\n",
       "            <th>job_name</th>\n",
       "        </tr>\n",
       "    </thead>\n",
       "    <tbody>\n",
       "        <tr>\n",
       "            <td>20</td>\n",
       "            <td>cook</td>\n",
       "        </tr>\n",
       "        <tr>\n",
       "            <td>30</td>\n",
       "            <td>clean</td>\n",
       "        </tr>\n",
       "    </tbody>\n",
       "</table>"
      ],
      "text/plain": [
       "+--------+----------+\n",
       "| job_id | job_name |\n",
       "+--------+----------+\n",
       "|   20   |   cook   |\n",
       "|   30   |  clean   |\n",
       "+--------+----------+"
      ]
     },
     "execution_count": 7,
     "metadata": {},
     "output_type": "execute_result"
    }
   ],
   "source": [
    "%%sql\n",
    "    select * from job;"
   ]
  },
  {
   "cell_type": "code",
   "execution_count": 8,
   "id": "19be1d47-2d12-45c5-ae2d-9b097941992d",
   "metadata": {},
   "outputs": [
    {
     "data": {
      "text/html": [
       "<span style=\"None\">Running query in &#x27;sqlite://&#x27;</span>"
      ],
      "text/plain": [
       "Running query in 'sqlite://'"
      ]
     },
     "metadata": {},
     "output_type": "display_data"
    },
    {
     "data": {
      "text/html": [
       "<table>\n",
       "    <thead>\n",
       "        <tr>\n",
       "            <th>person_fk</th>\n",
       "            <th>job_fk</th>\n",
       "        </tr>\n",
       "    </thead>\n",
       "    <tbody>\n",
       "        <tr>\n",
       "            <td>1</td>\n",
       "            <td>20</td>\n",
       "        </tr>\n",
       "        <tr>\n",
       "            <td>1</td>\n",
       "            <td>30</td>\n",
       "        </tr>\n",
       "        <tr>\n",
       "            <td>2</td>\n",
       "            <td>20</td>\n",
       "        </tr>\n",
       "    </tbody>\n",
       "</table>"
      ],
      "text/plain": [
       "+-----------+--------+\n",
       "| person_fk | job_fk |\n",
       "+-----------+--------+\n",
       "|     1     |   20   |\n",
       "|     1     |   30   |\n",
       "|     2     |   20   |\n",
       "+-----------+--------+"
      ]
     },
     "execution_count": 8,
     "metadata": {},
     "output_type": "execute_result"
    }
   ],
   "source": [
    "%%sql\n",
    "select * from did;"
   ]
  },
  {
   "cell_type": "markdown",
   "id": "9979338d-2b29-4b7b-a2ea-c1d8f521d1fd",
   "metadata": {},
   "source": [
    "-   We want a table that looks like this (with a count of 0 for Bob cleaning)\n",
    "\n",
    "| person_name | job_name | num |\n",
    "|-------------|----------|-----|\n",
    "| Alice       | clean    | 1   |\n",
    "| Alice       | cook     | 1   |\n",
    "| Bob         | clean    | 0   |\n",
    "| Bob         | cook     | 1   |"
   ]
  },
  {
   "cell_type": "markdown",
   "id": "c552721f-7575-45d3-9e79-7f9c00770d5a",
   "metadata": {},
   "source": [
    "-   Let's use the join table `did` as in the previous lesson\n",
    "-   The full join gives us 2×2×3=12 rows"
   ]
  },
  {
   "cell_type": "code",
   "execution_count": 9,
   "id": "01d94ac9-4920-46bc-9f5e-dc7f202b28af",
   "metadata": {},
   "outputs": [
    {
     "data": {
      "text/html": [
       "<span style=\"None\">Running query in &#x27;sqlite://&#x27;</span>"
      ],
      "text/plain": [
       "Running query in 'sqlite://'"
      ]
     },
     "metadata": {},
     "output_type": "display_data"
    },
    {
     "data": {
      "text/html": [
       "<table>\n",
       "    <thead>\n",
       "        <tr>\n",
       "            <th>person_id</th>\n",
       "            <th>person_name</th>\n",
       "            <th>person_fk</th>\n",
       "            <th>job_fk</th>\n",
       "            <th>job_id</th>\n",
       "            <th>job_name</th>\n",
       "        </tr>\n",
       "    </thead>\n",
       "    <tbody>\n",
       "        <tr>\n",
       "            <td>1</td>\n",
       "            <td>Alice</td>\n",
       "            <td>1</td>\n",
       "            <td>20</td>\n",
       "            <td>20</td>\n",
       "            <td>cook</td>\n",
       "        </tr>\n",
       "        <tr>\n",
       "            <td>1</td>\n",
       "            <td>Alice</td>\n",
       "            <td>1</td>\n",
       "            <td>20</td>\n",
       "            <td>30</td>\n",
       "            <td>clean</td>\n",
       "        </tr>\n",
       "        <tr>\n",
       "            <td>1</td>\n",
       "            <td>Alice</td>\n",
       "            <td>1</td>\n",
       "            <td>30</td>\n",
       "            <td>20</td>\n",
       "            <td>cook</td>\n",
       "        </tr>\n",
       "        <tr>\n",
       "            <td>1</td>\n",
       "            <td>Alice</td>\n",
       "            <td>1</td>\n",
       "            <td>30</td>\n",
       "            <td>30</td>\n",
       "            <td>clean</td>\n",
       "        </tr>\n",
       "        <tr>\n",
       "            <td>1</td>\n",
       "            <td>Alice</td>\n",
       "            <td>2</td>\n",
       "            <td>20</td>\n",
       "            <td>20</td>\n",
       "            <td>cook</td>\n",
       "        </tr>\n",
       "        <tr>\n",
       "            <td>1</td>\n",
       "            <td>Alice</td>\n",
       "            <td>2</td>\n",
       "            <td>20</td>\n",
       "            <td>30</td>\n",
       "            <td>clean</td>\n",
       "        </tr>\n",
       "        <tr>\n",
       "            <td>2</td>\n",
       "            <td>Bob</td>\n",
       "            <td>1</td>\n",
       "            <td>20</td>\n",
       "            <td>20</td>\n",
       "            <td>cook</td>\n",
       "        </tr>\n",
       "        <tr>\n",
       "            <td>2</td>\n",
       "            <td>Bob</td>\n",
       "            <td>1</td>\n",
       "            <td>20</td>\n",
       "            <td>30</td>\n",
       "            <td>clean</td>\n",
       "        </tr>\n",
       "        <tr>\n",
       "            <td>2</td>\n",
       "            <td>Bob</td>\n",
       "            <td>1</td>\n",
       "            <td>30</td>\n",
       "            <td>20</td>\n",
       "            <td>cook</td>\n",
       "        </tr>\n",
       "        <tr>\n",
       "            <td>2</td>\n",
       "            <td>Bob</td>\n",
       "            <td>1</td>\n",
       "            <td>30</td>\n",
       "            <td>30</td>\n",
       "            <td>clean</td>\n",
       "        </tr>\n",
       "        <tr>\n",
       "            <td>2</td>\n",
       "            <td>Bob</td>\n",
       "            <td>2</td>\n",
       "            <td>20</td>\n",
       "            <td>20</td>\n",
       "            <td>cook</td>\n",
       "        </tr>\n",
       "        <tr>\n",
       "            <td>2</td>\n",
       "            <td>Bob</td>\n",
       "            <td>2</td>\n",
       "            <td>20</td>\n",
       "            <td>30</td>\n",
       "            <td>clean</td>\n",
       "        </tr>\n",
       "    </tbody>\n",
       "</table>"
      ],
      "text/plain": [
       "+-----------+-------------+-----------+--------+--------+----------+\n",
       "| person_id | person_name | person_fk | job_fk | job_id | job_name |\n",
       "+-----------+-------------+-----------+--------+--------+----------+\n",
       "|     1     |    Alice    |     1     |   20   |   20   |   cook   |\n",
       "|     1     |    Alice    |     1     |   20   |   30   |  clean   |\n",
       "|     1     |    Alice    |     1     |   30   |   20   |   cook   |\n",
       "|     1     |    Alice    |     1     |   30   |   30   |  clean   |\n",
       "|     1     |    Alice    |     2     |   20   |   20   |   cook   |\n",
       "|     1     |    Alice    |     2     |   20   |   30   |  clean   |\n",
       "|     2     |     Bob     |     1     |   20   |   20   |   cook   |\n",
       "|     2     |     Bob     |     1     |   20   |   30   |  clean   |\n",
       "|     2     |     Bob     |     1     |   30   |   20   |   cook   |\n",
       "|     2     |     Bob     |     1     |   30   |   30   |  clean   |\n",
       "|     2     |     Bob     |     2     |   20   |   20   |   cook   |\n",
       "|     2     |     Bob     |     2     |   20   |   30   |  clean   |\n",
       "+-----------+-------------+-----------+--------+--------+----------+"
      ]
     },
     "execution_count": 9,
     "metadata": {},
     "output_type": "execute_result"
    }
   ],
   "source": [
    "%%sql\n",
    "select *\n",
    "from person join did join job;"
   ]
  },
  {
   "cell_type": "markdown",
   "id": "afc938e5-1317-4dd5-859b-d3077c0364e8",
   "metadata": {},
   "source": [
    "-   Filter to keep only the rows that make sense (`person_id` matches `person_fk`, `job_id` matches `job_fk`), then count\n",
    "-   Only gives us three rows"
   ]
  },
  {
   "cell_type": "code",
   "execution_count": 23,
   "id": "e0b2b0be-5c25-402e-b24d-d439a4f8e726",
   "metadata": {},
   "outputs": [
    {
     "data": {
      "text/html": [
       "<span style=\"None\">Running query in &#x27;sqlite://&#x27;</span>"
      ],
      "text/plain": [
       "Running query in 'sqlite://'"
      ]
     },
     "metadata": {},
     "output_type": "display_data"
    },
    {
     "data": {
      "text/html": [
       "<table>\n",
       "    <thead>\n",
       "        <tr>\n",
       "            <th>person_name</th>\n",
       "            <th>job_name</th>\n",
       "            <th>count(*)</th>\n",
       "        </tr>\n",
       "    </thead>\n",
       "    <tbody>\n",
       "        <tr>\n",
       "            <td>Alice</td>\n",
       "            <td>cook</td>\n",
       "            <td>1</td>\n",
       "        </tr>\n",
       "        <tr>\n",
       "            <td>Alice</td>\n",
       "            <td>clean</td>\n",
       "            <td>1</td>\n",
       "        </tr>\n",
       "        <tr>\n",
       "            <td>Bob</td>\n",
       "            <td>cook</td>\n",
       "            <td>1</td>\n",
       "        </tr>\n",
       "    </tbody>\n",
       "</table>"
      ],
      "text/plain": [
       "+-------------+----------+----------+\n",
       "| person_name | job_name | count(*) |\n",
       "+-------------+----------+----------+\n",
       "|    Alice    |   cook   |    1     |\n",
       "|    Alice    |  clean   |    1     |\n",
       "|     Bob     |   cook   |    1     |\n",
       "+-------------+----------+----------+"
      ]
     },
     "execution_count": 23,
     "metadata": {},
     "output_type": "execute_result"
    }
   ],
   "source": [
    "%%sql\n",
    "select person_name, job_name, count(*)\n",
    "from person join did join job\n",
    "on person_id = person_fk and job_fk = job_id\n",
    "group by person_id, job_id\n",
    "order by person_id, job_id;"
   ]
  },
  {
   "cell_type": "markdown",
   "id": "23d6b7e0-b930-4d50-8188-ae5ca0e5e2d4",
   "metadata": {},
   "source": [
    "> Since all the columns in this database have distinct names,\n",
    "> I'm saving a bit of typing by using `column` rather than `table.column`.\n",
    "> Doing this is unsafe, and I should be ashamed of myself."
   ]
  },
  {
   "cell_type": "markdown",
   "id": "f2f623bc-48b1-4a7c-a417-471d9b16bb4d",
   "metadata": {},
   "source": [
    "-   Trick is to join `person` and `job` first to create all (person, job) pairs\n",
    "-   And then *left join* that with `did` to create a table with blanks"
   ]
  },
  {
   "cell_type": "code",
   "execution_count": 24,
   "id": "9e73ab57-62b3-4963-8f26-bb38be801e6c",
   "metadata": {},
   "outputs": [
    {
     "data": {
      "text/html": [
       "<span style=\"None\">Running query in &#x27;sqlite://&#x27;</span>"
      ],
      "text/plain": [
       "Running query in 'sqlite://'"
      ]
     },
     "metadata": {},
     "output_type": "display_data"
    },
    {
     "data": {
      "text/html": [
       "<table>\n",
       "    <thead>\n",
       "        <tr>\n",
       "            <th>person_id</th>\n",
       "            <th>person_name</th>\n",
       "            <th>job_id</th>\n",
       "            <th>job_name</th>\n",
       "            <th>person_fk</th>\n",
       "            <th>job_fk</th>\n",
       "        </tr>\n",
       "    </thead>\n",
       "    <tbody>\n",
       "        <tr>\n",
       "            <td>1</td>\n",
       "            <td>Alice</td>\n",
       "            <td>20</td>\n",
       "            <td>cook</td>\n",
       "            <td>1</td>\n",
       "            <td>20</td>\n",
       "        </tr>\n",
       "        <tr>\n",
       "            <td>1</td>\n",
       "            <td>Alice</td>\n",
       "            <td>30</td>\n",
       "            <td>clean</td>\n",
       "            <td>1</td>\n",
       "            <td>30</td>\n",
       "        </tr>\n",
       "        <tr>\n",
       "            <td>2</td>\n",
       "            <td>Bob</td>\n",
       "            <td>20</td>\n",
       "            <td>cook</td>\n",
       "            <td>2</td>\n",
       "            <td>20</td>\n",
       "        </tr>\n",
       "        <tr>\n",
       "            <td>2</td>\n",
       "            <td>Bob</td>\n",
       "            <td>30</td>\n",
       "            <td>clean</td>\n",
       "            <td>None</td>\n",
       "            <td>None</td>\n",
       "        </tr>\n",
       "    </tbody>\n",
       "</table>"
      ],
      "text/plain": [
       "+-----------+-------------+--------+----------+-----------+--------+\n",
       "| person_id | person_name | job_id | job_name | person_fk | job_fk |\n",
       "+-----------+-------------+--------+----------+-----------+--------+\n",
       "|     1     |    Alice    |   20   |   cook   |     1     |   20   |\n",
       "|     1     |    Alice    |   30   |  clean   |     1     |   30   |\n",
       "|     2     |     Bob     |   20   |   cook   |     2     |   20   |\n",
       "|     2     |     Bob     |   30   |  clean   |    None   |  None  |\n",
       "+-----------+-------------+--------+----------+-----------+--------+"
      ]
     },
     "execution_count": 24,
     "metadata": {},
     "output_type": "execute_result"
    }
   ],
   "source": [
    "%%sql\n",
    "select *\n",
    "from\n",
    "    (person cross join job)\n",
    "    left join did on person_id = person_fk and job_id = job_fk;"
   ]
  },
  {
   "cell_type": "markdown",
   "id": "ad6d4805-7076-4d12-a18e-c137f526ee2b",
   "metadata": {},
   "source": [
    "-   If we `count(*)` we just get the number of rows again"
   ]
  },
  {
   "cell_type": "code",
   "execution_count": 25,
   "id": "4a64137d-ef17-4b36-8374-941245bb3a65",
   "metadata": {},
   "outputs": [
    {
     "data": {
      "text/html": [
       "<span style=\"None\">Running query in &#x27;sqlite://&#x27;</span>"
      ],
      "text/plain": [
       "Running query in 'sqlite://'"
      ]
     },
     "metadata": {},
     "output_type": "display_data"
    },
    {
     "data": {
      "text/html": [
       "<table>\n",
       "    <thead>\n",
       "        <tr>\n",
       "            <th>person_name</th>\n",
       "            <th>job_name</th>\n",
       "            <th>num</th>\n",
       "        </tr>\n",
       "    </thead>\n",
       "    <tbody>\n",
       "        <tr>\n",
       "            <td>Alice</td>\n",
       "            <td>clean</td>\n",
       "            <td>1</td>\n",
       "        </tr>\n",
       "        <tr>\n",
       "            <td>Alice</td>\n",
       "            <td>cook</td>\n",
       "            <td>1</td>\n",
       "        </tr>\n",
       "        <tr>\n",
       "            <td>Bob</td>\n",
       "            <td>clean</td>\n",
       "            <td>1</td>\n",
       "        </tr>\n",
       "        <tr>\n",
       "            <td>Bob</td>\n",
       "            <td>cook</td>\n",
       "            <td>1</td>\n",
       "        </tr>\n",
       "    </tbody>\n",
       "</table>"
      ],
      "text/plain": [
       "+-------------+----------+-----+\n",
       "| person_name | job_name | num |\n",
       "+-------------+----------+-----+\n",
       "|    Alice    |  clean   |  1  |\n",
       "|    Alice    |   cook   |  1  |\n",
       "|     Bob     |  clean   |  1  |\n",
       "|     Bob     |   cook   |  1  |\n",
       "+-------------+----------+-----+"
      ]
     },
     "execution_count": 25,
     "metadata": {},
     "output_type": "execute_result"
    }
   ],
   "source": [
    "%%sql\n",
    "select person_name, job_name, count(*) as num\n",
    "from\n",
    "    (person cross join job)\n",
    "    left join did on person_id = person_fk and job_id = job_fk\n",
    "group by person_name, job_name\n",
    "order by person_name, job_name;"
   ]
  },
  {
   "cell_type": "markdown",
   "id": "01c515dc-3fd4-493f-bfd3-3afea6e5c5a6",
   "metadata": {},
   "source": [
    "-   But if we count the column containing `None`, we get 0 where we want"
   ]
  },
  {
   "cell_type": "code",
   "execution_count": 26,
   "id": "e8bcd187-4744-4f15-8dff-d1d8c757c02f",
   "metadata": {},
   "outputs": [
    {
     "data": {
      "text/html": [
       "<span style=\"None\">Running query in &#x27;sqlite://&#x27;</span>"
      ],
      "text/plain": [
       "Running query in 'sqlite://'"
      ]
     },
     "metadata": {},
     "output_type": "display_data"
    },
    {
     "data": {
      "text/html": [
       "<table>\n",
       "    <thead>\n",
       "        <tr>\n",
       "            <th>person_name</th>\n",
       "            <th>job_name</th>\n",
       "            <th>num</th>\n",
       "        </tr>\n",
       "    </thead>\n",
       "    <tbody>\n",
       "        <tr>\n",
       "            <td>Alice</td>\n",
       "            <td>clean</td>\n",
       "            <td>1</td>\n",
       "        </tr>\n",
       "        <tr>\n",
       "            <td>Alice</td>\n",
       "            <td>cook</td>\n",
       "            <td>1</td>\n",
       "        </tr>\n",
       "        <tr>\n",
       "            <td>Bob</td>\n",
       "            <td>clean</td>\n",
       "            <td>0</td>\n",
       "        </tr>\n",
       "        <tr>\n",
       "            <td>Bob</td>\n",
       "            <td>cook</td>\n",
       "            <td>1</td>\n",
       "        </tr>\n",
       "    </tbody>\n",
       "</table>"
      ],
      "text/plain": [
       "+-------------+----------+-----+\n",
       "| person_name | job_name | num |\n",
       "+-------------+----------+-----+\n",
       "|    Alice    |  clean   |  1  |\n",
       "|    Alice    |   cook   |  1  |\n",
       "|     Bob     |  clean   |  0  |\n",
       "|     Bob     |   cook   |  1  |\n",
       "+-------------+----------+-----+"
      ]
     },
     "execution_count": 26,
     "metadata": {},
     "output_type": "execute_result"
    }
   ],
   "source": [
    "%%sql\n",
    "select person_name, job_name, count(person_fk) as num\n",
    "from\n",
    "    (person cross join job)\n",
    "    left join did on person_id = person_fk and job_id = job_fk\n",
    "group by person_name, job_name\n",
    "order by person_name, job_name;"
   ]
  },
  {
   "cell_type": "markdown",
   "id": "e62c68c4-cc51-478a-8aa8-f5010b4a4730",
   "metadata": {},
   "source": [
    "-   We can make this a little clearer with a *common table expression* (CTE)\n",
    "    -   Like a temporary convenience variable in a program"
   ]
  },
  {
   "cell_type": "code",
   "execution_count": 15,
   "id": "14e369a2-bedb-49eb-becd-3faf53d7cac2",
   "metadata": {},
   "outputs": [
    {
     "data": {
      "text/html": [
       "<span style=\"None\">Running query in &#x27;sqlite://&#x27;</span>"
      ],
      "text/plain": [
       "Running query in 'sqlite://'"
      ]
     },
     "metadata": {},
     "output_type": "display_data"
    },
    {
     "data": {
      "text/html": [
       "<table>\n",
       "    <thead>\n",
       "        <tr>\n",
       "            <th>person_id</th>\n",
       "            <th>person_name</th>\n",
       "            <th>job_id</th>\n",
       "            <th>job_name</th>\n",
       "        </tr>\n",
       "    </thead>\n",
       "    <tbody>\n",
       "        <tr>\n",
       "            <td>1</td>\n",
       "            <td>Alice</td>\n",
       "            <td>20</td>\n",
       "            <td>cook</td>\n",
       "        </tr>\n",
       "        <tr>\n",
       "            <td>1</td>\n",
       "            <td>Alice</td>\n",
       "            <td>30</td>\n",
       "            <td>clean</td>\n",
       "        </tr>\n",
       "        <tr>\n",
       "            <td>2</td>\n",
       "            <td>Bob</td>\n",
       "            <td>20</td>\n",
       "            <td>cook</td>\n",
       "        </tr>\n",
       "        <tr>\n",
       "            <td>2</td>\n",
       "            <td>Bob</td>\n",
       "            <td>30</td>\n",
       "            <td>clean</td>\n",
       "        </tr>\n",
       "    </tbody>\n",
       "</table>"
      ],
      "text/plain": [
       "+-----------+-------------+--------+----------+\n",
       "| person_id | person_name | job_id | job_name |\n",
       "+-----------+-------------+--------+----------+\n",
       "|     1     |    Alice    |   20   |   cook   |\n",
       "|     1     |    Alice    |   30   |  clean   |\n",
       "|     2     |     Bob     |   20   |   cook   |\n",
       "|     2     |     Bob     |   30   |  clean   |\n",
       "+-----------+-------------+--------+----------+"
      ]
     },
     "execution_count": 15,
     "metadata": {},
     "output_type": "execute_result"
    }
   ],
   "source": [
    "%%sql\n",
    "with person_job as (\n",
    "    select person_id, person_name, job_id, job_name\n",
    "    from person cross join job\n",
    ")\n",
    "select * from person_job;"
   ]
  },
  {
   "cell_type": "markdown",
   "id": "7b43755e-e883-4741-a560-86c48d3001e7",
   "metadata": {},
   "source": [
    "-   Let's use that"
   ]
  },
  {
   "cell_type": "code",
   "execution_count": 21,
   "id": "dff9d552-7013-4ac1-9245-bc75f3c35d65",
   "metadata": {},
   "outputs": [
    {
     "data": {
      "text/html": [
       "<span style=\"None\">Running query in &#x27;sqlite://&#x27;</span>"
      ],
      "text/plain": [
       "Running query in 'sqlite://'"
      ]
     },
     "metadata": {},
     "output_type": "display_data"
    },
    {
     "data": {
      "text/html": [
       "<table>\n",
       "    <thead>\n",
       "        <tr>\n",
       "            <th>person_name</th>\n",
       "            <th>job_name</th>\n",
       "            <th>num</th>\n",
       "        </tr>\n",
       "    </thead>\n",
       "    <tbody>\n",
       "        <tr>\n",
       "            <td>Alice</td>\n",
       "            <td>cook</td>\n",
       "            <td>3</td>\n",
       "        </tr>\n",
       "    </tbody>\n",
       "</table>"
      ],
      "text/plain": [
       "+-------------+----------+-----+\n",
       "| person_name | job_name | num |\n",
       "+-------------+----------+-----+\n",
       "|    Alice    |   cook   |  3  |\n",
       "+-------------+----------+-----+"
      ]
     },
     "execution_count": 21,
     "metadata": {},
     "output_type": "execute_result"
    }
   ],
   "source": [
    "%%sql\n",
    "with\n",
    "person_job as (\n",
    "    select person_id, person_name, job_id, job_name\n",
    "    from person cross join job\n",
    ")\n",
    "select person_name, job_name, count(job_fk) as num\n",
    "from person_job left join did\n",
    "on person_job.person_id = did.person_fk and person_job.job_id = did.job_fk;"
   ]
  },
  {
   "cell_type": "markdown",
   "id": "7dc2200a-dc45-4fe9-bee6-39eb2bb3df3e",
   "metadata": {},
   "source": [
    "-   Whoops: we forgot the `group by`, so the database gets to pick whatever row of output it wants\n",
    "-   Let's try again"
   ]
  },
  {
   "cell_type": "code",
   "execution_count": 22,
   "id": "1218151e-ca7d-46f0-b17d-97ae85e4c0e6",
   "metadata": {},
   "outputs": [
    {
     "data": {
      "text/html": [
       "<span style=\"None\">Running query in &#x27;sqlite://&#x27;</span>"
      ],
      "text/plain": [
       "Running query in 'sqlite://'"
      ]
     },
     "metadata": {},
     "output_type": "display_data"
    },
    {
     "data": {
      "text/html": [
       "<table>\n",
       "    <thead>\n",
       "        <tr>\n",
       "            <th>person_name</th>\n",
       "            <th>job_name</th>\n",
       "            <th>num</th>\n",
       "        </tr>\n",
       "    </thead>\n",
       "    <tbody>\n",
       "        <tr>\n",
       "            <td>Alice</td>\n",
       "            <td>clean</td>\n",
       "            <td>1</td>\n",
       "        </tr>\n",
       "        <tr>\n",
       "            <td>Alice</td>\n",
       "            <td>cook</td>\n",
       "            <td>1</td>\n",
       "        </tr>\n",
       "        <tr>\n",
       "            <td>Bob</td>\n",
       "            <td>clean</td>\n",
       "            <td>0</td>\n",
       "        </tr>\n",
       "        <tr>\n",
       "            <td>Bob</td>\n",
       "            <td>cook</td>\n",
       "            <td>1</td>\n",
       "        </tr>\n",
       "    </tbody>\n",
       "</table>"
      ],
      "text/plain": [
       "+-------------+----------+-----+\n",
       "| person_name | job_name | num |\n",
       "+-------------+----------+-----+\n",
       "|    Alice    |  clean   |  1  |\n",
       "|    Alice    |   cook   |  1  |\n",
       "|     Bob     |  clean   |  0  |\n",
       "|     Bob     |   cook   |  1  |\n",
       "+-------------+----------+-----+"
      ]
     },
     "execution_count": 22,
     "metadata": {},
     "output_type": "execute_result"
    }
   ],
   "source": [
    "%%sql\n",
    "with\n",
    "person_job as (\n",
    "    select person_id, person_name, job_id, job_name\n",
    "    from person cross join job\n",
    ")\n",
    "select person_name, job_name, count(job_fk) as num\n",
    "from person_job left join did\n",
    "on person_id = person_fk and job_id = job_fk\n",
    "group by person_name, job_name\n",
    "order by person_name, job_name;"
   ]
  }
 ],
 "metadata": {
  "kernelspec": {
   "display_name": "Python 3 (ipykernel)",
   "language": "python",
   "name": "python3"
  },
  "language_info": {
   "codemirror_mode": {
    "name": "ipython",
    "version": 3
   },
   "file_extension": ".py",
   "mimetype": "text/x-python",
   "name": "python",
   "nbconvert_exporter": "python",
   "pygments_lexer": "ipython3",
   "version": "3.12.1"
  }
 },
 "nbformat": 4,
 "nbformat_minor": 5
}
