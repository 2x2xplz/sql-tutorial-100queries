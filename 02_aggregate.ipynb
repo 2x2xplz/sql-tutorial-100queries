{
 "cells": [
  {
   "cell_type": "markdown",
   "id": "2caca289-3ed0-4625-95d6-adf87b7a9d52",
   "metadata": {},
   "source": [
    "# SQL Tutorial 2: Aggregation"
   ]
  },
  {
   "cell_type": "markdown",
   "id": "da65aea9-7a6a-4b69-8250-24cef4cbe175",
   "metadata": {},
   "source": [
    "-   Reconnect to the penguins database and remind ourselves of the table structure"
   ]
  },
  {
   "cell_type": "code",
   "execution_count": 1,
   "id": "099011ba-971f-4319-b3d8-9764d13c49d7",
   "metadata": {
    "execution": {
     "iopub.execute_input": "2024-01-19T20:59:53.749232Z",
     "iopub.status.busy": "2024-01-19T20:59:53.748603Z",
     "iopub.status.idle": "2024-01-19T20:59:54.721145Z",
     "shell.execute_reply": "2024-01-19T20:59:54.719932Z"
    }
   },
   "outputs": [
    {
     "data": {
      "text/html": [
       "<span style=\"None\">Connecting to &#x27;sqlite:///data/penguins.db&#x27;</span>"
      ],
      "text/plain": [
       "Connecting to 'sqlite:///data/penguins.db'"
      ]
     },
     "metadata": {},
     "output_type": "display_data"
    }
   ],
   "source": [
    "%load_ext sql\n",
    "%config SqlMagic.autolimit = 0\n",
    "%config SqlMagic.displaylimit = 0\n",
    "%sql sqlite:///data/penguins.db"
   ]
  },
  {
   "cell_type": "code",
   "execution_count": 2,
   "id": "fb32b080-9422-4ef0-b35d-6cde585b6d7d",
   "metadata": {
    "execution": {
     "iopub.execute_input": "2024-01-19T20:59:54.726798Z",
     "iopub.status.busy": "2024-01-19T20:59:54.726384Z",
     "iopub.status.idle": "2024-01-19T20:59:54.864347Z",
     "shell.execute_reply": "2024-01-19T20:59:54.863437Z"
    }
   },
   "outputs": [
    {
     "data": {
      "text/html": [
       "<span style=\"None\">Running query in &#x27;sqlite:///data/penguins.db&#x27;</span>"
      ],
      "text/plain": [
       "Running query in 'sqlite:///data/penguins.db'"
      ]
     },
     "metadata": {},
     "output_type": "display_data"
    },
    {
     "data": {
      "text/html": [
       "<table>\n",
       "    <thead>\n",
       "        <tr>\n",
       "            <th>species</th>\n",
       "            <th>island</th>\n",
       "            <th>bill_length_mm</th>\n",
       "            <th>bill_depth_mm</th>\n",
       "            <th>flipper_length_mm</th>\n",
       "            <th>body_mass_g</th>\n",
       "            <th>sex</th>\n",
       "        </tr>\n",
       "    </thead>\n",
       "    <tbody>\n",
       "        <tr>\n",
       "            <td>Adelie</td>\n",
       "            <td>Torgersen</td>\n",
       "            <td>39.1</td>\n",
       "            <td>18.7</td>\n",
       "            <td>181</td>\n",
       "            <td>3750</td>\n",
       "            <td>MALE</td>\n",
       "        </tr>\n",
       "        <tr>\n",
       "            <td>Adelie</td>\n",
       "            <td>Torgersen</td>\n",
       "            <td>39.5</td>\n",
       "            <td>17.4</td>\n",
       "            <td>186</td>\n",
       "            <td>3800</td>\n",
       "            <td>FEMALE</td>\n",
       "        </tr>\n",
       "        <tr>\n",
       "            <td>Adelie</td>\n",
       "            <td>Torgersen</td>\n",
       "            <td>40.3</td>\n",
       "            <td>18</td>\n",
       "            <td>195</td>\n",
       "            <td>3250</td>\n",
       "            <td>FEMALE</td>\n",
       "        </tr>\n",
       "        <tr>\n",
       "            <td>Adelie</td>\n",
       "            <td>Torgersen</td>\n",
       "            <td>None</td>\n",
       "            <td>None</td>\n",
       "            <td>None</td>\n",
       "            <td>None</td>\n",
       "            <td>None</td>\n",
       "        </tr>\n",
       "        <tr>\n",
       "            <td>Adelie</td>\n",
       "            <td>Torgersen</td>\n",
       "            <td>36.7</td>\n",
       "            <td>19.3</td>\n",
       "            <td>193</td>\n",
       "            <td>3450</td>\n",
       "            <td>FEMALE</td>\n",
       "        </tr>\n",
       "    </tbody>\n",
       "</table>"
      ],
      "text/plain": [
       "+---------+-----------+----------------+---------------+-------------------+-------------+--------+\n",
       "| species |   island  | bill_length_mm | bill_depth_mm | flipper_length_mm | body_mass_g |  sex   |\n",
       "+---------+-----------+----------------+---------------+-------------------+-------------+--------+\n",
       "|  Adelie | Torgersen |      39.1      |      18.7     |        181        |     3750    |  MALE  |\n",
       "|  Adelie | Torgersen |      39.5      |      17.4     |        186        |     3800    | FEMALE |\n",
       "|  Adelie | Torgersen |      40.3      |       18      |        195        |     3250    | FEMALE |\n",
       "|  Adelie | Torgersen |      None      |      None     |        None       |     None    |  None  |\n",
       "|  Adelie | Torgersen |      36.7      |      19.3     |        193        |     3450    | FEMALE |\n",
       "+---------+-----------+----------------+---------------+-------------------+-------------+--------+"
      ]
     },
     "execution_count": 2,
     "metadata": {},
     "output_type": "execute_result"
    }
   ],
   "source": [
    "%%sql\n",
    "select *\n",
    "from penguins\n",
    "limit 5;"
   ]
  },
  {
   "cell_type": "markdown",
   "id": "cc6bda79-b64f-467b-b865-f040d2b8cce4",
   "metadata": {},
   "source": [
    "-   How heavy are all the penguins?"
   ]
  },
  {
   "cell_type": "code",
   "execution_count": 3,
   "id": "7772313b-f759-4074-bdb7-f211225b6efe",
   "metadata": {
    "execution": {
     "iopub.execute_input": "2024-01-19T20:59:54.870171Z",
     "iopub.status.busy": "2024-01-19T20:59:54.869755Z",
     "iopub.status.idle": "2024-01-19T20:59:55.019927Z",
     "shell.execute_reply": "2024-01-19T20:59:55.018542Z"
    }
   },
   "outputs": [
    {
     "data": {
      "text/html": [
       "<span style=\"None\">Running query in &#x27;sqlite:///data/penguins.db&#x27;</span>"
      ],
      "text/plain": [
       "Running query in 'sqlite:///data/penguins.db'"
      ]
     },
     "metadata": {},
     "output_type": "display_data"
    },
    {
     "data": {
      "text/html": [
       "<table>\n",
       "    <thead>\n",
       "        <tr>\n",
       "            <th>sum(body_mass_g)</th>\n",
       "        </tr>\n",
       "    </thead>\n",
       "    <tbody>\n",
       "        <tr>\n",
       "            <td>1437000</td>\n",
       "        </tr>\n",
       "    </tbody>\n",
       "</table>"
      ],
      "text/plain": [
       "+------------------+\n",
       "| sum(body_mass_g) |\n",
       "+------------------+\n",
       "|     1437000      |\n",
       "+------------------+"
      ]
     },
     "execution_count": 3,
     "metadata": {},
     "output_type": "execute_result"
    }
   ],
   "source": [
    "%%sql\n",
    "select sum(body_mass_g)\n",
    "from penguins;"
   ]
  },
  {
   "cell_type": "markdown",
   "id": "15d8992e-acbc-469e-adcd-6cba5718810e",
   "metadata": {},
   "source": [
    "-   Please rename columns when doing calculations"
   ]
  },
  {
   "cell_type": "code",
   "execution_count": 4,
   "id": "53bb250d-784f-4cbe-83fb-43f78f8f32be",
   "metadata": {
    "execution": {
     "iopub.execute_input": "2024-01-19T20:59:55.024974Z",
     "iopub.status.busy": "2024-01-19T20:59:55.024564Z",
     "iopub.status.idle": "2024-01-19T20:59:55.147326Z",
     "shell.execute_reply": "2024-01-19T20:59:55.146439Z"
    }
   },
   "outputs": [
    {
     "data": {
      "text/html": [
       "<span style=\"None\">Running query in &#x27;sqlite:///data/penguins.db&#x27;</span>"
      ],
      "text/plain": [
       "Running query in 'sqlite:///data/penguins.db'"
      ]
     },
     "metadata": {},
     "output_type": "display_data"
    },
    {
     "data": {
      "text/html": [
       "<table>\n",
       "    <thead>\n",
       "        <tr>\n",
       "            <th>total_mass_g</th>\n",
       "        </tr>\n",
       "    </thead>\n",
       "    <tbody>\n",
       "        <tr>\n",
       "            <td>1437000</td>\n",
       "        </tr>\n",
       "    </tbody>\n",
       "</table>"
      ],
      "text/plain": [
       "+--------------+\n",
       "| total_mass_g |\n",
       "+--------------+\n",
       "|   1437000    |\n",
       "+--------------+"
      ]
     },
     "execution_count": 4,
     "metadata": {},
     "output_type": "execute_result"
    }
   ],
   "source": [
    "%%sql\n",
    "select sum(body_mass_g) as total_mass_g\n",
    "from penguins;"
   ]
  },
  {
   "cell_type": "markdown",
   "id": "ef273efc-67f1-45aa-ba4e-61691db1eaf1",
   "metadata": {},
   "source": [
    "> The answer *should* be `null` because some of the masses are missing,\n",
    "> but SQL *aggregation functions* ignore nulls because that's what everyone wants"
   ]
  },
  {
   "cell_type": "markdown",
   "id": "029cdfba-9e46-4255-a3d8-551ed16c905d",
   "metadata": {},
   "source": [
    "-   Calculate many aggregations at once"
   ]
  },
  {
   "cell_type": "code",
   "execution_count": 5,
   "id": "9c7e6465-6f96-4e78-be35-fdd6e22c70d2",
   "metadata": {
    "execution": {
     "iopub.execute_input": "2024-01-19T20:59:55.152657Z",
     "iopub.status.busy": "2024-01-19T20:59:55.152275Z",
     "iopub.status.idle": "2024-01-19T20:59:55.271780Z",
     "shell.execute_reply": "2024-01-19T20:59:55.270416Z"
    }
   },
   "outputs": [
    {
     "data": {
      "text/html": [
       "<span style=\"None\">Running query in &#x27;sqlite:///data/penguins.db&#x27;</span>"
      ],
      "text/plain": [
       "Running query in 'sqlite:///data/penguins.db'"
      ]
     },
     "metadata": {},
     "output_type": "display_data"
    },
    {
     "data": {
      "text/html": [
       "<table>\n",
       "    <thead>\n",
       "        <tr>\n",
       "            <th>longest_bill</th>\n",
       "            <th>shortest_flipper</th>\n",
       "            <th>weird_ratio</th>\n",
       "        </tr>\n",
       "    </thead>\n",
       "    <tbody>\n",
       "        <tr>\n",
       "            <td>59.6</td>\n",
       "            <td>172</td>\n",
       "            <td>2.5608708253064427</td>\n",
       "        </tr>\n",
       "    </tbody>\n",
       "</table>"
      ],
      "text/plain": [
       "+--------------+------------------+--------------------+\n",
       "| longest_bill | shortest_flipper |    weird_ratio     |\n",
       "+--------------+------------------+--------------------+\n",
       "|     59.6     |       172        | 2.5608708253064427 |\n",
       "+--------------+------------------+--------------------+"
      ]
     },
     "execution_count": 5,
     "metadata": {},
     "output_type": "execute_result"
    }
   ],
   "source": [
    "%%sql\n",
    "select\n",
    "    max(bill_length_mm) as longest_bill,\n",
    "    min(flipper_length_mm) as shortest_flipper,\n",
    "    avg(bill_length_mm) / avg(bill_depth_mm) as weird_ratio\n",
    "from penguins;"
   ]
  },
  {
   "cell_type": "markdown",
   "id": "99b509f7-7f74-40f4-b730-80d86a8ead72",
   "metadata": {},
   "source": [
    "-   Often want to calculate aggregations by group\n",
    "-   Add a `group by` clause to the query"
   ]
  },
  {
   "cell_type": "code",
   "execution_count": 6,
   "id": "afc4ffc8-b997-4e62-a4c0-72d6f8cfe1ce",
   "metadata": {
    "execution": {
     "iopub.execute_input": "2024-01-19T20:59:55.277021Z",
     "iopub.status.busy": "2024-01-19T20:59:55.276639Z",
     "iopub.status.idle": "2024-01-19T20:59:55.378498Z",
     "shell.execute_reply": "2024-01-19T20:59:55.377298Z"
    }
   },
   "outputs": [
    {
     "data": {
      "text/html": [
       "<span style=\"None\">Running query in &#x27;sqlite:///data/penguins.db&#x27;</span>"
      ],
      "text/plain": [
       "Running query in 'sqlite:///data/penguins.db'"
      ]
     },
     "metadata": {},
     "output_type": "display_data"
    },
    {
     "data": {
      "text/html": [
       "<table>\n",
       "    <thead>\n",
       "        <tr>\n",
       "            <th>average_mass_g</th>\n",
       "        </tr>\n",
       "    </thead>\n",
       "    <tbody>\n",
       "        <tr>\n",
       "            <td>4005.5555555555557</td>\n",
       "        </tr>\n",
       "        <tr>\n",
       "            <td>3862.2727272727275</td>\n",
       "        </tr>\n",
       "        <tr>\n",
       "            <td>4545.684523809524</td>\n",
       "        </tr>\n",
       "    </tbody>\n",
       "</table>"
      ],
      "text/plain": [
       "+--------------------+\n",
       "|   average_mass_g   |\n",
       "+--------------------+\n",
       "| 4005.5555555555557 |\n",
       "| 3862.2727272727275 |\n",
       "| 4545.684523809524  |\n",
       "+--------------------+"
      ]
     },
     "execution_count": 6,
     "metadata": {},
     "output_type": "execute_result"
    }
   ],
   "source": [
    "%%sql\n",
    "select\n",
    "    avg(body_mass_g) as average_mass_g\n",
    "from penguins\n",
    "group by sex;"
   ]
  },
  {
   "cell_type": "markdown",
   "id": "fc6056a7-9e51-4ee3-9e5c-042d6275ee32",
   "metadata": {},
   "source": [
    "-   Why are there three results?\n",
    "-   Which one is which?"
   ]
  },
  {
   "cell_type": "code",
   "execution_count": 7,
   "id": "334a4a28-4576-47cb-8374-0915fa49b632",
   "metadata": {
    "execution": {
     "iopub.execute_input": "2024-01-19T20:59:55.383611Z",
     "iopub.status.busy": "2024-01-19T20:59:55.383207Z",
     "iopub.status.idle": "2024-01-19T20:59:55.502148Z",
     "shell.execute_reply": "2024-01-19T20:59:55.500413Z"
    }
   },
   "outputs": [
    {
     "data": {
      "text/html": [
       "<span style=\"None\">Running query in &#x27;sqlite:///data/penguins.db&#x27;</span>"
      ],
      "text/plain": [
       "Running query in 'sqlite:///data/penguins.db'"
      ]
     },
     "metadata": {},
     "output_type": "display_data"
    },
    {
     "data": {
      "text/html": [
       "<table>\n",
       "    <thead>\n",
       "        <tr>\n",
       "            <th>sex</th>\n",
       "            <th>average_mass_g</th>\n",
       "        </tr>\n",
       "    </thead>\n",
       "    <tbody>\n",
       "        <tr>\n",
       "            <td>None</td>\n",
       "            <td>4005.5555555555557</td>\n",
       "        </tr>\n",
       "        <tr>\n",
       "            <td>FEMALE</td>\n",
       "            <td>3862.2727272727275</td>\n",
       "        </tr>\n",
       "        <tr>\n",
       "            <td>MALE</td>\n",
       "            <td>4545.684523809524</td>\n",
       "        </tr>\n",
       "    </tbody>\n",
       "</table>"
      ],
      "text/plain": [
       "+--------+--------------------+\n",
       "|  sex   |   average_mass_g   |\n",
       "+--------+--------------------+\n",
       "|  None  | 4005.5555555555557 |\n",
       "| FEMALE | 3862.2727272727275 |\n",
       "|  MALE  | 4545.684523809524  |\n",
       "+--------+--------------------+"
      ]
     },
     "execution_count": 7,
     "metadata": {},
     "output_type": "execute_result"
    }
   ],
   "source": [
    "%%sql\n",
    "select\n",
    "    sex,\n",
    "    avg(body_mass_g) as average_mass_g\n",
    "from penguins\n",
    "group by sex;"
   ]
  },
  {
   "cell_type": "markdown",
   "id": "1bd79be9-f8f8-4a8a-aea5-48050d8c051f",
   "metadata": {},
   "source": [
    "-   Put conditions on aggregations using `having`\n",
    "    -   Some SQL dialects allow `where`, but `having` is clearer"
   ]
  },
  {
   "cell_type": "code",
   "execution_count": 8,
   "id": "1a27c808-5e48-4d60-9648-ae58774148f4",
   "metadata": {
    "execution": {
     "iopub.execute_input": "2024-01-19T20:59:55.508337Z",
     "iopub.status.busy": "2024-01-19T20:59:55.507828Z",
     "iopub.status.idle": "2024-01-19T20:59:55.623958Z",
     "shell.execute_reply": "2024-01-19T20:59:55.622810Z"
    }
   },
   "outputs": [
    {
     "data": {
      "text/html": [
       "<span style=\"None\">Running query in &#x27;sqlite:///data/penguins.db&#x27;</span>"
      ],
      "text/plain": [
       "Running query in 'sqlite:///data/penguins.db'"
      ]
     },
     "metadata": {},
     "output_type": "display_data"
    },
    {
     "data": {
      "text/html": [
       "<table>\n",
       "    <thead>\n",
       "        <tr>\n",
       "            <th>sex</th>\n",
       "            <th>average_mass_g</th>\n",
       "        </tr>\n",
       "    </thead>\n",
       "    <tbody>\n",
       "        <tr>\n",
       "            <td>None</td>\n",
       "            <td>4005.5555555555557</td>\n",
       "        </tr>\n",
       "        <tr>\n",
       "            <td>MALE</td>\n",
       "            <td>4545.684523809524</td>\n",
       "        </tr>\n",
       "    </tbody>\n",
       "</table>"
      ],
      "text/plain": [
       "+------+--------------------+\n",
       "| sex  |   average_mass_g   |\n",
       "+------+--------------------+\n",
       "| None | 4005.5555555555557 |\n",
       "| MALE | 4545.684523809524  |\n",
       "+------+--------------------+"
      ]
     },
     "execution_count": 8,
     "metadata": {},
     "output_type": "execute_result"
    }
   ],
   "source": [
    "%%sql\n",
    "select\n",
    "    sex,\n",
    "    avg(body_mass_g) as average_mass_g\n",
    "from penguins\n",
    "group by sex\n",
    "having average_mass_g > 4000.0;"
   ]
  },
  {
   "cell_type": "markdown",
   "id": "52f82e17-9723-4a68-a92a-86b91d1271af",
   "metadata": {},
   "source": [
    "-   If the query doesn't specify an aggregation function, the database can choose what value to return"
   ]
  },
  {
   "cell_type": "code",
   "execution_count": 9,
   "id": "8f69b518-7d6e-4749-b08f-8ef0bb6de141",
   "metadata": {
    "execution": {
     "iopub.execute_input": "2024-01-19T20:59:55.638494Z",
     "iopub.status.busy": "2024-01-19T20:59:55.637806Z",
     "iopub.status.idle": "2024-01-19T20:59:55.769382Z",
     "shell.execute_reply": "2024-01-19T20:59:55.768511Z"
    }
   },
   "outputs": [
    {
     "data": {
      "text/html": [
       "<span style=\"None\">Running query in &#x27;sqlite:///data/penguins.db&#x27;</span>"
      ],
      "text/plain": [
       "Running query in 'sqlite:///data/penguins.db'"
      ]
     },
     "metadata": {},
     "output_type": "display_data"
    },
    {
     "data": {
      "text/html": [
       "<table>\n",
       "    <thead>\n",
       "        <tr>\n",
       "            <th>sex</th>\n",
       "            <th>island</th>\n",
       "        </tr>\n",
       "    </thead>\n",
       "    <tbody>\n",
       "        <tr>\n",
       "            <td>None</td>\n",
       "            <td>Torgersen</td>\n",
       "        </tr>\n",
       "        <tr>\n",
       "            <td>FEMALE</td>\n",
       "            <td>Torgersen</td>\n",
       "        </tr>\n",
       "        <tr>\n",
       "            <td>MALE</td>\n",
       "            <td>Torgersen</td>\n",
       "        </tr>\n",
       "    </tbody>\n",
       "</table>"
      ],
      "text/plain": [
       "+--------+-----------+\n",
       "|  sex   |   island  |\n",
       "+--------+-----------+\n",
       "|  None  | Torgersen |\n",
       "| FEMALE | Torgersen |\n",
       "|  MALE  | Torgersen |\n",
       "+--------+-----------+"
      ]
     },
     "execution_count": 9,
     "metadata": {},
     "output_type": "execute_result"
    }
   ],
   "source": [
    "%%sql\n",
    "select sex, island\n",
    "from penguins\n",
    "group by sex;"
   ]
  },
  {
   "cell_type": "markdown",
   "id": "9bcee96d-e3af-48ef-b6c0-6fbf1eee720c",
   "metadata": {},
   "source": [
    "-   Use `count` to count values in a group"
   ]
  },
  {
   "cell_type": "code",
   "execution_count": 10,
   "id": "ec9fa6b1-1dd9-45d0-ab35-ed3b1d489543",
   "metadata": {
    "execution": {
     "iopub.execute_input": "2024-01-19T20:59:55.773373Z",
     "iopub.status.busy": "2024-01-19T20:59:55.772975Z",
     "iopub.status.idle": "2024-01-19T20:59:55.868713Z",
     "shell.execute_reply": "2024-01-19T20:59:55.867734Z"
    }
   },
   "outputs": [
    {
     "data": {
      "text/html": [
       "<span style=\"None\">Running query in &#x27;sqlite:///data/penguins.db&#x27;</span>"
      ],
      "text/plain": [
       "Running query in 'sqlite:///data/penguins.db'"
      ]
     },
     "metadata": {},
     "output_type": "display_data"
    },
    {
     "data": {
      "text/html": [
       "<table>\n",
       "    <thead>\n",
       "        <tr>\n",
       "            <th>sex</th>\n",
       "            <th>avg_mass_g</th>\n",
       "        </tr>\n",
       "    </thead>\n",
       "    <tbody>\n",
       "        <tr>\n",
       "            <td>None</td>\n",
       "            <td>4005</td>\n",
       "        </tr>\n",
       "        <tr>\n",
       "            <td>FEMALE</td>\n",
       "            <td>3862</td>\n",
       "        </tr>\n",
       "        <tr>\n",
       "            <td>MALE</td>\n",
       "            <td>4545</td>\n",
       "        </tr>\n",
       "    </tbody>\n",
       "</table>"
      ],
      "text/plain": [
       "+--------+------------+\n",
       "|  sex   | avg_mass_g |\n",
       "+--------+------------+\n",
       "|  None  |    4005    |\n",
       "| FEMALE |    3862    |\n",
       "|  MALE  |    4545    |\n",
       "+--------+------------+"
      ]
     },
     "execution_count": 10,
     "metadata": {},
     "output_type": "execute_result"
    }
   ],
   "source": [
    "%%sql\n",
    "select\n",
    "    sex, sum(body_mass_g) / count(body_mass_g) as avg_mass_g\n",
    "from penguins\n",
    "group by sex;"
   ]
  },
  {
   "cell_type": "markdown",
   "id": "6aed13e5-e67c-48fe-ae81-c653d6dce1f6",
   "metadata": {},
   "source": [
    "-   Very common to use `count(*)` since it doesn't matter which column's values we count"
   ]
  },
  {
   "cell_type": "code",
   "execution_count": 11,
   "id": "b11dc9b4-0873-49eb-a1bb-dda5d56e7867",
   "metadata": {
    "execution": {
     "iopub.execute_input": "2024-01-19T20:59:55.874038Z",
     "iopub.status.busy": "2024-01-19T20:59:55.873556Z",
     "iopub.status.idle": "2024-01-19T20:59:55.992150Z",
     "shell.execute_reply": "2024-01-19T20:59:55.990151Z"
    }
   },
   "outputs": [
    {
     "data": {
      "text/html": [
       "<span style=\"None\">Running query in &#x27;sqlite:///data/penguins.db&#x27;</span>"
      ],
      "text/plain": [
       "Running query in 'sqlite:///data/penguins.db'"
      ]
     },
     "metadata": {},
     "output_type": "display_data"
    },
    {
     "data": {
      "text/html": [
       "<table>\n",
       "    <thead>\n",
       "        <tr>\n",
       "            <th>sex</th>\n",
       "            <th>avg_mass_g</th>\n",
       "        </tr>\n",
       "    </thead>\n",
       "    <tbody>\n",
       "        <tr>\n",
       "            <td>None</td>\n",
       "            <td>3277</td>\n",
       "        </tr>\n",
       "        <tr>\n",
       "            <td>FEMALE</td>\n",
       "            <td>3862</td>\n",
       "        </tr>\n",
       "        <tr>\n",
       "            <td>MALE</td>\n",
       "            <td>4545</td>\n",
       "        </tr>\n",
       "    </tbody>\n",
       "</table>"
      ],
      "text/plain": [
       "+--------+------------+\n",
       "|  sex   | avg_mass_g |\n",
       "+--------+------------+\n",
       "|  None  |    3277    |\n",
       "| FEMALE |    3862    |\n",
       "|  MALE  |    4545    |\n",
       "+--------+------------+"
      ]
     },
     "execution_count": 11,
     "metadata": {},
     "output_type": "execute_result"
    }
   ],
   "source": [
    "%%sql\n",
    "select\n",
    "    sex, sum(body_mass_g) / count(*) as avg_mass_g\n",
    "from penguins\n",
    "group by sex;"
   ]
  },
  {
   "cell_type": "markdown",
   "id": "cc933cc7-82f9-491c-962b-70b9a74768e0",
   "metadata": {},
   "source": [
    "-   And yes, you can group by multiple columns\n",
    "    -   But grouping by integer or real fields doesn't usually make sense"
   ]
  },
  {
   "cell_type": "code",
   "execution_count": 12,
   "id": "8176b5af-fd78-4b56-a12e-54f2a9dde9dd",
   "metadata": {
    "execution": {
     "iopub.execute_input": "2024-01-19T20:59:55.998666Z",
     "iopub.status.busy": "2024-01-19T20:59:55.998253Z",
     "iopub.status.idle": "2024-01-19T20:59:56.119921Z",
     "shell.execute_reply": "2024-01-19T20:59:56.117977Z"
    }
   },
   "outputs": [
    {
     "data": {
      "text/html": [
       "<span style=\"None\">Running query in &#x27;sqlite:///data/penguins.db&#x27;</span>"
      ],
      "text/plain": [
       "Running query in 'sqlite:///data/penguins.db'"
      ]
     },
     "metadata": {},
     "output_type": "display_data"
    },
    {
     "data": {
      "text/html": [
       "<table>\n",
       "    <thead>\n",
       "        <tr>\n",
       "            <th>sex</th>\n",
       "            <th>island</th>\n",
       "            <th>avg(body_mass_g)</th>\n",
       "        </tr>\n",
       "    </thead>\n",
       "    <tbody>\n",
       "        <tr>\n",
       "            <td>None</td>\n",
       "            <td>Biscoe</td>\n",
       "            <td>4587.5</td>\n",
       "        </tr>\n",
       "        <tr>\n",
       "            <td>FEMALE</td>\n",
       "            <td>Biscoe</td>\n",
       "            <td>4319.375</td>\n",
       "        </tr>\n",
       "        <tr>\n",
       "            <td>MALE</td>\n",
       "            <td>Biscoe</td>\n",
       "            <td>5104.518072289156</td>\n",
       "        </tr>\n",
       "        <tr>\n",
       "            <td>None</td>\n",
       "            <td>Dream</td>\n",
       "            <td>2975.0</td>\n",
       "        </tr>\n",
       "        <tr>\n",
       "            <td>FEMALE</td>\n",
       "            <td>Dream</td>\n",
       "            <td>3446.311475409836</td>\n",
       "        </tr>\n",
       "        <tr>\n",
       "            <td>MALE</td>\n",
       "            <td>Dream</td>\n",
       "            <td>3987.0967741935483</td>\n",
       "        </tr>\n",
       "        <tr>\n",
       "            <td>None</td>\n",
       "            <td>Torgersen</td>\n",
       "            <td>3681.25</td>\n",
       "        </tr>\n",
       "        <tr>\n",
       "            <td>FEMALE</td>\n",
       "            <td>Torgersen</td>\n",
       "            <td>3395.8333333333335</td>\n",
       "        </tr>\n",
       "        <tr>\n",
       "            <td>MALE</td>\n",
       "            <td>Torgersen</td>\n",
       "            <td>4034.782608695652</td>\n",
       "        </tr>\n",
       "    </tbody>\n",
       "</table>"
      ],
      "text/plain": [
       "+--------+-----------+--------------------+\n",
       "|  sex   |   island  |  avg(body_mass_g)  |\n",
       "+--------+-----------+--------------------+\n",
       "|  None  |   Biscoe  |       4587.5       |\n",
       "| FEMALE |   Biscoe  |      4319.375      |\n",
       "|  MALE  |   Biscoe  | 5104.518072289156  |\n",
       "|  None  |   Dream   |       2975.0       |\n",
       "| FEMALE |   Dream   | 3446.311475409836  |\n",
       "|  MALE  |   Dream   | 3987.0967741935483 |\n",
       "|  None  | Torgersen |      3681.25       |\n",
       "| FEMALE | Torgersen | 3395.8333333333335 |\n",
       "|  MALE  | Torgersen | 4034.782608695652  |\n",
       "+--------+-----------+--------------------+"
      ]
     },
     "execution_count": 12,
     "metadata": {},
     "output_type": "execute_result"
    }
   ],
   "source": [
    "%%sql\n",
    "select\n",
    "    sex, island, avg(body_mass_g)\n",
    "from penguins\n",
    "group by sex, island\n",
    "order by island asc, sex asc;"
   ]
  }
 ],
 "metadata": {
  "kernelspec": {
   "display_name": "Python 3 (ipykernel)",
   "language": "python",
   "name": "python3"
  },
  "language_info": {
   "codemirror_mode": {
    "name": "ipython",
    "version": 3
   },
   "file_extension": ".py",
   "mimetype": "text/x-python",
   "name": "python",
   "nbconvert_exporter": "python",
   "pygments_lexer": "ipython3",
   "version": "3.12.1"
  }
 },
 "nbformat": 4,
 "nbformat_minor": 5
}
