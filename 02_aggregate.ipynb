{
 "cells": [
  {
   "cell_type": "markdown",
   "id": "2caca289-3ed0-4625-95d6-adf87b7a9d52",
   "metadata": {},
   "source": [
    "# SQL Tutorial 2: Aggregation"
   ]
  },
  {
   "cell_type": "markdown",
   "id": "da65aea9-7a6a-4b69-8250-24cef4cbe175",
   "metadata": {},
   "source": [
    "- Let's set up with a database of experimental plate assays"
   ]
  },
  {
   "cell_type": "code",
   "execution_count": 1,
   "id": "099011ba-971f-4319-b3d8-9764d13c49d7",
   "metadata": {},
   "outputs": [],
   "source": [
    "%load_ext sql\n",
    "%config SqlMagic.autolimit = 0\n",
    "%config SqlMagic.displaylimit = 0"
   ]
  }
 ],
 "metadata": {
  "kernelspec": {
   "display_name": "Python 3 (ipykernel)",
   "language": "python",
   "name": "python3"
  },
  "language_info": {
   "codemirror_mode": {
    "name": "ipython",
    "version": 3
   },
   "file_extension": ".py",
   "mimetype": "text/x-python",
   "name": "python",
   "nbconvert_exporter": "python",
   "pygments_lexer": "ipython3",
   "version": "3.12.1"
  }
 },
 "nbformat": 4,
 "nbformat_minor": 5
}
